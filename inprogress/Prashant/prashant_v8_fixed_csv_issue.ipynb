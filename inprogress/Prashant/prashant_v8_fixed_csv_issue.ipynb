{
 "cells": [
  {
   "cell_type": "code",
   "execution_count": 1,
   "id": "e3ec6cec",
   "metadata": {
    "_cell_guid": "b1076dfc-b9ad-4769-8c92-a6c4dae69d19",
    "_uuid": "8f2839f25d086af736a60e9eeb907d3b93b6e0e5",
    "execution": {
     "iopub.execute_input": "2025-03-10T03:47:46.390231Z",
     "iopub.status.busy": "2025-03-10T03:47:46.389969Z",
     "iopub.status.idle": "2025-03-10T03:47:47.076239Z",
     "shell.execute_reply": "2025-03-10T03:47:47.075246Z"
    },
    "papermill": {
     "duration": 0.691788,
     "end_time": "2025-03-10T03:47:47.077590",
     "exception": false,
     "start_time": "2025-03-10T03:47:46.385802",
     "status": "completed"
    },
    "tags": []
   },
   "outputs": [
    {
     "name": "stdout",
     "output_type": "stream",
     "text": [
      "/kaggle/input/deep-learning-spring-2025-project-1/cifar_test_nolabel.pkl\n",
      "/kaggle/input/deep-learning-spring-2025-project-1/cifar-10-python/cifar-10-batches-py/data_batch_1\n",
      "/kaggle/input/deep-learning-spring-2025-project-1/cifar-10-python/cifar-10-batches-py/data_batch_2\n",
      "/kaggle/input/deep-learning-spring-2025-project-1/cifar-10-python/cifar-10-batches-py/batches.meta\n",
      "/kaggle/input/deep-learning-spring-2025-project-1/cifar-10-python/cifar-10-batches-py/test_batch\n",
      "/kaggle/input/deep-learning-spring-2025-project-1/cifar-10-python/cifar-10-batches-py/data_batch_3\n",
      "/kaggle/input/deep-learning-spring-2025-project-1/cifar-10-python/cifar-10-batches-py/data_batch_5\n",
      "/kaggle/input/deep-learning-spring-2025-project-1/cifar-10-python/cifar-10-batches-py/data_batch_4\n",
      "/kaggle/input/deep-learning-spring-2025-project-1/cifar-10-python/cifar-10-batches-py/readme.html\n"
     ]
    }
   ],
   "source": [
    "# This Python 3 environment comes with many helpful analytics libraries installed\n",
    "# It is defined by the kaggle/python Docker image: https://github.com/kaggle/docker-python\n",
    "# For example, here's several helpful packages to load\n",
    "\n",
    "import numpy as np # linear algebra\n",
    "import pandas as pd # data processing, CSV file I/O (e.g. pd.read_csv)\n",
    "\n",
    "# Input data files are available in the read-only \"../input/\" directory\n",
    "# For example, running this (by clicking run or pressing Shift+Enter) will list all files under the input directory\n",
    "\n",
    "import os\n",
    "for dirname, _, filenames in os.walk('/kaggle/input'):\n",
    "    for filename in filenames:\n",
    "        print(os.path.join(dirname, filename))\n",
    "\n",
    "# You can write up to 20GB to the current directory (/kaggle/working/) that gets preserved as output when you create a version using \"Save & Run All\" \n",
    "# You can also write temporary files to /kaggle/temp/, but they won't be saved outside of the current session"
   ]
  },
  {
   "cell_type": "code",
   "execution_count": 2,
   "id": "864b5378",
   "metadata": {
    "execution": {
     "iopub.execute_input": "2025-03-10T03:47:47.084245Z",
     "iopub.status.busy": "2025-03-10T03:47:47.083914Z",
     "iopub.status.idle": "2025-03-10T03:47:56.398404Z",
     "shell.execute_reply": "2025-03-10T03:47:56.397446Z"
    },
    "papermill": {
     "duration": 9.319216,
     "end_time": "2025-03-10T03:47:56.399893",
     "exception": false,
     "start_time": "2025-03-10T03:47:47.080677",
     "status": "completed"
    },
    "tags": []
   },
   "outputs": [
    {
     "name": "stdout",
     "output_type": "stream",
     "text": [
      "[b'airplane', b'automobile', b'bird', b'cat', b'deer', b'dog', b'frog', b'horse', b'ship', b'truck']\n",
      "50000\n",
      "50000\n"
     ]
    }
   ],
   "source": [
    "import pandas as pd\n",
    "import pickle\n",
    "import random\n",
    "from torch.utils.data import DataLoader, random_split\n",
    "from torchvision import transforms\n",
    "\n",
    "def unpickle(file):\n",
    "    with open(file, 'rb') as fo:\n",
    "        dict = pickle.load(fo, encoding='bytes')\n",
    "    return dict\n",
    "\n",
    "classes_dict = unpickle(\"/kaggle/input/deep-learning-spring-2025-project-1/cifar-10-python/cifar-10-batches-py/batches.meta\")\n",
    "label_names = classes_dict[b'label_names']\n",
    "print(label_names)\n",
    "\n",
    "# Load training data in batches, then combine\n",
    "training_data = []\n",
    "training_labels = []\n",
    "for i in range(1, 6):\n",
    "    training_fp = \"/kaggle/input/deep-learning-spring-2025-project-1/cifar-10-python/cifar-10-batches-py/data_batch_{}\".format(i)\n",
    "    batch = unpickle(training_fp)\n",
    "    batch_data = batch[b'data']\n",
    "    batch_labels = batch[b'labels']\n",
    "    for i in range(len(batch_data)):\n",
    "        training_data.append(batch_data[i])\n",
    "        training_labels.append(batch_labels[i])\n",
    "\n",
    "print(len(training_data))\n",
    "print(len(training_labels))"
   ]
  },
  {
   "cell_type": "code",
   "execution_count": 3,
   "id": "27bd49e0",
   "metadata": {
    "execution": {
     "iopub.execute_input": "2025-03-10T03:47:56.406642Z",
     "iopub.status.busy": "2025-03-10T03:47:56.406306Z",
     "iopub.status.idle": "2025-03-10T03:47:56.409352Z",
     "shell.execute_reply": "2025-03-10T03:47:56.408786Z"
    },
    "papermill": {
     "duration": 0.007535,
     "end_time": "2025-03-10T03:47:56.410407",
     "exception": false,
     "start_time": "2025-03-10T03:47:56.402872",
     "status": "completed"
    },
    "tags": []
   },
   "outputs": [],
   "source": [
    "# def convert_to_rgb_tensor(image):\n",
    "#     rgb_image = np.zeros((32, 32, 3), dtype=np.uint8)\n",
    "#     red_idx, green_idx, blue_idx = 0, 1024, 2048\n",
    "#     for row in range(0, 32):\n",
    "#         for col in range(0, 32):\n",
    "#             rgb_image[row, col] = [image[red_idx], image[green_idx], image[blue_idx]]\n",
    "#             red_idx += 1\n",
    "#             green_idx += 1\n",
    "#             blue_idx += 1\n",
    "    \n",
    "#     rgb_tensor = transforms.ToTensor()(rgb_image)\n",
    "#     return rgb_tensor\n",
    "\n",
    "# Test on Random Image\n",
    "# rand_num = random.randint(0, 10000)\n",
    "# rand_image = data_batch_1[b'data'][rand_num]\n",
    "# rand_image_rgb = convert_to_rgb(rand_image)\n",
    "\n",
    "# rand_img_data = Image.fromarray(rand_image_rgb, 'RGB')\n",
    "# img_data.save('test.png')\n",
    "# label = data_batch_1[b'labels'][rand_num]\n",
    "# print('Expected Image: ', label, '-', label_names[label])\n",
    "\n",
    "# ADD VISUAL DISPLAY OF IMAGE HERE"
   ]
  },
  {
   "cell_type": "code",
   "execution_count": 4,
   "id": "3547d6a1",
   "metadata": {
    "execution": {
     "iopub.execute_input": "2025-03-10T03:47:56.416664Z",
     "iopub.status.busy": "2025-03-10T03:47:56.416454Z",
     "iopub.status.idle": "2025-03-10T03:47:58.125973Z",
     "shell.execute_reply": "2025-03-10T03:47:58.124967Z"
    },
    "papermill": {
     "duration": 1.714205,
     "end_time": "2025-03-10T03:47:58.127394",
     "exception": false,
     "start_time": "2025-03-10T03:47:56.413189",
     "status": "completed"
    },
    "tags": []
   },
   "outputs": [
    {
     "name": "stdout",
     "output_type": "stream",
     "text": [
      "(3072,)\n",
      "(32, 32, 3)\n",
      "torch.Size([3, 32, 32])\n"
     ]
    }
   ],
   "source": [
    "# training_data = [convert_to_rgb_tensor(image) for image in training_data]\n",
    "# training_data = np.array(training_data)\n",
    "# training_labels = np.array(training_labels)\n",
    "\n",
    "print(training_data[0].shape)\n",
    "# Reshape the array to (N, 3, 32, 32), then rearrange to (N, 32, 32, 3)\n",
    "training_data = np.array(training_data).reshape(-1, 3, 32, 32).transpose(0, 2, 3, 1)\n",
    "print(training_data[0].shape)\n",
    "\n",
    "training_labels = np.array(training_labels)\n",
    "\n",
    "# Transformation to tensor will switch to (3, 32, 32) - default convention in PyTorch\n",
    "training_data = [(transforms.ToTensor()(image), label) for image, label in zip(training_data, training_labels)]\n",
    "print(training_data[0][0].shape)"
   ]
  },
  {
   "cell_type": "code",
   "execution_count": 5,
   "id": "a719cddc",
   "metadata": {
    "execution": {
     "iopub.execute_input": "2025-03-10T03:47:58.134392Z",
     "iopub.status.busy": "2025-03-10T03:47:58.134143Z",
     "iopub.status.idle": "2025-03-10T03:47:58.152009Z",
     "shell.execute_reply": "2025-03-10T03:47:58.151193Z"
    },
    "papermill": {
     "duration": 0.022854,
     "end_time": "2025-03-10T03:47:58.153494",
     "exception": false,
     "start_time": "2025-03-10T03:47:58.130640",
     "status": "completed"
    },
    "tags": []
   },
   "outputs": [],
   "source": [
    "training_count = int(0.8 * len(training_data))\n",
    "validation_count = int(0.2 * len(training_data))\n",
    "\n",
    "training_data, validation_data = random_split(training_data, [training_count, validation_count])"
   ]
  },
  {
   "cell_type": "code",
   "execution_count": 6,
   "id": "6fa51474",
   "metadata": {
    "execution": {
     "iopub.execute_input": "2025-03-10T03:47:58.161268Z",
     "iopub.status.busy": "2025-03-10T03:47:58.161022Z",
     "iopub.status.idle": "2025-03-10T03:47:58.173835Z",
     "shell.execute_reply": "2025-03-10T03:47:58.173213Z"
    },
    "papermill": {
     "duration": 0.018038,
     "end_time": "2025-03-10T03:47:58.175129",
     "exception": false,
     "start_time": "2025-03-10T03:47:58.157091",
     "status": "completed"
    },
    "tags": []
   },
   "outputs": [],
   "source": [
    "import torch\n",
    "import torch.nn as nn\n",
    "import torch.nn.functional as F\n",
    "from torchsummary import summary\n",
    "\n",
    "#Basic Residual Block\n",
    "class ResidualBlock(nn.Module):\n",
    "    def __init__(self, in_channels, out_channels, stride=1):\n",
    "        super(ResidualBlock, self).__init__()\n",
    "        self.conv1 = nn.Conv2d(in_channels, out_channels, kernel_size=3, stride=stride, padding=1, bias=False)\n",
    "        self.bn1 = nn.BatchNorm2d(out_channels)\n",
    "        self.relu = nn.ReLU(inplace=True)\n",
    "        self.conv2 = nn.Conv2d(out_channels, out_channels, kernel_size=3, stride=1, padding=1, bias=False)\n",
    "        self.bn2 = nn.BatchNorm2d(out_channels)\n",
    "        \n",
    "        #when in_channels != out_channels\n",
    "        self.shortcut = nn.Sequential()\n",
    "        if stride != 1 or in_channels != out_channels:\n",
    "            self.shortcut = nn.Sequential(\n",
    "                nn.Conv2d(in_channels, out_channels, kernel_size=1, stride=stride, bias=False),\n",
    "                nn.BatchNorm2d(out_channels)\n",
    "            )\n",
    "        self.dropout = nn.Dropout(0.2)\n",
    "        \n",
    "    def forward(self, x):\n",
    "        out = F.relu(self.bn1(self.conv1(x)))\n",
    "        out = self.bn2(self.conv2(out))\n",
    "        out += self.shortcut(x)  #residual connection\n",
    "        out = self.relu(out)\n",
    "        out = self.dropout(out)\n",
    "        return out\n",
    "\n",
    "class SimpleResNet(nn.Module):\n",
    "    def __init__(self, num_classes=10):\n",
    "        super(SimpleResNet, self).__init__()\n",
    "        self.conv1 = nn.Conv2d(3, 64, kernel_size=3, stride=1, padding=1, bias=False)\n",
    "        self.bn1 = nn.BatchNorm2d(64)\n",
    "        self.relu = nn.ReLU(inplace=True)\n",
    "        self.layer1 = ResidualBlock(64, 64, stride=2)\n",
    "        self.layer2 = ResidualBlock(64, 128, stride=2)\n",
    "        self.layer3 = ResidualBlock(128, 256, stride=2)\n",
    "        self.avg_pool = nn.AdaptiveAvgPool2d((1, 1))\n",
    "        self.dropout = nn.Dropout(0.2)\n",
    "        self.fc = nn.Linear(256, num_classes)\n",
    "\n",
    "    def forward(self, x):\n",
    "        out = self.conv1(x)\n",
    "        out = self.bn1(out)\n",
    "        out = self.relu(out)\n",
    "        out = self.layer1(out)\n",
    "        out = self.layer2(out)\n",
    "        out = self.layer3(out)\n",
    "        out = self.avg_pool(out)\n",
    "        out = self.dropout(out)\n",
    "        out = torch.flatten(out, 1)\n",
    "        return self.fc(out)"
   ]
  },
  {
   "cell_type": "code",
   "execution_count": 7,
   "id": "91f948a3",
   "metadata": {
    "execution": {
     "iopub.execute_input": "2025-03-10T03:47:58.181461Z",
     "iopub.status.busy": "2025-03-10T03:47:58.181257Z",
     "iopub.status.idle": "2025-03-10T03:47:59.211241Z",
     "shell.execute_reply": "2025-03-10T03:47:59.210077Z"
    },
    "papermill": {
     "duration": 1.034602,
     "end_time": "2025-03-10T03:47:59.212552",
     "exception": false,
     "start_time": "2025-03-10T03:47:58.177950",
     "status": "completed"
    },
    "tags": []
   },
   "outputs": [
    {
     "name": "stdout",
     "output_type": "stream",
     "text": [
      "----------------------------------------------------------------\n",
      "        Layer (type)               Output Shape         Param #\n",
      "================================================================\n",
      "            Conv2d-1           [-1, 64, 32, 32]           1,728\n",
      "       BatchNorm2d-2           [-1, 64, 32, 32]             128\n",
      "              ReLU-3           [-1, 64, 32, 32]               0\n",
      "            Conv2d-4           [-1, 64, 16, 16]          36,864\n",
      "       BatchNorm2d-5           [-1, 64, 16, 16]             128\n",
      "            Conv2d-6           [-1, 64, 16, 16]          36,864\n",
      "       BatchNorm2d-7           [-1, 64, 16, 16]             128\n",
      "            Conv2d-8           [-1, 64, 16, 16]           4,096\n",
      "       BatchNorm2d-9           [-1, 64, 16, 16]             128\n",
      "             ReLU-10           [-1, 64, 16, 16]               0\n",
      "          Dropout-11           [-1, 64, 16, 16]               0\n",
      "    ResidualBlock-12           [-1, 64, 16, 16]               0\n",
      "           Conv2d-13            [-1, 128, 8, 8]          73,728\n",
      "      BatchNorm2d-14            [-1, 128, 8, 8]             256\n",
      "           Conv2d-15            [-1, 128, 8, 8]         147,456\n",
      "      BatchNorm2d-16            [-1, 128, 8, 8]             256\n",
      "           Conv2d-17            [-1, 128, 8, 8]           8,192\n",
      "      BatchNorm2d-18            [-1, 128, 8, 8]             256\n",
      "             ReLU-19            [-1, 128, 8, 8]               0\n",
      "          Dropout-20            [-1, 128, 8, 8]               0\n",
      "    ResidualBlock-21            [-1, 128, 8, 8]               0\n",
      "           Conv2d-22            [-1, 256, 4, 4]         294,912\n",
      "      BatchNorm2d-23            [-1, 256, 4, 4]             512\n",
      "           Conv2d-24            [-1, 256, 4, 4]         589,824\n",
      "      BatchNorm2d-25            [-1, 256, 4, 4]             512\n",
      "           Conv2d-26            [-1, 256, 4, 4]          32,768\n",
      "      BatchNorm2d-27            [-1, 256, 4, 4]             512\n",
      "             ReLU-28            [-1, 256, 4, 4]               0\n",
      "          Dropout-29            [-1, 256, 4, 4]               0\n",
      "    ResidualBlock-30            [-1, 256, 4, 4]               0\n",
      "AdaptiveAvgPool2d-31            [-1, 256, 1, 1]               0\n",
      "          Dropout-32            [-1, 256, 1, 1]               0\n",
      "           Linear-33                   [-1, 10]           2,570\n",
      "================================================================\n",
      "Total params: 1,231,818\n",
      "Trainable params: 1,231,818\n",
      "Non-trainable params: 0\n",
      "----------------------------------------------------------------\n",
      "Input size (MB): 0.01\n",
      "Forward/backward pass size (MB): 3.47\n",
      "Params size (MB): 4.70\n",
      "Estimated Total Size (MB): 8.18\n",
      "----------------------------------------------------------------\n"
     ]
    }
   ],
   "source": [
    "import torch.optim as optim\n",
    "\n",
    "device = torch.device(\"cuda\" if torch.cuda.is_available() else \"cpu\")\n",
    "model = SimpleResNet().to(device)\n",
    "summary(model, (3, 32, 32))"
   ]
  },
  {
   "cell_type": "code",
   "execution_count": 8,
   "id": "0418254c",
   "metadata": {
    "execution": {
     "iopub.execute_input": "2025-03-10T03:47:59.219834Z",
     "iopub.status.busy": "2025-03-10T03:47:59.219594Z",
     "iopub.status.idle": "2025-03-10T03:53:54.745684Z",
     "shell.execute_reply": "2025-03-10T03:53:54.744548Z"
    },
    "papermill": {
     "duration": 355.535725,
     "end_time": "2025-03-10T03:53:54.751640",
     "exception": false,
     "start_time": "2025-03-10T03:47:59.215915",
     "status": "completed"
    },
    "tags": []
   },
   "outputs": [
    {
     "name": "stdout",
     "output_type": "stream",
     "text": [
      "Epoch 1 - Training Loss: 1.3684276593759799, Training Accuracy: 49.7325%, Validation Accuracy: 52.97%\n",
      "Epoch 2 - Training Loss: 0.9598509202749965, Training Accuracy: 65.955%, Validation Accuracy: 66.21%\n",
      "Epoch 3 - Training Loss: 0.7882766875976952, Training Accuracy: 72.0575%, Validation Accuracy: 71.02%\n",
      "Epoch 4 - Training Loss: 0.6707721115491642, Training Accuracy: 76.175%, Validation Accuracy: 66.87%\n",
      "Epoch 5 - Training Loss: 0.5822919641439908, Training Accuracy: 79.6225%, Validation Accuracy: 72.46%\n",
      "Epoch 6 - Training Loss: 0.511318241159756, Training Accuracy: 81.9975%, Validation Accuracy: 78.23%\n",
      "Epoch 7 - Training Loss: 0.45606026677087474, Training Accuracy: 83.8925%, Validation Accuracy: 74.06%\n",
      "Epoch 8 - Training Loss: 0.39945117543680597, Training Accuracy: 85.7875%, Validation Accuracy: 76.78%\n",
      "Epoch 9 - Training Loss: 0.34610083465949415, Training Accuracy: 87.7675%, Validation Accuracy: 79.42%\n",
      "Epoch 10 - Training Loss: 0.3122431385917024, Training Accuracy: 88.895%, Validation Accuracy: 80.48%\n",
      "Epoch 11 - Training Loss: 0.2755338332047478, Training Accuracy: 90.3075%, Validation Accuracy: 80.09%\n",
      "Epoch 12 - Training Loss: 0.23936156057321226, Training Accuracy: 91.5875%, Validation Accuracy: 74.72%\n",
      "Epoch 13 - Training Loss: 0.21902536841246267, Training Accuracy: 92.1825%, Validation Accuracy: 81.38%\n",
      "Epoch 14 - Training Loss: 0.19066482568129944, Training Accuracy: 93.1025%, Validation Accuracy: 74.03%\n",
      "Epoch 15 - Training Loss: 0.1726207252318105, Training Accuracy: 93.865%, Validation Accuracy: 78.5%\n",
      "Epoch 16 - Training Loss: 0.15231910057532522, Training Accuracy: 94.675%, Validation Accuracy: 80.26%\n",
      "Epoch 17 - Training Loss: 0.14083182408263129, Training Accuracy: 95.095%, Validation Accuracy: 81.73%\n",
      "Epoch 18 - Training Loss: 0.1283468616346772, Training Accuracy: 95.33%, Validation Accuracy: 81.39%\n",
      "Epoch 19 - Training Loss: 0.13067910218010315, Training Accuracy: 95.35%, Validation Accuracy: 81.3%\n",
      "Epoch 20 - Training Loss: 0.11356476509866242, Training Accuracy: 95.97%, Validation Accuracy: 81.57%\n",
      "Epoch 21 - Training Loss: 0.10582135808758271, Training Accuracy: 96.1875%, Validation Accuracy: 80.99%\n",
      "Epoch 22 - Training Loss: 0.10092501901090145, Training Accuracy: 96.4975%, Validation Accuracy: 82.06%\n",
      "Epoch 23 - Training Loss: 0.09146736881817683, Training Accuracy: 96.695%, Validation Accuracy: 81.98%\n",
      "Epoch 24 - Training Loss: 0.09757970535931305, Training Accuracy: 96.5775%, Validation Accuracy: 81.01%\n",
      "Epoch 25 - Training Loss: 0.08533152035726145, Training Accuracy: 97.0425%, Validation Accuracy: 82.32%\n",
      "Epoch 26 - Training Loss: 0.0758726389858479, Training Accuracy: 97.315%, Validation Accuracy: 80.73%\n",
      "Epoch 27 - Training Loss: 0.08277081239956637, Training Accuracy: 97.0725%, Validation Accuracy: 82.07%\n",
      "Epoch 28 - Training Loss: 0.07517617828429887, Training Accuracy: 97.3925%, Validation Accuracy: 80.95%\n",
      "Epoch 29 - Training Loss: 0.07723517111315133, Training Accuracy: 97.22%, Validation Accuracy: 82.87%\n",
      "Epoch 30 - Training Loss: 0.06794490478040216, Training Accuracy: 97.645%, Validation Accuracy: 83.05%\n",
      "Epoch 31 - Training Loss: 0.07241034429347791, Training Accuracy: 97.4825%, Validation Accuracy: 82.26%\n",
      "Epoch 32 - Training Loss: 0.06459818154085463, Training Accuracy: 97.73%, Validation Accuracy: 82.69%\n",
      "Epoch 33 - Training Loss: 0.06342198492619938, Training Accuracy: 97.745%, Validation Accuracy: 76.92%\n",
      "Epoch 34 - Training Loss: 0.06651334282153616, Training Accuracy: 97.7275%, Validation Accuracy: 82.13%\n",
      "Epoch 35 - Training Loss: 0.05999529937181038, Training Accuracy: 97.8275%, Validation Accuracy: 81.53%\n",
      "Epoch 36 - Training Loss: 0.061115847491382505, Training Accuracy: 97.865%, Validation Accuracy: 82.42%\n",
      "Epoch 37 - Training Loss: 0.06012955778977646, Training Accuracy: 97.9%, Validation Accuracy: 82.43%\n",
      "Epoch 38 - Training Loss: 0.056130558985788316, Training Accuracy: 98.0275%, Validation Accuracy: 81.84%\n",
      "Epoch 39 - Training Loss: 0.055835402070041805, Training Accuracy: 98.045%, Validation Accuracy: 81.77%\n",
      "Epoch 40 - Training Loss: 0.06059424384845236, Training Accuracy: 97.94%, Validation Accuracy: 82.12%\n",
      "Epoch 41 - Training Loss: 0.049683411120654296, Training Accuracy: 98.2725%, Validation Accuracy: 82.62%\n",
      "Epoch 42 - Training Loss: 0.049194561985556405, Training Accuracy: 98.2925%, Validation Accuracy: 82.59%\n",
      "Epoch 43 - Training Loss: 0.05301976322044675, Training Accuracy: 98.185%, Validation Accuracy: 82.33%\n",
      "Epoch 44 - Training Loss: 0.04991868097549334, Training Accuracy: 98.2625%, Validation Accuracy: 82.87%\n",
      "Epoch 45 - Training Loss: 0.046097416234330627, Training Accuracy: 98.45%, Validation Accuracy: 81.56%\n",
      "Epoch 46 - Training Loss: 0.04732965988020737, Training Accuracy: 98.3125%, Validation Accuracy: 83.26%\n",
      "Epoch 47 - Training Loss: 0.050322000150785993, Training Accuracy: 98.24%, Validation Accuracy: 81.81%\n",
      "Epoch 48 - Training Loss: 0.04867070873592275, Training Accuracy: 98.2725%, Validation Accuracy: 82.15%\n",
      "Epoch 49 - Training Loss: 0.04282064368121159, Training Accuracy: 98.4875%, Validation Accuracy: 82.87%\n",
      "Epoch 50 - Training Loss: 0.04146628232878118, Training Accuracy: 98.52%, Validation Accuracy: 83.18%\n",
      "Training complete!\n"
     ]
    }
   ],
   "source": [
    "criterion = nn.CrossEntropyLoss()\n",
    "optimizer = optim.Adam(model.parameters(), lr=0.001)\n",
    "\n",
    "# DataLoaders for Training, Validation\n",
    "training_loader = DataLoader(training_data, batch_size=128, shuffle=True, num_workers=4)\n",
    "validation_loader = DataLoader(validation_data, batch_size=128, shuffle=False, num_workers=4)\n",
    "\n",
    "# Training loop\n",
    "num_epochs = 50\n",
    "for epoch in range(num_epochs):\n",
    "    \n",
    "    model.train()\n",
    "    running_loss = 0.0\n",
    "    total_train_predictions = 0\n",
    "    total_train_correct = 0\n",
    "\n",
    "    for images, labels in training_loader:\n",
    "        images, labels = images.to(device), labels.to(device)\n",
    "        \n",
    "        # Forward pass\n",
    "        outputs = model(images)\n",
    "        loss = criterion(outputs, labels)\n",
    "\n",
    "        # Backward and optimize\n",
    "        optimizer.zero_grad()\n",
    "        loss.backward()\n",
    "        optimizer.step()\n",
    "\n",
    "        running_loss += loss.item()\n",
    "\n",
    "        _, predictions = torch.max(outputs, dim=1)\n",
    "        \n",
    "        num_predictions = labels.size(dim=0)\n",
    "        num_correct = (predictions == labels).sum().item()\n",
    "        \n",
    "        total_train_predictions += num_predictions\n",
    "        total_train_correct += num_correct\n",
    "\n",
    "    model.eval()\n",
    "    total_val_predictions = 0\n",
    "    total_val_correct = 0\n",
    "\n",
    "    for images, labels in validation_loader:\n",
    "        images, labels = images.to(device), labels.to(device)\n",
    "        outputs = model(images)\n",
    "\n",
    "        _, predictions = torch.max(outputs, dim=1)\n",
    "\n",
    "        num_predictions = labels.size(dim=0)\n",
    "        num_correct = (predictions == labels).sum().item()\n",
    "\n",
    "        total_val_predictions += num_predictions\n",
    "        total_val_correct += num_correct\n",
    "\n",
    "    print('Epoch {} - Training Loss: {}, Training Accuracy: {}%, Validation Accuracy: {}%'.format(epoch+1, running_loss / len(training_loader), total_train_correct * 100 / total_train_predictions, total_val_correct * 100 / total_val_predictions))\n",
    "\n",
    "print(\"Training complete!\")"
   ]
  },
  {
   "cell_type": "code",
   "execution_count": 9,
   "id": "77b1cf4d",
   "metadata": {
    "execution": {
     "iopub.execute_input": "2025-03-10T03:53:54.763052Z",
     "iopub.status.busy": "2025-03-10T03:53:54.762759Z",
     "iopub.status.idle": "2025-03-10T03:53:55.390462Z",
     "shell.execute_reply": "2025-03-10T03:53:55.389337Z"
    },
    "papermill": {
     "duration": 0.634961,
     "end_time": "2025-03-10T03:53:55.391943",
     "exception": false,
     "start_time": "2025-03-10T03:53:54.756982",
     "status": "completed"
    },
    "tags": []
   },
   "outputs": [
    {
     "name": "stdout",
     "output_type": "stream",
     "text": [
      "(32, 32, 3)\n"
     ]
    }
   ],
   "source": [
    "# Load test dataset\n",
    "testing_fp = '/kaggle/input/deep-learning-spring-2025-project-1/cifar_test_nolabel.pkl'\n",
    "testing_batch = unpickle(testing_fp)\n",
    "testing_data = testing_batch[b'data']\n",
    "\n",
    "print(testing_data[0].shape)"
   ]
  },
  {
   "cell_type": "code",
   "execution_count": 10,
   "id": "68d5a342",
   "metadata": {
    "execution": {
     "iopub.execute_input": "2025-03-10T03:53:55.403814Z",
     "iopub.status.busy": "2025-03-10T03:53:55.403555Z",
     "iopub.status.idle": "2025-03-10T03:53:55.683261Z",
     "shell.execute_reply": "2025-03-10T03:53:55.682471Z"
    },
    "papermill": {
     "duration": 0.286736,
     "end_time": "2025-03-10T03:53:55.684538",
     "exception": false,
     "start_time": "2025-03-10T03:53:55.397802",
     "status": "completed"
    },
    "tags": []
   },
   "outputs": [
    {
     "data": {
      "image/png": "[encoded data removed]",
      "text/plain": [
       "<Figure size 2000x400 with 10 Axes>"
      ]
     },
     "metadata": {},
     "output_type": "display_data"
    }
   ],
   "source": [
    "# Let's visualize some!\n",
    "\n",
    "import matplotlib.pyplot as plt\n",
    "\n",
    "# [0: airplane, 1: automobile, 2: bird, 3: cat, 4: deer, 5: dog, 6: frog, 7: horse, 8: ship, 9: truck]\n",
    "\n",
    "# Display the first 10 images\n",
    "plt.figure(figsize=(20, 4))\n",
    "for i in range(10):\n",
    "    plt.subplot(1, 10, i+1)\n",
    "    plt.imshow(testing_data[i])\n",
    "    plt.axis('off')\n",
    "plt.show()\n",
    "\n",
    "# Testing --- So we should expect [6, 1, 8, 6, 9, 7, 8, 2, 9, 5]"
   ]
  },
  {
   "cell_type": "code",
   "execution_count": 11,
   "id": "df482fee",
   "metadata": {
    "execution": {
     "iopub.execute_input": "2025-03-10T03:53:55.697414Z",
     "iopub.status.busy": "2025-03-10T03:53:55.697181Z",
     "iopub.status.idle": "2025-03-10T03:53:56.059369Z",
     "shell.execute_reply": "2025-03-10T03:53:56.058370Z"
    },
    "papermill": {
     "duration": 0.370183,
     "end_time": "2025-03-10T03:53:56.060900",
     "exception": false,
     "start_time": "2025-03-10T03:53:55.690717",
     "status": "completed"
    },
    "tags": []
   },
   "outputs": [
    {
     "name": "stdout",
     "output_type": "stream",
     "text": [
      "torch.Size([3, 32, 32])\n"
     ]
    }
   ],
   "source": [
    "# Changing to Tensor and adjusting shape before test\n",
    "testing_data = [(transforms.ToTensor()(image),) for image in testing_data]\n",
    "print(testing_data[0][0].shape)\n",
    "\n",
    "# DataLoader\n",
    "testing_loader = DataLoader(testing_data, batch_size=128, shuffle=False)"
   ]
  },
  {
   "cell_type": "code",
   "execution_count": 12,
   "id": "bfb373f1",
   "metadata": {
    "execution": {
     "iopub.execute_input": "2025-03-10T03:53:56.074286Z",
     "iopub.status.busy": "2025-03-10T03:53:56.074036Z",
     "iopub.status.idle": "2025-03-10T03:53:56.505983Z",
     "shell.execute_reply": "2025-03-10T03:53:56.505134Z"
    },
    "papermill": {
     "duration": 0.439837,
     "end_time": "2025-03-10T03:53:56.507268",
     "exception": false,
     "start_time": "2025-03-10T03:53:56.067431",
     "status": "completed"
    },
    "tags": []
   },
   "outputs": [
    {
     "name": "stdout",
     "output_type": "stream",
     "text": [
      "Submitted! Check output for submission.csv\n"
     ]
    }
   ],
   "source": [
    "## Final output is file called submission.csv with columns ID, Labels\n",
    "\n",
    "model.eval()\n",
    "test_predictions = []\n",
    "\n",
    "with torch.no_grad():\n",
    "    for batch in testing_loader:\n",
    "        images = batch[0].to(device) \n",
    "        outputs = model(images) \n",
    "        _, predictions = torch.max(outputs, 1)\n",
    "        \n",
    "        # for prediction in predictions:\n",
    "        #     test_predictions.append(prediction.item())\n",
    "        test_predictions.extend(predictions.cpu().numpy())\n",
    "\n",
    "test_predictions_dict = {'ID': np.arange(len(test_predictions)), 'Labels': test_predictions}\n",
    "test_predictions_df = pd.DataFrame(test_predictions_dict)\n",
    "test_predictions_df.to_csv('/kaggle/working/submission.csv', index=False)\n",
    "print(\"Submitted! Check output for submission.csv\")"
   ]
  }
 ],
 "metadata": {
  "kaggle": {
   "accelerator": "nvidiaTeslaT4",
   "dataSources": [
    {
     "databundleVersionId": 11145869,
     "sourceId": 93057,
     "sourceType": "competition"
    }
   ],
   "dockerImageVersionId": 30919,
   "isGpuEnabled": true,
   "isInternetEnabled": true,
   "language": "python",
   "sourceType": "notebook"
  },
  "kernelspec": {
   "display_name": "Python 3",
   "language": "python",
   "name": "python3"
  },
  "language_info": {
   "codemirror_mode": {
    "name": "ipython",
    "version": 3
   },
   "file_extension": ".py",
   "mimetype": "text/x-python",
   "name": "python",
   "nbconvert_exporter": "python",
   "pygments_lexer": "ipython3",
   "version": "3.10.12"
  },
  "papermill": {
   "default_parameters": {},
   "duration": 374.489747,
   "end_time": "2025-03-10T03:53:58.335523",
   "environment_variables": {},
   "exception": null,
   "input_path": "__notebook__.ipynb",
   "output_path": "__notebook__.ipynb",
   "parameters": {},
   "start_time": "2025-03-10T03:47:43.845776",
   "version": "2.6.0"
  }
 },
 "nbformat": 4,
 "nbformat_minor": 5
}
