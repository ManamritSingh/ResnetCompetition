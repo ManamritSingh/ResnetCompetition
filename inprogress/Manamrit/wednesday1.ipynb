{
 "cells": [
  {
   "cell_type": "code",
   "execution_count": 1,
   "id": "354c06f5",
   "metadata": {
    "_cell_guid": "b1076dfc-b9ad-4769-8c92-a6c4dae69d19",
    "_uuid": "8f2839f25d086af736a60e9eeb907d3b93b6e0e5",
    "execution": {
     "iopub.execute_input": "2025-03-10T20:59:21.940766Z",
     "iopub.status.busy": "2025-03-10T20:59:21.940463Z",
     "iopub.status.idle": "2025-03-10T20:59:22.627041Z",
     "shell.execute_reply": "2025-03-10T20:59:22.626177Z"
    },
    "papermill": {
     "duration": 0.691808,
     "end_time": "2025-03-10T20:59:22.628463",
     "exception": false,
     "start_time": "2025-03-10T20:59:21.936655",
     "status": "completed"
    },
    "tags": []
   },
   "outputs": [
    {
     "name": "stdout",
     "output_type": "stream",
     "text": [
      "E:\\MS\\DL\\Try2\\deep-learning-spring-2025-project-1\\cifar_test_nolabel.pkl\n",
      "E:\\MS\\DL\\Try2\\deep-learning-spring-2025-project-1\\cifar-10-python\\cifar-10-batches-py\\batches.meta\n",
      "E:\\MS\\DL\\Try2\\deep-learning-spring-2025-project-1\\cifar-10-python\\cifar-10-batches-py\\data_batch_1\n",
      "E:\\MS\\DL\\Try2\\deep-learning-spring-2025-project-1\\cifar-10-python\\cifar-10-batches-py\\data_batch_2\n",
      "E:\\MS\\DL\\Try2\\deep-learning-spring-2025-project-1\\cifar-10-python\\cifar-10-batches-py\\data_batch_3\n",
      "E:\\MS\\DL\\Try2\\deep-learning-spring-2025-project-1\\cifar-10-python\\cifar-10-batches-py\\data_batch_4\n",
      "E:\\MS\\DL\\Try2\\deep-learning-spring-2025-project-1\\cifar-10-python\\cifar-10-batches-py\\data_batch_5\n",
      "E:\\MS\\DL\\Try2\\deep-learning-spring-2025-project-1\\cifar-10-python\\cifar-10-batches-py\\readme.html\n",
      "E:\\MS\\DL\\Try2\\deep-learning-spring-2025-project-1\\cifar-10-python\\cifar-10-batches-py\\test_batch\n"
     ]
    }
   ],
   "source": [
    "# This Python 3 environment comes with many helpful analytics libraries installed\n",
    "# It is defined by the kaggle/python Docker image: https://github.com/kaggle/docker-python\n",
    "# For example, here's several helpful packages to load\n",
    "\n",
    "import numpy as np # linear algebra\n",
    "import pandas as pd # data processing, CSV file I/O (e.g. pd.read_csv)\n",
    "\n",
    "# Input data files are available in the read-only \"../input/\" directory\n",
    "# For example, running this (by clicking run or pressing Shift+Enter) will list all files under the input directory\n",
    "\n",
    "import os\n",
    "for dirname, _, filenames in os.walk('E:\\\\MS\\\\DL\\\\Try2\\\\deep-learning-spring-2025-project-1'):\n",
    "    for filename in filenames:\n",
    "        print(os.path.join(dirname, filename))\n",
    "\n",
    "# You can write up to 20GB to the current directory (/kaggle/working/) that gets preserved as output when you create a version using \"Save & Run All\" \n",
    "# You can also write temporary files to /kaggle/temp/, but they won't be saved outside of the current session"
   ]
  },
  {
   "cell_type": "code",
   "execution_count": 2,
   "id": "a73fdabf",
   "metadata": {
    "execution": {
     "iopub.execute_input": "2025-03-10T20:59:22.635012Z",
     "iopub.status.busy": "2025-03-10T20:59:22.634692Z",
     "iopub.status.idle": "2025-03-10T20:59:31.925973Z",
     "shell.execute_reply": "2025-03-10T20:59:31.925038Z"
    },
    "papermill": {
     "duration": 9.295949,
     "end_time": "2025-03-10T20:59:31.927490",
     "exception": false,
     "start_time": "2025-03-10T20:59:22.631541",
     "status": "completed"
    },
    "tags": []
   },
   "outputs": [
    {
     "name": "stdout",
     "output_type": "stream",
     "text": [
      "[b'airplane', b'automobile', b'bird', b'cat', b'deer', b'dog', b'frog', b'horse', b'ship', b'truck']\n",
      "50000\n",
      "50000\n"
     ]
    }
   ],
   "source": [
    "import pandas as pd\n",
    "import pickle\n",
    "import matplotlib.pyplot as plt\n",
    "from torch.utils.data import DataLoader, random_split\n",
    "from torchvision import transforms\n",
    "\n",
    "def unpickle(file):\n",
    "    with open(file, 'rb') as fo:\n",
    "        dict = pickle.load(fo, encoding='bytes')\n",
    "    return dict\n",
    "\n",
    "classes_dict = unpickle(\"deep-learning-spring-2025-project-1\\\\cifar-10-python\\\\cifar-10-batches-py\\\\batches.meta\")\n",
    "label_names = classes_dict[b'label_names']\n",
    "print(label_names)\n",
    "\n",
    "# Load training data in batches, then combine\n",
    "training_data = []\n",
    "training_labels = []\n",
    "for i in range(1, 6):\n",
    "    training_fp = \"deep-learning-spring-2025-project-1\\\\cifar-10-python\\\\cifar-10-batches-py\\\\data_batch_{}\".format(i)\n",
    "    batch = unpickle(training_fp)\n",
    "    batch_data = batch[b'data']\n",
    "    batch_labels = batch[b'labels']\n",
    "    for i in range(len(batch_data)):\n",
    "        training_data.append(batch_data[i])\n",
    "        training_labels.append(batch_labels[i])\n",
    "\n",
    "print(len(training_data))\n",
    "print(len(training_labels))"
   ]
  },
  {
   "cell_type": "code",
   "execution_count": 3,
   "id": "c6c1ad1c",
   "metadata": {
    "execution": {
     "iopub.execute_input": "2025-03-10T20:59:31.934526Z",
     "iopub.status.busy": "2025-03-10T20:59:31.934125Z",
     "iopub.status.idle": "2025-03-10T21:00:23.934201Z",
     "shell.execute_reply": "2025-03-10T21:00:23.933358Z"
    },
    "papermill": {
     "duration": 52.007716,
     "end_time": "2025-03-10T21:00:23.938276",
     "exception": false,
     "start_time": "2025-03-10T20:59:31.930560",
     "status": "completed"
    },
    "tags": []
   },
   "outputs": [
    {
     "name": "stdout",
     "output_type": "stream",
     "text": [
      "(3072,)\n",
      "(32, 32, 3)\n",
      "torch.Size([3, 32, 32])\n"
     ]
    }
   ],
   "source": [
    "training_labels = np.array(training_labels)\n",
    "\n",
    "def transform_image(image):\n",
    "    image = transforms.ToPILImage()(image) # Required for plt display\n",
    "    image = transforms.RandomHorizontalFlip()(image)\n",
    "    image = transforms.RandomRotation(15)(image)\n",
    "    image = transforms.ColorJitter(brightness=0.2, contrast=0.2, saturation=0.2, hue=0.1)(image)\n",
    "    image = transforms.RandomResizedCrop(32, scale=(0.8, 1.0))(image)\n",
    "    image = transforms.ToTensor()(image) \n",
    "    image = transforms.Normalize(mean=[0.485, 0.456, 0.406], std=[0.229, 0.224, 0.225])(image) # common mean / std. dev numbers cited in Pytorch docs\n",
    "    return image\n",
    "\n",
    "print(training_data[0].shape)\n",
    "# Reshape the array to (N, 3, 32, 32), then rearrange to (N, 32, 32, 3) for transformations\n",
    "training_data = np.array(training_data).reshape(-1, 3, 32, 32).transpose(0, 2, 3, 1)\n",
    "print(training_data[0].shape)\n",
    "\n",
    "# Commenting out visual displays for now because the After version would have to be in PIL Image mode, not Tensor\n",
    "\n",
    "# Test on the first image\n",
    "# print('Sample Image Before:')\n",
    "# plt.figure(figsize=(3, 3))\n",
    "# plt.title('Sample Image Before:')\n",
    "# plt.imshow(training_data[0])\n",
    "# plt.axis('off')\n",
    "\n",
    "# plt.figure(figsize=(3, 3))\n",
    "# plt.title('Sample Image After:')\n",
    "# transformed_image = transform_image(training_data[0])\n",
    "# plt.imshow(transformed_image)\n",
    "# plt.axis('off')\n",
    "\n",
    "# Apply transformatiosn, shape will now be (3, 32, 32) - default convention for PyTorch NN\n",
    "training_data = [(transform_image(image), label) for image, label in zip(training_data, training_labels)]\n",
    "print(training_data[0][0].shape)"
   ]
  },
  {
   "cell_type": "code",
   "execution_count": 4,
   "id": "ea02286f",
   "metadata": {
    "execution": {
     "iopub.execute_input": "2025-03-10T21:00:23.944671Z",
     "iopub.status.busy": "2025-03-10T21:00:23.944427Z",
     "iopub.status.idle": "2025-03-10T21:00:23.951908Z",
     "shell.execute_reply": "2025-03-10T21:00:23.951298Z"
    },
    "papermill": {
     "duration": 0.012136,
     "end_time": "2025-03-10T21:00:23.953198",
     "exception": false,
     "start_time": "2025-03-10T21:00:23.941062",
     "status": "completed"
    },
    "tags": []
   },
   "outputs": [],
   "source": [
    "training_count = int(0.8 * len(training_data))\n",
    "validation_count = int(0.2 * len(training_data))\n",
    "\n",
    "training_data, validation_data = random_split(training_data, [training_count, validation_count])"
   ]
  },
  {
   "cell_type": "code",
   "execution_count": 5,
   "id": "cb2fc454",
   "metadata": {},
   "outputs": [
    {
     "name": "stdout",
     "output_type": "stream",
     "text": [
      "torch.Size([3, 32, 32])\n"
     ]
    }
   ],
   "source": [
    "# Load the test data\n",
    "test_fp = \"deep-learning-spring-2025-project-1\\\\cifar-10-python\\\\cifar-10-batches-py\\\\test_batch\"\n",
    "test_batch = unpickle(test_fp)\n",
    "test_data = test_batch[b'data']\n",
    "test_labels = test_batch[b'labels']\n",
    "\n",
    "# Reshape and apply transformations to the test data\n",
    "test_data = np.array(test_data).reshape(-1, 3, 32, 32).transpose(0, 2, 3, 1)\n",
    "\n",
    "# Apply the same transformations to the test data\n",
    "test_data = [(transform_image(image), label) for image, label in zip(test_data, test_labels)]\n",
    "\n",
    "# Now test_data is in the same format as training_data\n",
    "print(test_data[0][0].shape)  # Check the shape of a transformed image from the test set\n"
   ]
  },
  {
   "cell_type": "code",
   "execution_count": 6,
   "id": "e7deb76e",
   "metadata": {},
   "outputs": [],
   "source": [
    "import torch\n",
    "from torch.utils.data import DataLoader, Dataset\n",
    "\n",
    "# Custom dataset class to handle our transformed data\n",
    "class CustomDataset(Dataset):\n",
    "    def __init__(self, data, labels, transform=None):\n",
    "        self.data = data\n",
    "        self.labels = labels\n",
    "        self.transform = transform\n",
    "\n",
    "    def __len__(self):\n",
    "        return len(self.data)\n",
    "\n",
    "    def __getitem__(self, idx):\n",
    "        image, label = self.data[idx], self.labels[idx]\n",
    "        if self.transform:\n",
    "            image = self.transform(image)\n",
    "        return image, label\n",
    "\n",
    "# Assuming `test_data` and `test_labels` are the transformed data and labels\n",
    "test_dataset = CustomDataset(test_data, test_labels, transform=None)  # No need for transformation here\n",
    "\n",
    "# Create DataLoader for the test data\n",
    "test_loader = DataLoader(test_dataset, batch_size=32, shuffle=False)"
   ]
  },
  {
   "cell_type": "code",
   "execution_count": 7,
   "id": "ea2d80d1",
   "metadata": {
    "execution": {
     "iopub.execute_input": "2025-03-10T21:00:23.959664Z",
     "iopub.status.busy": "2025-03-10T21:00:23.959439Z",
     "iopub.status.idle": "2025-03-10T21:00:23.976543Z",
     "shell.execute_reply": "2025-03-10T21:00:23.975947Z"
    },
    "papermill": {
     "duration": 0.021765,
     "end_time": "2025-03-10T21:00:23.977707",
     "exception": false,
     "start_time": "2025-03-10T21:00:23.955942",
     "status": "completed"
    },
    "tags": []
   },
   "outputs": [
    {
     "name": "stdout",
     "output_type": "stream",
     "text": [
      "Total parameters: 2847402\n"
     ]
    }
   ],
   "source": [
    "import torch\n",
    "import torch.nn as nn\n",
    "import torch.optim as optim\n",
    "\n",
    "import torch\n",
    "import torch.nn as nn\n",
    "\n",
    "class OptimizedResNet(nn.Module):\n",
    "    def __init__(self):\n",
    "        super(OptimizedResNet, self).__init__()\n",
    "\n",
    "        # First Convolution Layer\n",
    "        self.conv1 = nn.Conv2d(3, 32, kernel_size=3, stride=1, padding=1, bias=False)\n",
    "        self.bn1 = nn.BatchNorm2d(32)\n",
    "        self.relu = nn.ReLU(inplace=True)\n",
    "\n",
    "        #Residual Blocks\n",
    "        self.layer1 = self._make_layer(32, 64, 2, stride=2)  # 64 filters, 2 blocks\n",
    "        self.layer2 = self._make_layer(64, 128, 2, stride=2)  # 128 filters, 2 blocks\n",
    "        self.layer3 = self._make_layer(128, 256, 2, stride=2)  # 256 filters, 2 blocks\n",
    "\n",
    "        # Global Average Pooling\n",
    "        self.avg_pool = nn.AdaptiveAvgPool2d(1)\n",
    "\n",
    "        # Fully connected layer (finaloutput)\n",
    "        self.fc = nn.Linear(256, 10)\n",
    "\n",
    "    def _make_layer(self, in_channels, out_channels, num_blocks, stride):\n",
    "        layers = []\n",
    "        for _ in range(num_blocks):\n",
    "            layers.append(BasicBlock(in_channels, out_channels, stride))\n",
    "            in_channels = out_channels  # Update in_channels for next block\n",
    "        return nn.Sequential(*layers)\n",
    "\n",
    "    def forward(self, x):\n",
    "        x = self.relu(self.bn1(self.conv1(x)))  # Initial conv + batch norm + relu\n",
    "        x = self.layer1(x)\n",
    "        x = self.layer2(x)\n",
    "        x = self.layer3(x)\n",
    "        x = self.avg_pool(x)  # Global average pooling\n",
    "        x = torch.flatten(x, 1)  # Flatten to feed to final layer\n",
    "        x = self.fc(x)\n",
    "        return x\n",
    "\n",
    "class BasicBlock(nn.Module):\n",
    "    def __init__(self, in_channels, out_channels, stride=1):\n",
    "        super(BasicBlock, self).__init__()\n",
    "\n",
    "        self.conv1 = nn.Conv2d(in_channels, out_channels, kernel_size=3, stride=stride, padding=1, bias=False)\n",
    "        self.bn1 = nn.BatchNorm2d(out_channels)\n",
    "        self.relu = nn.ReLU(inplace=True)\n",
    "\n",
    "        self.conv2 = nn.Conv2d(out_channels, out_channels, kernel_size=3, stride=1, padding=1, bias=False)\n",
    "        self.bn2 = nn.BatchNorm2d(out_channels)\n",
    "\n",
    "        # Shortcut skip\n",
    "        self.shortcut = nn.Sequential()\n",
    "        if stride != 1 or in_channels != out_channels:\n",
    "            self.shortcut = nn.Sequential(\n",
    "                nn.Conv2d(in_channels, out_channels, kernel_size=1, stride=stride, bias=False),\n",
    "                nn.BatchNorm2d(out_channels)\n",
    "            )\n",
    "\n",
    "    def forward(self, x):\n",
    "        out = self.relu(self.bn1(self.conv1(x)))  # First convolution + batch norm + relu\n",
    "        out = self.bn2(self.conv2(out))  # Second convolution + batch norm\n",
    "        out += self.shortcut(x)  # Add the shortcut (residual)\n",
    "        out = self.relu(out)  # Apply ReLU to the final result\n",
    "        return out\n",
    "\n",
    "# Create an instance of the model\n",
    "model = OptimizedResNet()\n",
    "\n",
    "# Define optimizer with L2 regularization (weight decay)\n",
    "optimizer = optim.Adam(model.parameters(), lr=0.001, weight_decay=1e-4)  # Added weight decay\n",
    "\n",
    "# Print total parameters\n",
    "total_params = sum(p.numel() for p in model.parameters())\n",
    "print(f\"Total parameters: {total_params}\")\n"
   ]
  },
  {
   "cell_type": "code",
   "execution_count": 13,
   "id": "a7dc8410",
   "metadata": {
    "execution": {
     "iopub.execute_input": "2025-03-10T21:00:23.983700Z",
     "iopub.status.busy": "2025-03-10T21:00:23.983499Z",
     "iopub.status.idle": "2025-03-10T21:00:24.978910Z",
     "shell.execute_reply": "2025-03-10T21:00:24.977689Z"
    },
    "papermill": {
     "duration": 1.000121,
     "end_time": "2025-03-10T21:00:24.980507",
     "exception": false,
     "start_time": "2025-03-10T21:00:23.980386",
     "status": "completed"
    },
    "tags": []
   },
   "outputs": [
    {
     "name": "stdout",
     "output_type": "stream",
     "text": [
      "----------------------------------------------------------------\n",
      "        Layer (type)               Output Shape         Param #\n",
      "================================================================\n",
      "            Conv2d-1           [-1, 32, 32, 32]             864\n",
      "       BatchNorm2d-2           [-1, 32, 32, 32]              64\n",
      "              ReLU-3           [-1, 32, 32, 32]               0\n",
      "            Conv2d-4           [-1, 64, 16, 16]          18,432\n",
      "       BatchNorm2d-5           [-1, 64, 16, 16]             128\n",
      "              ReLU-6           [-1, 64, 16, 16]               0\n",
      "            Conv2d-7           [-1, 64, 16, 16]          36,864\n",
      "       BatchNorm2d-8           [-1, 64, 16, 16]             128\n",
      "            Conv2d-9           [-1, 64, 16, 16]           2,048\n",
      "      BatchNorm2d-10           [-1, 64, 16, 16]             128\n",
      "             ReLU-11           [-1, 64, 16, 16]               0\n",
      "       BasicBlock-12           [-1, 64, 16, 16]               0\n",
      "           Conv2d-13             [-1, 64, 8, 8]          36,864\n",
      "      BatchNorm2d-14             [-1, 64, 8, 8]             128\n",
      "             ReLU-15             [-1, 64, 8, 8]               0\n",
      "           Conv2d-16             [-1, 64, 8, 8]          36,864\n",
      "      BatchNorm2d-17             [-1, 64, 8, 8]             128\n",
      "           Conv2d-18             [-1, 64, 8, 8]           4,096\n",
      "      BatchNorm2d-19             [-1, 64, 8, 8]             128\n",
      "             ReLU-20             [-1, 64, 8, 8]               0\n",
      "       BasicBlock-21             [-1, 64, 8, 8]               0\n",
      "           Conv2d-22            [-1, 128, 4, 4]          73,728\n",
      "      BatchNorm2d-23            [-1, 128, 4, 4]             256\n",
      "             ReLU-24            [-1, 128, 4, 4]               0\n",
      "           Conv2d-25            [-1, 128, 4, 4]         147,456\n",
      "      BatchNorm2d-26            [-1, 128, 4, 4]             256\n",
      "           Conv2d-27            [-1, 128, 4, 4]           8,192\n",
      "      BatchNorm2d-28            [-1, 128, 4, 4]             256\n",
      "             ReLU-29            [-1, 128, 4, 4]               0\n",
      "       BasicBlock-30            [-1, 128, 4, 4]               0\n",
      "           Conv2d-31            [-1, 128, 2, 2]         147,456\n",
      "      BatchNorm2d-32            [-1, 128, 2, 2]             256\n",
      "             ReLU-33            [-1, 128, 2, 2]               0\n",
      "           Conv2d-34            [-1, 128, 2, 2]         147,456\n",
      "      BatchNorm2d-35            [-1, 128, 2, 2]             256\n",
      "           Conv2d-36            [-1, 128, 2, 2]          16,384\n",
      "      BatchNorm2d-37            [-1, 128, 2, 2]             256\n",
      "             ReLU-38            [-1, 128, 2, 2]               0\n",
      "       BasicBlock-39            [-1, 128, 2, 2]               0\n",
      "           Conv2d-40            [-1, 256, 1, 1]         294,912\n",
      "      BatchNorm2d-41            [-1, 256, 1, 1]             512\n",
      "             ReLU-42            [-1, 256, 1, 1]               0\n",
      "           Conv2d-43            [-1, 256, 1, 1]         589,824\n",
      "      BatchNorm2d-44            [-1, 256, 1, 1]             512\n",
      "           Conv2d-45            [-1, 256, 1, 1]          32,768\n",
      "      BatchNorm2d-46            [-1, 256, 1, 1]             512\n",
      "             ReLU-47            [-1, 256, 1, 1]               0\n",
      "       BasicBlock-48            [-1, 256, 1, 1]               0\n",
      "           Conv2d-49            [-1, 256, 1, 1]         589,824\n",
      "      BatchNorm2d-50            [-1, 256, 1, 1]             512\n",
      "             ReLU-51            [-1, 256, 1, 1]               0\n",
      "           Conv2d-52            [-1, 256, 1, 1]         589,824\n",
      "      BatchNorm2d-53            [-1, 256, 1, 1]             512\n",
      "           Conv2d-54            [-1, 256, 1, 1]          65,536\n",
      "      BatchNorm2d-55            [-1, 256, 1, 1]             512\n",
      "             ReLU-56            [-1, 256, 1, 1]               0\n",
      "       BasicBlock-57            [-1, 256, 1, 1]               0\n",
      "AdaptiveAvgPool2d-58            [-1, 256, 1, 1]               0\n",
      "           Linear-59                   [-1, 10]           2,570\n",
      "================================================================\n",
      "Total params: 2,847,402\n",
      "Trainable params: 2,847,402\n",
      "Non-trainable params: 0\n",
      "----------------------------------------------------------------\n",
      "Input size (MB): 0.01\n",
      "Forward/backward pass size (MB): 2.37\n",
      "Params size (MB): 10.86\n",
      "Estimated Total Size (MB): 13.24\n",
      "----------------------------------------------------------------\n"
     ]
    }
   ],
   "source": [
    "import torch.optim as optim\n",
    "from torchsummary import summary\n",
    "\n",
    "device = torch.device(\"cuda\" if torch.cuda.is_available() else \"cpu\")\n",
    "model = OptimizedResNet().to(device)\n",
    "summary(model, (3, 32, 32))"
   ]
  },
  {
   "cell_type": "code",
   "execution_count": 14,
   "id": "a83672df",
   "metadata": {
    "execution": {
     "iopub.execute_input": "2025-03-10T21:00:24.987421Z",
     "iopub.status.busy": "2025-03-10T21:00:24.987174Z",
     "iopub.status.idle": "2025-03-10T21:27:51.900001Z",
     "shell.execute_reply": "2025-03-10T21:27:51.898810Z"
    },
    "papermill": {
     "duration": 1646.923116,
     "end_time": "2025-03-10T21:27:51.906783",
     "exception": false,
     "start_time": "2025-03-10T21:00:24.983667",
     "status": "completed"
    },
    "tags": []
   },
   "outputs": [
    {
     "name": "stdout",
     "output_type": "stream",
     "text": [
      "Epoch 1: Training Loss: 1.6339, Training Accuracy: 40.29%, Validation Accuracy: 48.73%, LR: 0.000500\n",
      "Epoch 2: Training Loss: 1.2769, Training Accuracy: 53.96%, Validation Accuracy: 54.74%, LR: 0.000500\n",
      "Epoch 3: Training Loss: 1.0673, Training Accuracy: 61.90%, Validation Accuracy: 57.93%, LR: 0.000500\n",
      "Epoch 4: Training Loss: 0.8858, Training Accuracy: 68.72%, Validation Accuracy: 60.14%, LR: 0.000500\n",
      "Epoch 5: Training Loss: 0.7389, Training Accuracy: 73.98%, Validation Accuracy: 61.78%, LR: 0.000500\n"
     ]
    },
    {
     "ename": "KeyboardInterrupt",
     "evalue": "",
     "output_type": "error",
     "traceback": [
      "\u001b[31m---------------------------------------------------------------------------\u001b[39m",
      "\u001b[31mKeyboardInterrupt\u001b[39m                         Traceback (most recent call last)",
      "\u001b[36mCell\u001b[39m\u001b[36m \u001b[39m\u001b[32mIn[14]\u001b[39m\u001b[32m, line 52\u001b[39m\n\u001b[32m     49\u001b[39m total_val_correct = \u001b[32m0\u001b[39m\n\u001b[32m     51\u001b[39m \u001b[38;5;28;01mwith\u001b[39;00m torch.no_grad():\n\u001b[32m---> \u001b[39m\u001b[32m52\u001b[39m \u001b[43m    \u001b[49m\u001b[38;5;28;43;01mfor\u001b[39;49;00m\u001b[43m \u001b[49m\u001b[43mimages\u001b[49m\u001b[43m,\u001b[49m\u001b[43m \u001b[49m\u001b[43mlabels\u001b[49m\u001b[43m \u001b[49m\u001b[38;5;129;43;01min\u001b[39;49;00m\u001b[43m \u001b[49m\u001b[43mvalidation_loader\u001b[49m\u001b[43m:\u001b[49m\n\u001b[32m     53\u001b[39m \u001b[43m        \u001b[49m\u001b[43mimages\u001b[49m\u001b[43m,\u001b[49m\u001b[43m \u001b[49m\u001b[43mlabels\u001b[49m\u001b[43m \u001b[49m\u001b[43m=\u001b[49m\u001b[43m \u001b[49m\u001b[43mimages\u001b[49m\u001b[43m.\u001b[49m\u001b[43mto\u001b[49m\u001b[43m(\u001b[49m\u001b[43mdevice\u001b[49m\u001b[43m)\u001b[49m\u001b[43m,\u001b[49m\u001b[43m \u001b[49m\u001b[43mlabels\u001b[49m\u001b[43m.\u001b[49m\u001b[43mto\u001b[49m\u001b[43m(\u001b[49m\u001b[43mdevice\u001b[49m\u001b[43m)\u001b[49m\n\u001b[32m     54\u001b[39m \u001b[43m        \u001b[49m\u001b[43moutputs\u001b[49m\u001b[43m \u001b[49m\u001b[43m=\u001b[49m\u001b[43m \u001b[49m\u001b[43mmodel\u001b[49m\u001b[43m(\u001b[49m\u001b[43mimages\u001b[49m\u001b[43m)\u001b[49m\n",
      "\u001b[36mFile \u001b[39m\u001b[32mc:\\Users\\hp\\AppData\\Local\\Programs\\Python\\Python313\\Lib\\site-packages\\torch\\utils\\data\\dataloader.py:491\u001b[39m, in \u001b[36mDataLoader.__iter__\u001b[39m\u001b[34m(self)\u001b[39m\n\u001b[32m    489\u001b[39m     \u001b[38;5;28;01mreturn\u001b[39;00m \u001b[38;5;28mself\u001b[39m._iterator\n\u001b[32m    490\u001b[39m \u001b[38;5;28;01melse\u001b[39;00m:\n\u001b[32m--> \u001b[39m\u001b[32m491\u001b[39m     \u001b[38;5;28;01mreturn\u001b[39;00m \u001b[38;5;28;43mself\u001b[39;49m\u001b[43m.\u001b[49m\u001b[43m_get_iterator\u001b[49m\u001b[43m(\u001b[49m\u001b[43m)\u001b[49m\n",
      "\u001b[36mFile \u001b[39m\u001b[32mc:\\Users\\hp\\AppData\\Local\\Programs\\Python\\Python313\\Lib\\site-packages\\torch\\utils\\data\\dataloader.py:422\u001b[39m, in \u001b[36mDataLoader._get_iterator\u001b[39m\u001b[34m(self)\u001b[39m\n\u001b[32m    420\u001b[39m \u001b[38;5;28;01melse\u001b[39;00m:\n\u001b[32m    421\u001b[39m     \u001b[38;5;28mself\u001b[39m.check_worker_number_rationality()\n\u001b[32m--> \u001b[39m\u001b[32m422\u001b[39m     \u001b[38;5;28;01mreturn\u001b[39;00m \u001b[43m_MultiProcessingDataLoaderIter\u001b[49m\u001b[43m(\u001b[49m\u001b[38;5;28;43mself\u001b[39;49m\u001b[43m)\u001b[49m\n",
      "\u001b[36mFile \u001b[39m\u001b[32mc:\\Users\\hp\\AppData\\Local\\Programs\\Python\\Python313\\Lib\\site-packages\\torch\\utils\\data\\dataloader.py:1146\u001b[39m, in \u001b[36m_MultiProcessingDataLoaderIter.__init__\u001b[39m\u001b[34m(self, loader)\u001b[39m\n\u001b[32m   1139\u001b[39m w.daemon = \u001b[38;5;28;01mTrue\u001b[39;00m\n\u001b[32m   1140\u001b[39m \u001b[38;5;66;03m# NB: Process.start() actually take some time as it needs to\u001b[39;00m\n\u001b[32m   1141\u001b[39m \u001b[38;5;66;03m#     start a process and pass the arguments over via a pipe.\u001b[39;00m\n\u001b[32m   1142\u001b[39m \u001b[38;5;66;03m#     Therefore, we only add a worker to self._workers list after\u001b[39;00m\n\u001b[32m   1143\u001b[39m \u001b[38;5;66;03m#     it started, so that we do not call .join() if program dies\u001b[39;00m\n\u001b[32m   1144\u001b[39m \u001b[38;5;66;03m#     before it starts, and __del__ tries to join but will get:\u001b[39;00m\n\u001b[32m   1145\u001b[39m \u001b[38;5;66;03m#     AssertionError: can only join a started process.\u001b[39;00m\n\u001b[32m-> \u001b[39m\u001b[32m1146\u001b[39m \u001b[43mw\u001b[49m\u001b[43m.\u001b[49m\u001b[43mstart\u001b[49m\u001b[43m(\u001b[49m\u001b[43m)\u001b[49m\n\u001b[32m   1147\u001b[39m \u001b[38;5;28mself\u001b[39m._index_queues.append(index_queue)\n\u001b[32m   1148\u001b[39m \u001b[38;5;28mself\u001b[39m._workers.append(w)\n",
      "\u001b[36mFile \u001b[39m\u001b[32mc:\\Users\\hp\\AppData\\Local\\Programs\\Python\\Python313\\Lib\\multiprocessing\\process.py:121\u001b[39m, in \u001b[36mBaseProcess.start\u001b[39m\u001b[34m(self)\u001b[39m\n\u001b[32m    118\u001b[39m \u001b[38;5;28;01massert\u001b[39;00m \u001b[38;5;129;01mnot\u001b[39;00m _current_process._config.get(\u001b[33m'\u001b[39m\u001b[33mdaemon\u001b[39m\u001b[33m'\u001b[39m), \\\n\u001b[32m    119\u001b[39m        \u001b[33m'\u001b[39m\u001b[33mdaemonic processes are not allowed to have children\u001b[39m\u001b[33m'\u001b[39m\n\u001b[32m    120\u001b[39m _cleanup()\n\u001b[32m--> \u001b[39m\u001b[32m121\u001b[39m \u001b[38;5;28mself\u001b[39m._popen = \u001b[38;5;28;43mself\u001b[39;49m\u001b[43m.\u001b[49m\u001b[43m_Popen\u001b[49m\u001b[43m(\u001b[49m\u001b[38;5;28;43mself\u001b[39;49m\u001b[43m)\u001b[49m\n\u001b[32m    122\u001b[39m \u001b[38;5;28mself\u001b[39m._sentinel = \u001b[38;5;28mself\u001b[39m._popen.sentinel\n\u001b[32m    123\u001b[39m \u001b[38;5;66;03m# Avoid a refcycle if the target function holds an indirect\u001b[39;00m\n\u001b[32m    124\u001b[39m \u001b[38;5;66;03m# reference to the process object (see bpo-30775)\u001b[39;00m\n",
      "\u001b[36mFile \u001b[39m\u001b[32mc:\\Users\\hp\\AppData\\Local\\Programs\\Python\\Python313\\Lib\\multiprocessing\\context.py:224\u001b[39m, in \u001b[36mProcess._Popen\u001b[39m\u001b[34m(process_obj)\u001b[39m\n\u001b[32m    222\u001b[39m \u001b[38;5;129m@staticmethod\u001b[39m\n\u001b[32m    223\u001b[39m \u001b[38;5;28;01mdef\u001b[39;00m\u001b[38;5;250m \u001b[39m\u001b[34m_Popen\u001b[39m(process_obj):\n\u001b[32m--> \u001b[39m\u001b[32m224\u001b[39m     \u001b[38;5;28;01mreturn\u001b[39;00m \u001b[43m_default_context\u001b[49m\u001b[43m.\u001b[49m\u001b[43mget_context\u001b[49m\u001b[43m(\u001b[49m\u001b[43m)\u001b[49m\u001b[43m.\u001b[49m\u001b[43mProcess\u001b[49m\u001b[43m.\u001b[49m\u001b[43m_Popen\u001b[49m\u001b[43m(\u001b[49m\u001b[43mprocess_obj\u001b[49m\u001b[43m)\u001b[49m\n",
      "\u001b[36mFile \u001b[39m\u001b[32mc:\\Users\\hp\\AppData\\Local\\Programs\\Python\\Python313\\Lib\\multiprocessing\\context.py:337\u001b[39m, in \u001b[36mSpawnProcess._Popen\u001b[39m\u001b[34m(process_obj)\u001b[39m\n\u001b[32m    334\u001b[39m \u001b[38;5;129m@staticmethod\u001b[39m\n\u001b[32m    335\u001b[39m \u001b[38;5;28;01mdef\u001b[39;00m\u001b[38;5;250m \u001b[39m\u001b[34m_Popen\u001b[39m(process_obj):\n\u001b[32m    336\u001b[39m     \u001b[38;5;28;01mfrom\u001b[39;00m\u001b[38;5;250m \u001b[39m\u001b[34;01m.\u001b[39;00m\u001b[34;01mpopen_spawn_win32\u001b[39;00m\u001b[38;5;250m \u001b[39m\u001b[38;5;28;01mimport\u001b[39;00m Popen\n\u001b[32m--> \u001b[39m\u001b[32m337\u001b[39m     \u001b[38;5;28;01mreturn\u001b[39;00m \u001b[43mPopen\u001b[49m\u001b[43m(\u001b[49m\u001b[43mprocess_obj\u001b[49m\u001b[43m)\u001b[49m\n",
      "\u001b[36mFile \u001b[39m\u001b[32mc:\\Users\\hp\\AppData\\Local\\Programs\\Python\\Python313\\Lib\\multiprocessing\\popen_spawn_win32.py:97\u001b[39m, in \u001b[36mPopen.__init__\u001b[39m\u001b[34m(self, process_obj)\u001b[39m\n\u001b[32m     95\u001b[39m \u001b[38;5;28;01mtry\u001b[39;00m:\n\u001b[32m     96\u001b[39m     reduction.dump(prep_data, to_child)\n\u001b[32m---> \u001b[39m\u001b[32m97\u001b[39m     \u001b[43mreduction\u001b[49m\u001b[43m.\u001b[49m\u001b[43mdump\u001b[49m\u001b[43m(\u001b[49m\u001b[43mprocess_obj\u001b[49m\u001b[43m,\u001b[49m\u001b[43m \u001b[49m\u001b[43mto_child\u001b[49m\u001b[43m)\u001b[49m\n\u001b[32m     98\u001b[39m \u001b[38;5;28;01mfinally\u001b[39;00m:\n\u001b[32m     99\u001b[39m     set_spawning_popen(\u001b[38;5;28;01mNone\u001b[39;00m)\n",
      "\u001b[36mFile \u001b[39m\u001b[32mc:\\Users\\hp\\AppData\\Local\\Programs\\Python\\Python313\\Lib\\multiprocessing\\reduction.py:60\u001b[39m, in \u001b[36mdump\u001b[39m\u001b[34m(obj, file, protocol)\u001b[39m\n\u001b[32m     58\u001b[39m \u001b[38;5;28;01mdef\u001b[39;00m\u001b[38;5;250m \u001b[39m\u001b[34mdump\u001b[39m(obj, file, protocol=\u001b[38;5;28;01mNone\u001b[39;00m):\n\u001b[32m     59\u001b[39m \u001b[38;5;250m    \u001b[39m\u001b[33;03m'''Replacement for pickle.dump() using ForkingPickler.'''\u001b[39;00m\n\u001b[32m---> \u001b[39m\u001b[32m60\u001b[39m     \u001b[43mForkingPickler\u001b[49m\u001b[43m(\u001b[49m\u001b[43mfile\u001b[49m\u001b[43m,\u001b[49m\u001b[43m \u001b[49m\u001b[43mprotocol\u001b[49m\u001b[43m)\u001b[49m\u001b[43m.\u001b[49m\u001b[43mdump\u001b[49m\u001b[43m(\u001b[49m\u001b[43mobj\u001b[49m\u001b[43m)\u001b[49m\n",
      "\u001b[31mKeyboardInterrupt\u001b[39m: "
     ]
    }
   ],
   "source": [
    "import torch\n",
    "import torch.nn as nn\n",
    "import torch.optim as optim\n",
    "from torch.utils.data import DataLoader\n",
    "from torch.optim.lr_scheduler import ReduceLROnPlateau\n",
    "import matplotlib.pyplot as plt\n",
    "\n",
    "# Define Loss and Optimizer\n",
    "criterion = nn.CrossEntropyLoss()\n",
    "optimizer = optim.Adam(model.parameters(), lr=0.0005, weight_decay=1e-4)  # L2 Regularization\n",
    "# Define LR scheduler\n",
    "scheduler = optim.lr_scheduler.ReduceLROnPlateau(optimizer, mode='max', factor=0.50, patience=2)\n",
    "\n",
    "# DataLoaders\n",
    "training_loader = DataLoader(training_data, batch_size=128, shuffle=True, num_workers=4)\n",
    "validation_loader = DataLoader(validation_data, batch_size=128, shuffle=False, num_workers=4)\n",
    "\n",
    "# Store learning rates\n",
    "lr_history = []\n",
    "\n",
    "# Training loop\n",
    "num_epochs = 60\n",
    "for epoch in range(num_epochs):\n",
    "    \n",
    "    model.train()\n",
    "    running_loss = 0.0\n",
    "    total_train_predictions = 0\n",
    "    total_train_correct = 0\n",
    "\n",
    "    for images, labels in training_loader:\n",
    "        images, labels = images.to(device), labels.to(device)\n",
    "        \n",
    "        optimizer.zero_grad()\n",
    "        \n",
    "        outputs = model(images)\n",
    "        loss = criterion(outputs, labels)\n",
    "        \n",
    "        loss.backward()\n",
    "        optimizer.step()\n",
    "\n",
    "        running_loss += loss.item()\n",
    "        _, predictions = torch.max(outputs, dim=1)\n",
    "        total_train_correct += (predictions == labels).sum().item()\n",
    "        total_train_predictions += labels.size(dim=0)\n",
    "\n",
    "    # Validation phase\n",
    "    model.eval()\n",
    "    total_val_predictions = 0\n",
    "    total_val_correct = 0\n",
    "\n",
    "    with torch.no_grad():\n",
    "        for images, labels in validation_loader:\n",
    "            images, labels = images.to(device), labels.to(device)\n",
    "            outputs = model(images)\n",
    "            \n",
    "            _, predictions = torch.max(outputs, dim=1)\n",
    "            total_val_correct += (predictions == labels).sum().item()\n",
    "            total_val_predictions += labels.size(dim=0)\n",
    "\n",
    "    val_acc = total_val_correct * 100 / total_val_predictions\n",
    "    train_acc = total_train_correct * 100 / total_train_predictions\n",
    "    train_loss = running_loss / len(training_loader)\n",
    "\n",
    "    # Store current learning rate\n",
    "    current_lr = scheduler.get_last_lr()[0]\n",
    "    lr_history.append(current_lr)\n",
    "\n",
    "    print(f'Epoch {epoch+1}: Training Loss: {train_loss:.4f}, Training Accuracy: {train_acc:.2f}%, Validation Accuracy: {val_acc:.2f}%, LR: {current_lr:.6f}')\n",
    "\n",
    "    # Step the scheduler\n",
    "    scheduler.step(val_acc)\n",
    "\n",
    "print(\"Training complete!\")\n",
    "\n",
    "# Plot learning rate changes\n",
    "plt.figure(figsize=(8, 5))\n",
    "plt.plot(range(1, len(lr_history) + 1), lr_history, marker='o', linestyle='-')\n",
    "plt.xlabel('Epoch')\n",
    "plt.ylabel('Learning Rate')\n",
    "plt.title('Learning Rate vs Epochs')\n",
    "plt.grid(True)\n",
    "plt.show()\n"
   ]
  },
  {
   "cell_type": "code",
   "execution_count": 65,
   "id": "cc86adca",
   "metadata": {},
   "outputs": [
    {
     "name": "stdout",
     "output_type": "stream",
     "text": [
      "Loaded model weights from small_balanced_resnet.pth\n",
      "Epoch 1 - Training Loss: 0.2670, Training Accuracy: 90.85%, Validation Accuracy: 79.64%\n",
      "Model saved at small_balanced_resnet.pth\n",
      "Epoch 2 - Training Loss: 0.2461, Training Accuracy: 91.60%, Validation Accuracy: 79.06%\n",
      "Model saved at small_balanced_resnet.pth\n",
      "Epoch 3 - Training Loss: 0.2351, Training Accuracy: 92.00%, Validation Accuracy: 79.49%\n",
      "Model saved at small_balanced_resnet.pth\n",
      "Epoch 4 - Training Loss: 0.2234, Training Accuracy: 92.54%, Validation Accuracy: 80.46%\n",
      "Model saved at small_balanced_resnet.pth\n",
      "Epoch 5 - Training Loss: 0.2198, Training Accuracy: 92.56%, Validation Accuracy: 80.00%\n",
      "Model saved at small_balanced_resnet.pth\n",
      "Epoch 6 - Training Loss: 0.1963, Training Accuracy: 93.31%, Validation Accuracy: 79.20%\n",
      "Model saved at small_balanced_resnet.pth\n",
      "Epoch 7 - Training Loss: 0.1956, Training Accuracy: 93.47%, Validation Accuracy: 79.81%\n",
      "Model saved at small_balanced_resnet.pth\n",
      "Epoch 8 - Training Loss: 0.1877, Training Accuracy: 93.64%, Validation Accuracy: 79.46%\n",
      "Model saved at small_balanced_resnet.pth\n",
      "Epoch 9 - Training Loss: 0.1809, Training Accuracy: 93.82%, Validation Accuracy: 79.46%\n",
      "Model saved at small_balanced_resnet.pth\n",
      "Epoch 10 - Training Loss: 0.1751, Training Accuracy: 94.14%, Validation Accuracy: 79.75%\n",
      "Model saved at small_balanced_resnet.pth\n",
      "Epoch 11 - Training Loss: 0.1651, Training Accuracy: 94.33%, Validation Accuracy: 78.80%\n",
      "Model saved at small_balanced_resnet.pth\n",
      "Epoch 12 - Training Loss: 0.1584, Training Accuracy: 94.56%, Validation Accuracy: 79.74%\n",
      "Model saved at small_balanced_resnet.pth\n",
      "Epoch 13 - Training Loss: 0.1606, Training Accuracy: 94.50%, Validation Accuracy: 80.01%\n",
      "Model saved at small_balanced_resnet.pth\n",
      "Epoch 14 - Training Loss: 0.1469, Training Accuracy: 95.08%, Validation Accuracy: 79.72%\n",
      "Model saved at small_balanced_resnet.pth\n",
      "Epoch 15 - Training Loss: 0.1438, Training Accuracy: 95.09%, Validation Accuracy: 79.52%\n",
      "Model saved at small_balanced_resnet.pth\n",
      "Epoch 16 - Training Loss: 0.1413, Training Accuracy: 95.23%, Validation Accuracy: 80.18%\n",
      "Model saved at small_balanced_resnet.pth\n",
      "Epoch 17 - Training Loss: 0.1429, Training Accuracy: 95.16%, Validation Accuracy: 80.06%\n",
      "Model saved at small_balanced_resnet.pth\n",
      "Epoch 18 - Training Loss: 0.1352, Training Accuracy: 95.37%, Validation Accuracy: 79.79%\n",
      "Model saved at small_balanced_resnet.pth\n",
      "Epoch 19 - Training Loss: 0.1337, Training Accuracy: 95.52%, Validation Accuracy: 79.83%\n",
      "Model saved at small_balanced_resnet.pth\n",
      "Epoch 20 - Training Loss: 0.1260, Training Accuracy: 95.69%, Validation Accuracy: 79.84%\n",
      "Model saved at small_balanced_resnet.pth\n",
      "Epoch 21 - Training Loss: 0.1268, Training Accuracy: 95.69%, Validation Accuracy: 79.80%\n",
      "Model saved at small_balanced_resnet.pth\n",
      "Epoch 22 - Training Loss: 0.1229, Training Accuracy: 95.66%, Validation Accuracy: 79.66%\n",
      "Model saved at small_balanced_resnet.pth\n",
      "Epoch 23 - Training Loss: 0.1138, Training Accuracy: 96.09%, Validation Accuracy: 79.85%\n",
      "Model saved at small_balanced_resnet.pth\n",
      "Epoch 24 - Training Loss: 0.1195, Training Accuracy: 95.93%, Validation Accuracy: 80.10%\n",
      "Model saved at small_balanced_resnet.pth\n",
      "Epoch 25 - Training Loss: 0.1097, Training Accuracy: 96.28%, Validation Accuracy: 80.16%\n",
      "Model saved at small_balanced_resnet.pth\n",
      "Training complete!\n"
     ]
    }
   ],
   "source": [
    "import torch\n",
    "import torch.nn as nn\n",
    "import torch.optim as optim\n",
    "from torch.utils.data import DataLoader\n",
    "\n",
    "# Define your model (ensure it matches the saved model architecture)\n",
    "model = SmallBalancedResNet()  # Replace with your actual model class\n",
    "device = torch.device(\"cuda\" if torch.cuda.is_available() else \"cpu\")\n",
    "model.to(device)\n",
    "\n",
    "# Try loading the saved model checkpoint\n",
    "model_path = \"small_balanced_resnet.pth\"\n",
    "try:\n",
    "    checkpoint = torch.load(model_path)\n",
    "    model.load_state_dict(checkpoint)\n",
    "    print(f\"Loaded model weights from {model_path}\")\n",
    "except FileNotFoundError:\n",
    "    print(f\"No saved model found at {model_path}, starting training from scratch.\")\n",
    "\n",
    "# Define Loss and Optimizer\n",
    "criterion = nn.CrossEntropyLoss()\n",
    "optimizer = optim.Adam(model.parameters(), lr=0.001)\n",
    "\n",
    "# DataLoaders for Training and Validation\n",
    "training_loader = DataLoader(training_data, batch_size=128, shuffle=True, num_workers=4)\n",
    "validation_loader = DataLoader(validation_data, batch_size=128, shuffle=False, num_workers=4)\n",
    "\n",
    "# Training loop\n",
    "num_epochs = 25\n",
    "for epoch in range(num_epochs):\n",
    "    \n",
    "    model.train()\n",
    "    running_loss = 0.0\n",
    "    total_train_predictions = 0\n",
    "    total_train_correct = 0\n",
    "\n",
    "    for images, labels in training_loader:\n",
    "        images, labels = images.to(device), labels.to(device)\n",
    "        \n",
    "        # Forward pass\n",
    "        outputs = model(images)\n",
    "        loss = criterion(outputs, labels)\n",
    "\n",
    "        # Backward and optimize\n",
    "        optimizer.zero_grad()\n",
    "        loss.backward()\n",
    "        optimizer.step()\n",
    "\n",
    "        running_loss += loss.item()\n",
    "\n",
    "        _, predictions = torch.max(outputs, dim=1)\n",
    "        \n",
    "        num_predictions = labels.size(dim=0)\n",
    "        num_correct = (predictions == labels).sum().item()\n",
    "        \n",
    "        total_train_predictions += num_predictions\n",
    "        total_train_correct += num_correct\n",
    "\n",
    "    model.eval()\n",
    "    total_val_predictions = 0\n",
    "    total_val_correct = 0\n",
    "\n",
    "    with torch.no_grad():\n",
    "        for images, labels in validation_loader:\n",
    "            images, labels = images.to(device), labels.to(device)\n",
    "            outputs = model(images)\n",
    "\n",
    "            _, predictions = torch.max(outputs, dim=1)\n",
    "\n",
    "            num_predictions = labels.size(dim=0)\n",
    "            num_correct = (predictions == labels).sum().item()\n",
    "\n",
    "            total_val_predictions += num_predictions\n",
    "            total_val_correct += num_correct\n",
    "\n",
    "    train_acc = total_train_correct * 100 / total_train_predictions\n",
    "    val_acc = total_val_correct * 100 / total_val_predictions\n",
    "    avg_loss = running_loss / len(training_loader)\n",
    "\n",
    "    print(f'Epoch {epoch+1} - Training Loss: {avg_loss:.4f}, Training Accuracy: {train_acc:.2f}%, Validation Accuracy: {val_acc:.2f}%')\n",
    "\n",
    "    # Save model after every epoch\n",
    "    torch.save(model.state_dict(), model_path)\n",
    "    print(f\"Model saved at {model_path}\")\n",
    "\n",
    "print(\"Training complete!\")\n"
   ]
  },
  {
   "cell_type": "code",
   "execution_count": 33,
   "id": "8941b1eb",
   "metadata": {},
   "outputs": [],
   "source": [
    "torch.save(model.state_dict(), \"small_balanced_resnet.pth\")"
   ]
  },
  {
   "cell_type": "code",
   "execution_count": 57,
   "id": "1f6bd8f7",
   "metadata": {},
   "outputs": [],
   "source": [
    "import pickle\n",
    "import torch\n",
    "from torch.utils.data import Dataset, DataLoader\n",
    "import numpy as np\n",
    "from torchvision import transforms\n",
    "\n",
    "# Define custom dataset class\n",
    "class CIFARDataset(Dataset):\n",
    "    def __init__(self, pkl_file, transform=None):\n",
    "        with open(pkl_file, 'rb') as f:\n",
    "            data_dict = pickle.load(f, encoding='bytes')\n",
    "        \n",
    "        self.data = data_dict[b'data']  # 10000x3072 numpy array\n",
    "        self.labels = data_dict[b'labels']  # List of 10000 labels\n",
    "        \n",
    "        # Reshape data to (10000, 3, 32, 32)\n",
    "        self.data = self.data.reshape(-1, 3, 32, 32).astype(np.float32) / 255.0  # Normalize\n",
    "        \n",
    "        self.transform = transform\n",
    "\n",
    "    def __len__(self):\n",
    "        return len(self.labels)\n",
    "\n",
    "    def __getitem__(self, idx):\n",
    "        img = self.data[idx]\n",
    "        label = self.labels[idx]\n",
    "        \n",
    "        if self.transform:\n",
    "            img = self.transform(torch.tensor(img))\n",
    "\n",
    "        return img, torch.tensor(label, dtype=torch.long)\n",
    "\n",
    "# Define test dataset transformation (normalize to match model training)\n",
    "transform = transforms.Compose([\n",
    "    transforms.ToPILImage(),\n",
    "    transforms.ToTensor(),\n",
    "    transforms.Normalize(mean=[0.485, 0.456, 0.406], std=[0.229, 0.224, 0.225])  # Adjust based on training\n",
    "])\n",
    "\n",
    "# Create dataset and DataLoader\n",
    "test_dataset = CIFARDataset('E:\\\\MS\\\\DL\\\\Try2\\\\deep-learning-spring-2025-project-1\\\\cifar-10-python\\\\cifar-10-batches-py\\\\test_batch', transform=transform)\n",
    "test_loader = DataLoader(test_dataset, batch_size=64, shuffle=False)\n",
    "\n",
    "# Function to evaluate model accuracy\n",
    "def evaluate_model(model, test_loader, device):\n",
    "    model.eval()  # Set to evaluation mode\n",
    "    correct = 0\n",
    "    total = 0\n",
    "    \n",
    "    with torch.no_grad():\n",
    "        for images, labels in test_loader:\n",
    "            images, labels = images.to(device), labels.to(device)\n",
    "            outputs = model(images)\n",
    "            _, predicted = torch.max(outputs, 1)\n",
    "            correct += (predicted == labels).sum().item()\n",
    "            total += labels.size(0)\n",
    "\n",
    "    accuracy = 100 * correct / total\n",
    "    return accuracy\n",
    "\n",
    "\n"
   ]
  },
  {
   "cell_type": "code",
   "execution_count": 63,
   "id": "11e65dc0",
   "metadata": {},
   "outputs": [
    {
     "name": "stdout",
     "output_type": "stream",
     "text": [
      "Test Accuracy: 10.0%\n"
     ]
    }
   ],
   "source": [
    "# Example usage:\n",
    "model = SmallBalancedResNet() # Load your trained model\n",
    "device = torch.device(\"cuda\" if torch.cuda.is_available() else \"cpu\")\n",
    "model.to(device)\n",
    "accuracy = evaluate_model(model, test_loader, device)\n",
    "print(f\"Test Accuracy: {accuracy}%\")"
   ]
  },
  {
   "cell_type": "code",
   "execution_count": null,
   "id": "4c9e80aa",
   "metadata": {},
   "outputs": [],
   "source": []
  },
  {
   "cell_type": "code",
   "execution_count": 59,
   "id": "b297fb44",
   "metadata": {
    "execution": {
     "iopub.execute_input": "2025-03-10T21:27:51.919428Z",
     "iopub.status.busy": "2025-03-10T21:27:51.919132Z",
     "iopub.status.idle": "2025-03-10T21:27:52.297639Z",
     "shell.execute_reply": "2025-03-10T21:27:52.296657Z"
    },
    "papermill": {
     "duration": 0.386287,
     "end_time": "2025-03-10T21:27:52.298930",
     "exception": false,
     "start_time": "2025-03-10T21:27:51.912643",
     "status": "completed"
    },
    "tags": []
   },
   "outputs": [
    {
     "name": "stdout",
     "output_type": "stream",
     "text": [
      "(32, 32, 3)\n"
     ]
    }
   ],
   "source": [
    "# Load test dataset\n",
    "testing_fp = 'deep-learning-spring-2025-project-1\\\\cifar_test_nolabel.pkl'\n",
    "testing_batch = unpickle(testing_fp)\n",
    "testing_data = testing_batch[b'data']\n",
    "\n",
    "print(testing_data[0].shape)"
   ]
  },
  {
   "cell_type": "code",
   "execution_count": 60,
   "id": "c943b96c",
   "metadata": {
    "execution": {
     "iopub.execute_input": "2025-03-10T21:27:52.312448Z",
     "iopub.status.busy": "2025-03-10T21:27:52.312160Z",
     "iopub.status.idle": "2025-03-10T21:27:52.616393Z",
     "shell.execute_reply": "2025-03-10T21:27:52.615551Z"
    },
    "papermill": {
     "duration": 0.31247,
     "end_time": "2025-03-10T21:27:52.617769",
     "exception": false,
     "start_time": "2025-03-10T21:27:52.305299",
     "status": "completed"
    },
    "tags": []
   },
   "outputs": [
    {
     "data": {
      "image/png": "[encoded data removed]",
      "text/plain": [
       "<Figure size 2000x400 with 10 Axes>"
      ]
     },
     "metadata": {},
     "output_type": "display_data"
    }
   ],
   "source": [
    "# Displaying the first 10 images, since we can't see the labels\n",
    "plt.figure(figsize=(20, 4))\n",
    "for i in range(10):\n",
    "    plt.subplot(1, 10, i+1)\n",
    "    plt.imshow(testing_data[i])\n",
    "    plt.axis('off')\n",
    "plt.show() \n",
    "\n",
    "# [0: airplane, 1: automobile, 2: bird, 3: cat, 4: deer, 5: dog, 6: frog, 7: horse, 8: ship, 9: truck]\n",
    "# So we should expect [6, 1, 8, 6, 9, 7, 8, 2, 9, 5] as the first 10 entries of our final CSV."
   ]
  },
  {
   "cell_type": "code",
   "execution_count": 61,
   "id": "c108f8f0",
   "metadata": {
    "execution": {
     "iopub.execute_input": "2025-03-10T21:27:52.631223Z",
     "iopub.status.busy": "2025-03-10T21:27:52.630954Z",
     "iopub.status.idle": "2025-03-10T21:28:02.905095Z",
     "shell.execute_reply": "2025-03-10T21:28:02.904114Z"
    },
    "papermill": {
     "duration": 10.2824,
     "end_time": "2025-03-10T21:28:02.906557",
     "exception": false,
     "start_time": "2025-03-10T21:27:52.624157",
     "status": "completed"
    },
    "tags": []
   },
   "outputs": [
    {
     "name": "stdout",
     "output_type": "stream",
     "text": [
      "torch.Size([3, 32, 32])\n"
     ]
    }
   ],
   "source": [
    "# Changing to Tensor and adjusting shape before test\n",
    "testing_data = [(transform_image(image),) for image in testing_data]\n",
    "print(testing_data[0][0].shape)\n",
    "\n",
    "# DataLoader\n",
    "testing_loader = DataLoader(testing_data, batch_size=128, shuffle=False)"
   ]
  },
  {
   "cell_type": "code",
   "execution_count": 62,
   "id": "0259cc38",
   "metadata": {
    "execution": {
     "iopub.execute_input": "2025-03-10T21:28:02.920311Z",
     "iopub.status.busy": "2025-03-10T21:28:02.920056Z",
     "iopub.status.idle": "2025-03-10T21:28:04.850337Z",
     "shell.execute_reply": "2025-03-10T21:28:04.849336Z"
    },
    "papermill": {
     "duration": 1.938505,
     "end_time": "2025-03-10T21:28:04.851704",
     "exception": false,
     "start_time": "2025-03-10T21:28:02.913199",
     "status": "completed"
    },
    "tags": []
   },
   "outputs": [
    {
     "name": "stdout",
     "output_type": "stream",
     "text": [
      "Submitted! Check output for submission.csv\n"
     ]
    }
   ],
   "source": [
    "## Final output is file called submission.csv with columns ID, Labels\n",
    "\n",
    "model.eval()\n",
    "test_predictions = []\n",
    "\n",
    "with torch.no_grad():\n",
    "    for batch in testing_loader:\n",
    "        images = batch[0].to(device) \n",
    "        outputs = model(images) \n",
    "        _, predictions = torch.max(outputs, dim=1)\n",
    "        test_predictions.extend(predictions.cpu().numpy())\n",
    "\n",
    "test_predictions_dict = {'ID': np.arange(len(test_predictions)), 'Labels': test_predictions}\n",
    "test_predictions_df = pd.DataFrame(test_predictions_dict)\n",
    "test_predictions_df.to_csv('submission1.csv', index=False)\n",
    "print(\"Submitted! Check output for submission.csv\")"
   ]
  }
 ],
 "metadata": {
  "kaggle": {
   "accelerator": "nvidiaTeslaT4",
   "dataSources": [
    {
     "databundleVersionId": 11145869,
     "sourceId": 93057,
     "sourceType": "competition"
    }
   ],
   "dockerImageVersionId": 30919,
   "isGpuEnabled": true,
   "isInternetEnabled": true,
   "language": "python",
   "sourceType": "notebook"
  },
  "kernelspec": {
   "display_name": "Python 3",
   "language": "python",
   "name": "python3"
  },
  "language_info": {
   "codemirror_mode": {
    "name": "ipython",
    "version": 3
   },
   "file_extension": ".py",
   "mimetype": "text/x-python",
   "name": "python",
   "nbconvert_exporter": "python",
   "pygments_lexer": "ipython3",
   "version": "3.13.1"
  },
  "papermill": {
   "default_parameters": {},
   "duration": 1728.455653,
   "end_time": "2025-03-10T21:28:07.807104",
   "environment_variables": {},
   "exception": null,
   "input_path": "__notebook__.ipynb",
   "output_path": "__notebook__.ipynb",
   "parameters": {},
   "start_time": "2025-03-10T20:59:19.351451",
   "version": "2.6.0"
  }
 },
 "nbformat": 4,
 "nbformat_minor": 5
}
