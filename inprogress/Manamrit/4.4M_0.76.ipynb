{
 "cells": [
  {
   "cell_type": "code",
   "execution_count": 8,
   "metadata": {},
   "outputs": [],
   "source": [
    "import torch"
   ]
  },
  {
   "cell_type": "code",
   "execution_count": 9,
   "metadata": {},
   "outputs": [
    {
     "name": "stdout",
     "output_type": "stream",
     "text": [
      "2.6.0+cu126\n"
     ]
    }
   ],
   "source": [
    "print(torch.__version__)"
   ]
  },
  {
   "cell_type": "code",
   "execution_count": 10,
   "metadata": {},
   "outputs": [
    {
     "name": "stdout",
     "output_type": "stream",
     "text": [
      "1\n",
      "NVIDIA GeForce GTX 1650\n"
     ]
    }
   ],
   "source": [
    "print(torch.cuda.device_count())\n",
    "print(torch.cuda.get_device_name(0))"
   ]
  },
  {
   "cell_type": "code",
   "execution_count": 4,
   "metadata": {},
   "outputs": [
    {
     "name": "stdout",
     "output_type": "stream",
     "text": [
      "Sat Mar  8 03:11:04 2025       \n",
      "+-----------------------------------------------------------------------------------------+\n",
      "| NVIDIA-SMI 561.19                 Driver Version: 561.19         CUDA Version: 12.6     |\n",
      "|-----------------------------------------+------------------------+----------------------+\n",
      "| GPU  Name                  Driver-Model | Bus-Id          Disp.A | Volatile Uncorr. ECC |\n",
      "| Fan  Temp   Perf          Pwr:Usage/Cap |           Memory-Usage | GPU-Util  Compute M. |\n",
      "|                                         |                        |               MIG M. |\n",
      "|=========================================+========================+======================|\n",
      "|   0  NVIDIA GeForce GTX 1650      WDDM  |   00000000:01:00.0 Off |                  N/A |\n",
      "| N/A   56C    P0             14W /   50W |       0MiB /   4096MiB |      0%      Default |\n",
      "|                                         |                        |                  N/A |\n",
      "+-----------------------------------------+------------------------+----------------------+\n",
      "                                                                                         \n",
      "+-----------------------------------------------------------------------------------------+\n",
      "| Processes:                                                                              |\n",
      "|  GPU   GI   CI        PID   Type   Process name                              GPU Memory |\n",
      "|        ID   ID                                                               Usage      |\n",
      "|=========================================================================================|\n",
      "|  No running processes found                                                             |\n",
      "+-----------------------------------------------------------------------------------------+\n"
     ]
    }
   ],
   "source": [
    "!nvidia-smi"
   ]
  },
  {
   "cell_type": "code",
   "execution_count": 1,
   "metadata": {},
   "outputs": [
    {
     "name": "stdout",
     "output_type": "stream",
     "text": [
      "Total parameters: 4484394\n"
     ]
    }
   ],
   "source": [
    "import torch\n",
    "import torch.nn as nn\n",
    "\n",
    "class SmallBalancedResNet(nn.Module):\n",
    "    def __init__(self):\n",
    "        super(SmallBalancedResNet, self).__init__()\n",
    "\n",
    "        # First Convolution Layer\n",
    "        self.conv1 = nn.Conv2d(3, 32, kernel_size=3, stride=1, padding=1, bias=False)\n",
    "        self.bn1 = nn.BatchNorm2d(32)\n",
    "        self.relu = nn.ReLU(inplace=True)\n",
    "\n",
    "        # Residual Blocks\n",
    "        self.layer1 = self._make_layer(32, 64, 3, stride=2)  # 64 filters, 3 blocks\n",
    "        self.layer2 = self._make_layer(64, 128, 3, stride=2)  # 128 filters, 3 blocks\n",
    "        self.layer3 = self._make_layer(128, 256, 3, stride=2)  # 256 filters, 3 blocks\n",
    "\n",
    "        # Global Average Pooling\n",
    "        self.avg_pool = nn.AdaptiveAvgPool2d(1)\n",
    "\n",
    "        # Fully connected layer (final output)\n",
    "        self.fc = nn.Linear(256, 10)  # Output size adjusted to match smaller model\n",
    "\n",
    "    def _make_layer(self, in_channels, out_channels, num_blocks, stride):\n",
    "        layers = []\n",
    "        for _ in range(num_blocks):\n",
    "            layers.append(BasicBlock(in_channels, out_channels, stride))\n",
    "            in_channels = out_channels  # Update in_channels for next block\n",
    "        return nn.Sequential(*layers)\n",
    "\n",
    "    def forward(self, x):\n",
    "        x = self.relu(self.bn1(self.conv1(x)))  # Initial conv + batch norm + relu\n",
    "        x = self.layer1(x)\n",
    "        x = self.layer2(x)\n",
    "        x = self.layer3(x)\n",
    "        x = self.avg_pool(x)  # Global average pooling\n",
    "        x = torch.flatten(x, 1)  # Flatten to feed to final layer\n",
    "        x = self.fc(x)\n",
    "        return x\n",
    "\n",
    "class BasicBlock(nn.Module):\n",
    "    def __init__(self, in_channels, out_channels, stride=1):\n",
    "        super(BasicBlock, self).__init__()\n",
    "\n",
    "        self.conv1 = nn.Conv2d(in_channels, out_channels, kernel_size=3, stride=stride, padding=1, bias=False)\n",
    "        self.bn1 = nn.BatchNorm2d(out_channels)\n",
    "        self.relu = nn.ReLU(inplace=True)\n",
    "\n",
    "        self.conv2 = nn.Conv2d(out_channels, out_channels, kernel_size=3, stride=1, padding=1, bias=False)\n",
    "        self.bn2 = nn.BatchNorm2d(out_channels)\n",
    "\n",
    "        # Shortcut skip\n",
    "        self.shortcut = nn.Sequential()\n",
    "        if stride != 1 or in_channels != out_channels:\n",
    "            self.shortcut = nn.Sequential(\n",
    "                nn.Conv2d(in_channels, out_channels, kernel_size=1, stride=stride, bias=False),\n",
    "                nn.BatchNorm2d(out_channels)\n",
    "            )\n",
    "\n",
    "    def forward(self, x):\n",
    "        out = self.relu(self.bn1(self.conv1(x)))  # First convolution + batch norm + relu\n",
    "        out = self.bn2(self.conv2(out))  # Second convolution + batch norm\n",
    "        out += self.shortcut(x)  # Add the shortcut (residual)\n",
    "        out = self.relu(out)  # Apply ReLU to the final result\n",
    "        return out\n",
    "\n",
    "# Create an instance of the model\n",
    "model = SmallBalancedResNet()\n",
    "\n",
    "# Calculate total number of parameters\n",
    "total_params = sum(p.numel() for p in model.parameters())\n",
    "print(f\"Total parameters: {total_params}\")\n"
   ]
  },
  {
   "cell_type": "code",
   "execution_count": 2,
   "metadata": {},
   "outputs": [
    {
     "name": "stdout",
     "output_type": "stream",
     "text": [
      "----------------------------------------------------------------\n",
      "        Layer (type)               Output Shape         Param #\n",
      "================================================================\n",
      "            Conv2d-1           [-1, 32, 32, 32]             864\n",
      "       BatchNorm2d-2           [-1, 32, 32, 32]              64\n",
      "              ReLU-3           [-1, 32, 32, 32]               0\n",
      "            Conv2d-4           [-1, 64, 16, 16]          18,432\n",
      "       BatchNorm2d-5           [-1, 64, 16, 16]             128\n",
      "              ReLU-6           [-1, 64, 16, 16]               0\n",
      "            Conv2d-7           [-1, 64, 16, 16]          36,864\n",
      "       BatchNorm2d-8           [-1, 64, 16, 16]             128\n",
      "            Conv2d-9           [-1, 64, 16, 16]           2,048\n",
      "      BatchNorm2d-10           [-1, 64, 16, 16]             128\n",
      "             ReLU-11           [-1, 64, 16, 16]               0\n",
      "       BasicBlock-12           [-1, 64, 16, 16]               0\n",
      "           Conv2d-13             [-1, 64, 8, 8]          36,864\n",
      "      BatchNorm2d-14             [-1, 64, 8, 8]             128\n",
      "             ReLU-15             [-1, 64, 8, 8]               0\n",
      "           Conv2d-16             [-1, 64, 8, 8]          36,864\n",
      "      BatchNorm2d-17             [-1, 64, 8, 8]             128\n",
      "           Conv2d-18             [-1, 64, 8, 8]           4,096\n",
      "      BatchNorm2d-19             [-1, 64, 8, 8]             128\n",
      "             ReLU-20             [-1, 64, 8, 8]               0\n",
      "       BasicBlock-21             [-1, 64, 8, 8]               0\n",
      "           Conv2d-22             [-1, 64, 4, 4]          36,864\n",
      "      BatchNorm2d-23             [-1, 64, 4, 4]             128\n",
      "             ReLU-24             [-1, 64, 4, 4]               0\n",
      "           Conv2d-25             [-1, 64, 4, 4]          36,864\n",
      "      BatchNorm2d-26             [-1, 64, 4, 4]             128\n",
      "           Conv2d-27             [-1, 64, 4, 4]           4,096\n",
      "      BatchNorm2d-28             [-1, 64, 4, 4]             128\n",
      "             ReLU-29             [-1, 64, 4, 4]               0\n",
      "       BasicBlock-30             [-1, 64, 4, 4]               0\n",
      "           Conv2d-31            [-1, 128, 2, 2]          73,728\n",
      "      BatchNorm2d-32            [-1, 128, 2, 2]             256\n",
      "             ReLU-33            [-1, 128, 2, 2]               0\n",
      "           Conv2d-34            [-1, 128, 2, 2]         147,456\n",
      "      BatchNorm2d-35            [-1, 128, 2, 2]             256\n",
      "           Conv2d-36            [-1, 128, 2, 2]           8,192\n",
      "      BatchNorm2d-37            [-1, 128, 2, 2]             256\n",
      "             ReLU-38            [-1, 128, 2, 2]               0\n",
      "       BasicBlock-39            [-1, 128, 2, 2]               0\n",
      "           Conv2d-40            [-1, 128, 1, 1]         147,456\n",
      "      BatchNorm2d-41            [-1, 128, 1, 1]             256\n",
      "             ReLU-42            [-1, 128, 1, 1]               0\n",
      "           Conv2d-43            [-1, 128, 1, 1]         147,456\n",
      "      BatchNorm2d-44            [-1, 128, 1, 1]             256\n",
      "           Conv2d-45            [-1, 128, 1, 1]          16,384\n",
      "      BatchNorm2d-46            [-1, 128, 1, 1]             256\n",
      "             ReLU-47            [-1, 128, 1, 1]               0\n",
      "       BasicBlock-48            [-1, 128, 1, 1]               0\n",
      "           Conv2d-49            [-1, 128, 1, 1]         147,456\n",
      "      BatchNorm2d-50            [-1, 128, 1, 1]             256\n",
      "             ReLU-51            [-1, 128, 1, 1]               0\n",
      "           Conv2d-52            [-1, 128, 1, 1]         147,456\n",
      "      BatchNorm2d-53            [-1, 128, 1, 1]             256\n",
      "           Conv2d-54            [-1, 128, 1, 1]          16,384\n",
      "      BatchNorm2d-55            [-1, 128, 1, 1]             256\n",
      "             ReLU-56            [-1, 128, 1, 1]               0\n",
      "       BasicBlock-57            [-1, 128, 1, 1]               0\n",
      "           Conv2d-58            [-1, 256, 1, 1]         294,912\n",
      "      BatchNorm2d-59            [-1, 256, 1, 1]             512\n",
      "             ReLU-60            [-1, 256, 1, 1]               0\n",
      "           Conv2d-61            [-1, 256, 1, 1]         589,824\n",
      "      BatchNorm2d-62            [-1, 256, 1, 1]             512\n",
      "           Conv2d-63            [-1, 256, 1, 1]          32,768\n",
      "      BatchNorm2d-64            [-1, 256, 1, 1]             512\n",
      "             ReLU-65            [-1, 256, 1, 1]               0\n",
      "       BasicBlock-66            [-1, 256, 1, 1]               0\n",
      "           Conv2d-67            [-1, 256, 1, 1]         589,824\n",
      "      BatchNorm2d-68            [-1, 256, 1, 1]             512\n",
      "             ReLU-69            [-1, 256, 1, 1]               0\n",
      "           Conv2d-70            [-1, 256, 1, 1]         589,824\n",
      "      BatchNorm2d-71            [-1, 256, 1, 1]             512\n",
      "           Conv2d-72            [-1, 256, 1, 1]          65,536\n",
      "      BatchNorm2d-73            [-1, 256, 1, 1]             512\n",
      "             ReLU-74            [-1, 256, 1, 1]               0\n",
      "       BasicBlock-75            [-1, 256, 1, 1]               0\n",
      "           Conv2d-76            [-1, 256, 1, 1]         589,824\n",
      "      BatchNorm2d-77            [-1, 256, 1, 1]             512\n",
      "             ReLU-78            [-1, 256, 1, 1]               0\n",
      "           Conv2d-79            [-1, 256, 1, 1]         589,824\n",
      "      BatchNorm2d-80            [-1, 256, 1, 1]             512\n",
      "           Conv2d-81            [-1, 256, 1, 1]          65,536\n",
      "      BatchNorm2d-82            [-1, 256, 1, 1]             512\n",
      "             ReLU-83            [-1, 256, 1, 1]               0\n",
      "       BasicBlock-84            [-1, 256, 1, 1]               0\n",
      "AdaptiveAvgPool2d-85            [-1, 256, 1, 1]               0\n",
      "           Linear-86                   [-1, 10]           2,570\n",
      "================================================================\n",
      "Total params: 4,484,394\n",
      "Trainable params: 4,484,394\n",
      "Non-trainable params: 0\n",
      "----------------------------------------------------------------\n",
      "Input size (MB): 0.01\n",
      "Forward/backward pass size (MB): 2.33\n",
      "Params size (MB): 17.11\n",
      "Estimated Total Size (MB): 19.45\n",
      "----------------------------------------------------------------\n"
     ]
    }
   ],
   "source": [
    "from torchsummary import summary\n",
    "\n",
    "# Check if CUDA is available and set the device\n",
    "device = torch.device(\"cuda\" if torch.cuda.is_available() else \"cpu\")\n",
    "\n",
    "# Create an instance of the model\n",
    "model = SmallBalancedResNet()\n",
    "\n",
    "# Move the model to the device\n",
    "model = model.to(device)\n",
    "\n",
    "# Get the model summary\n",
    "summary(model, input_size=(3, 32, 32))  # CIFAR-10 images are 3x32x32\n",
    "\n"
   ]
  },
  {
   "cell_type": "code",
   "execution_count": 12,
   "metadata": {},
   "outputs": [
    {
     "name": "stdout",
     "output_type": "stream",
     "text": [
      "Trainable parameters: 4484394\n",
      "Non-trainable parameters: 0\n",
      "Total parameters: 4484394\n"
     ]
    }
   ],
   "source": [
    "trainable_params = sum(p.numel() for p in model.parameters() if p.requires_grad)\n",
    "non_trainable_params = sum(p.numel() for p in model.parameters() if not p.requires_grad)\n",
    "\n",
    "print(f\"Trainable parameters: {trainable_params}\")\n",
    "print(f\"Non-trainable parameters: {non_trainable_params}\")\n",
    "print(f\"Total parameters: {trainable_params + non_trainable_params}\")\n"
   ]
  },
  {
   "cell_type": "code",
   "execution_count": 3,
   "metadata": {},
   "outputs": [],
   "source": [
    "import torchvision\n",
    "import torchvision.transforms as transforms\n",
    "from torch.utils.data import DataLoader\n",
    "\n",
    "# Data Transformations\n",
    "transform = transforms.Compose([\n",
    "    transforms.ToTensor(),\n",
    "    transforms.Normalize((0.5,), (0.5,))\n",
    "])\n",
    "\n",
    "# Load dataset\n",
    "train_dataset = torchvision.datasets.CIFAR10(root='./data', train=True, transform=transform, download=True)\n",
    "test_dataset = torchvision.datasets.CIFAR10(root='./data', train=False, transform=transform, download=True)\n",
    "\n",
    "# DataLoaders\n",
    "train_loader = DataLoader(train_dataset, batch_size=64, shuffle=True)\n",
    "test_loader = DataLoader(test_dataset, batch_size=64, shuffle=False)\n"
   ]
  },
  {
   "cell_type": "code",
   "execution_count": 22,
   "metadata": {},
   "outputs": [
    {
     "name": "stdout",
     "output_type": "stream",
     "text": [
      "Epoch [1/8], Train Loss: 1.5287, Train Accuracy: 44.58%\n",
      "Epoch [2/8], Train Loss: 1.1022, Train Accuracy: 61.36%\n",
      "Epoch [3/8], Train Loss: 0.8857, Train Accuracy: 69.41%\n",
      "Epoch [4/8], Train Loss: 0.7463, Train Accuracy: 74.30%\n",
      "Epoch [5/8], Train Loss: 0.6405, Train Accuracy: 78.07%\n",
      "Epoch [6/8], Train Loss: 0.5514, Train Accuracy: 80.97%\n",
      "Epoch [7/8], Train Loss: 0.4789, Train Accuracy: 83.63%\n",
      "Epoch [8/8], Train Loss: 0.4201, Train Accuracy: 85.55%\n",
      "Training complete!\n"
     ]
    },
    {
     "data": {
      "image/png": "[encoded data removed]",
      "text/plain": [
       "<Figure size 1200x600 with 2 Axes>"
      ]
     },
     "metadata": {},
     "output_type": "display_data"
    }
   ],
   "source": [
    "import torch\n",
    "import torch.optim as optim\n",
    "import matplotlib.pyplot as plt\n",
    "\n",
    "# Set up model, loss, and optimizer\n",
    "device = torch.device(\"cuda\" if torch.cuda.is_available() else \"cpu\")\n",
    "model = SmallBalancedResNet().to(device)\n",
    "criterion = nn.CrossEntropyLoss()\n",
    "optimizer = optim.Adam(model.parameters(), lr=0.001)\n",
    "\n",
    "# Create lists to store training and validation loss and accuracy\n",
    "train_losses = []\n",
    "train_accuracies = []\n",
    "\n",
    "# Define a function to calculate accuracy\n",
    "def calculate_accuracy(loader, model, device):\n",
    "    model.eval()  # Set model to evaluation mode\n",
    "    correct = 0\n",
    "    total = 0\n",
    "    running_loss = 0.0\n",
    "\n",
    "    with torch.no_grad():  # No need to compute gradients during validation\n",
    "        for images, labels in loader:\n",
    "            images, labels = images.to(device), labels.to(device)\n",
    "\n",
    "            outputs = model(images)\n",
    "            loss = criterion(outputs, labels)\n",
    "            running_loss += loss.item()\n",
    "\n",
    "            # Compute accuracy\n",
    "            _, predicted = torch.max(outputs, 1)\n",
    "            total += labels.size(0)\n",
    "            correct += (predicted == labels).sum().item()\n",
    "\n",
    "    avg_loss = running_loss / len(loader)\n",
    "    accuracy = 100 * correct / total\n",
    "    return avg_loss, accuracy\n",
    "\n",
    "# Training loop\n",
    "num_epochs = 8\n",
    "for epoch in range(num_epochs):\n",
    "    model.train()  # Set model to training mode\n",
    "    running_loss = 0.0\n",
    "    correct = 0\n",
    "    total = 0\n",
    "\n",
    "    for images, labels in train_loader:\n",
    "        images, labels = images.to(device), labels.to(device)\n",
    "\n",
    "        # Forward pass\n",
    "        outputs = model(images)\n",
    "        loss = criterion(outputs, labels)\n",
    "\n",
    "        # Backward and optimize\n",
    "        optimizer.zero_grad()\n",
    "        loss.backward()\n",
    "        optimizer.step()\n",
    "\n",
    "        running_loss += loss.item()\n",
    "\n",
    "        # Compute training accuracy\n",
    "        _, predicted = torch.max(outputs, 1)\n",
    "        total += labels.size(0)\n",
    "        correct += (predicted == labels).sum().item()\n",
    "\n",
    "    # Compute training loss and accuracy for this epoch\n",
    "    train_loss = running_loss / len(train_loader)\n",
    "    train_accuracy = 100 * correct / total\n",
    "\n",
    "\n",
    "\n",
    "    # Append the losses and accuracies for plotting later\n",
    "    train_losses.append(train_loss)\n",
    "    train_accuracies.append(train_accuracy)\n",
    "\n",
    "    print(f\"Epoch [{epoch+1}/{num_epochs}], \"\n",
    "          f\"Train Loss: {train_loss:.4f}, Train Accuracy: {train_accuracy:.2f}%\")\n",
    "\n",
    "print(\"Training complete!\")\n",
    "\n",
    "# Plotting the results\n",
    "epochs = range(1, num_epochs + 1)\n",
    "\n",
    "# Plot train and validation loss\n",
    "plt.figure(figsize=(12, 6))\n",
    "plt.subplot(1, 2, 1)\n",
    "plt.plot(epochs, train_losses, label='Train Loss')\n",
    "plt.xlabel('Epoch')\n",
    "plt.ylabel('Loss')\n",
    "plt.legend()\n",
    "\n",
    "# Plot train and validation accuracy\n",
    "plt.subplot(1, 2, 2)\n",
    "plt.plot(epochs, train_accuracies, label='Train Accuracy')\n",
    "plt.xlabel('Epoch')\n",
    "plt.ylabel('Accuracy (%)')\n",
    "plt.legend()\n",
    "\n",
    "plt.tight_layout()\n",
    "plt.show()\n"
   ]
  },
  {
   "cell_type": "code",
   "execution_count": 23,
   "metadata": {},
   "outputs": [
    {
     "name": "stdout",
     "output_type": "stream",
     "text": [
      "Test Accuracy: 76.74%\n"
     ]
    }
   ],
   "source": [
    "# Evaluate on test data\n",
    "model.eval()\n",
    "correct = 0\n",
    "total = 0\n",
    "\n",
    "with torch.no_grad():\n",
    "    for images, labels in test_loader:\n",
    "        images, labels = images.to(device), labels.to(device)\n",
    "        outputs = model(images)\n",
    "        _, predicted = torch.max(outputs, 1)\n",
    "        total += labels.size(0)\n",
    "        correct += (predicted == labels).sum().item()\n",
    "\n",
    "print(f\"Test Accuracy: {100 * correct / total:.2f}%\")"
   ]
  },
  {
   "cell_type": "code",
   "execution_count": 24,
   "metadata": {},
   "outputs": [
    {
     "name": "stdout",
     "output_type": "stream",
     "text": [
      "Epoch [11/11], Loss: 0.3583\n",
      "Continued Training Complete!\n"
     ]
    }
   ],
   "source": [
    "num_more_epochs = 1  # Additional epochs\n",
    "\n",
    "for epoch in range(10, 10 + num_more_epochs):  # Start from 25\n",
    "    model.train()\n",
    "    running_loss = 0.0\n",
    "\n",
    "    for images, labels in train_loader:\n",
    "        images, labels = images.to(device), labels.to(device)\n",
    "\n",
    "        # Forward pass\n",
    "        outputs = model(images)\n",
    "        loss = criterion(outputs, labels)\n",
    "\n",
    "        # Backward and optimize\n",
    "        optimizer.zero_grad()\n",
    "        loss.backward()\n",
    "        optimizer.step()\n",
    "\n",
    "        running_loss += loss.item()\n",
    "\n",
    "    print(f\"Epoch [{epoch+1}/{10+num_more_epochs}], Loss: {running_loss/len(train_loader):.4f}\")\n",
    "\n",
    "print(\"Continued Training Complete!\")"
   ]
  },
  {
   "cell_type": "code",
   "execution_count": 25,
   "metadata": {},
   "outputs": [
    {
     "name": "stdout",
     "output_type": "stream",
     "text": [
      "Test Accuracy: 76.74%\n"
     ]
    }
   ],
   "source": [
    "model.eval()\n",
    "correct = 0\n",
    "total = 0\n",
    "\n",
    "with torch.no_grad():\n",
    "    for images, labels in test_loader:\n",
    "        images, labels = images.to(device), labels.to(device)\n",
    "        outputs = model(images)\n",
    "        _, predicted = torch.max(outputs, 1)\n",
    "        total += labels.size(0)\n",
    "        correct += (predicted == labels).sum().item()\n",
    "\n",
    "print(f\"Test Accuracy: {100 * correct / total:.2f}%\")"
   ]
  }
 ],
 "metadata": {
  "kernelspec": {
   "display_name": "Python 3",
   "language": "python",
   "name": "python3"
  },
  "language_info": {
   "codemirror_mode": {
    "name": "ipython",
    "version": 3
   },
   "file_extension": ".py",
   "mimetype": "text/x-python",
   "name": "python",
   "nbconvert_exporter": "python",
   "pygments_lexer": "ipython3",
   "version": "3.13.1"
  }
 },
 "nbformat": 4,
 "nbformat_minor": 2
}
