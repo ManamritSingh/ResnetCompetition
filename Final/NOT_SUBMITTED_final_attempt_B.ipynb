{
  "cells": [
    {
      "cell_type": "markdown",
      "metadata": {
        "id": "fG66GSrOgAut"
      },
      "source": [
        "Start with Extracting the dataset on colab,\n",
        "Kaggle does not require this step"
      ]
    },
    {
      "cell_type": "code",
      "execution_count": null,
      "metadata": {
        "colab": {
          "base_uri": "https://localhost:8080/"
        },
        "execution": {
          "iopub.execute_input": "2025-03-13T19:44:59.931725Z",
          "iopub.status.busy": "2025-03-13T19:44:59.931444Z",
          "iopub.status.idle": "2025-03-13T19:45:00.012996Z",
          "shell.execute_reply": "2025-03-13T19:45:00.011799Z",
          "shell.execute_reply.started": "2025-03-13T19:44:59.931694Z"
        },
        "id": "OvDbHnFe57g6",
        "outputId": "5a9be8ea-8a07-45a9-c33d-a1aca8b1c706",
        "trusted": true
      },
      "outputs": [
        {
          "name": "stdout",
          "output_type": "stream",
          "text": [
            "Files extracted to: Dataset\n"
          ]
        }
      ],
      "source": [
        "import zipfile\n",
        "\n",
        "zip_file_path = '/content/deep-learning-spring-2025-project-1.zip'\n",
        "destination_folder = 'Dataset'\n",
        "\n",
        "with zipfile.ZipFile(zip_file_path, 'r') as z:\n",
        "    z.extractall(destination_folder)\n",
        "\n",
        "print(f\"Files extracted to: {destination_folder}\")"
      ]
    },
    {
      "cell_type": "markdown",
      "metadata": {
        "id": "lWmd3f3MgMBU"
      },
      "source": [
        "Going through the files from the parent directory"
      ]
    },
    {
      "cell_type": "code",
      "execution_count": null,
      "metadata": {
        "_cell_guid": "b1076dfc-b9ad-4769-8c92-a6c4dae69d19",
        "_uuid": "8f2839f25d086af736a60e9eeb907d3b93b6e0e5",
        "colab": {
          "base_uri": "https://localhost:8080/"
        },
        "execution": {
          "iopub.execute_input": "2025-03-14T01:28:26.719911Z",
          "iopub.status.busy": "2025-03-14T01:28:26.719604Z",
          "iopub.status.idle": "2025-03-14T01:28:27.030892Z",
          "shell.execute_reply": "2025-03-14T01:28:27.030203Z",
          "shell.execute_reply.started": "2025-03-14T01:28:26.719888Z"
        },
        "id": "354c06f5",
        "outputId": "63980730-ac77-4b22-9546-ee954c02d38d",
        "papermill": {
          "duration": 0.691808,
          "end_time": "2025-03-10T20:59:22.628463",
          "exception": false,
          "start_time": "2025-03-10T20:59:21.936655",
          "status": "completed"
        },
        "tags": [],
        "trusted": true
      },
      "outputs": [
        {
          "name": "stdout",
          "output_type": "stream",
          "text": [
            "/content/Dataset/cifar_test_nolabel.pkl\n",
            "/content/Dataset/cifar-10-python/cifar-10-batches-py/test_batch\n",
            "/content/Dataset/cifar-10-python/cifar-10-batches-py/data_batch_4\n",
            "/content/Dataset/cifar-10-python/cifar-10-batches-py/data_batch_1\n",
            "/content/Dataset/cifar-10-python/cifar-10-batches-py/data_batch_5\n",
            "/content/Dataset/cifar-10-python/cifar-10-batches-py/batches.meta\n",
            "/content/Dataset/cifar-10-python/cifar-10-batches-py/readme.html\n",
            "/content/Dataset/cifar-10-python/cifar-10-batches-py/data_batch_3\n",
            "/content/Dataset/cifar-10-python/cifar-10-batches-py/data_batch_2\n"
          ]
        }
      ],
      "source": [
        "# This Python 3 environment comes with many helpful analytics libraries installed\n",
        "# It is defined by the kaggle/python Docker image: https://github.com/kaggle/docker-python\n",
        "# For example, here's several helpful packages to load\n",
        "\n",
        "import numpy as np # linear algebra\n",
        "import pandas as pd # data processing, CSV file I/O (e.g. pd.read_csv)\n",
        "\n",
        "# Input data files are available in the read-only \"../input/\" directory\n",
        "# For example, running this (by clicking run or pressing Shift+Enter) will list all files under the input directory\n",
        "\n",
        "import os\n",
        "for dirname, _, filenames in os.walk('/content/Dataset'):\n",
        "    for filename in filenames:\n",
        "        print(os.path.join(dirname, filename))\n",
        "\n",
        "# You can write up to 20GB to the current directory (/kaggle/working/) that gets preserved as output when you create a version using \"Save & Run All\"\n",
        "# You can also write temporary files to /kaggle/temp/, but they won't be saved outside of the current session"
      ]
    },
    {
      "cell_type": "markdown",
      "metadata": {
        "id": "HLyfLTIMgSqb"
      },
      "source": [
        "unpickle using the snipet provided\n",
        "Also run a loop to get all the 5 batches done\n",
        "and then printing classes, total number of images and label"
      ]
    },
    {
      "cell_type": "code",
      "execution_count": null,
      "metadata": {
        "colab": {
          "base_uri": "https://localhost:8080/"
        },
        "execution": {
          "iopub.execute_input": "2025-03-14T01:28:31.547004Z",
          "iopub.status.busy": "2025-03-14T01:28:31.546573Z",
          "iopub.status.idle": "2025-03-14T01:28:39.709155Z",
          "shell.execute_reply": "2025-03-14T01:28:39.708398Z",
          "shell.execute_reply.started": "2025-03-14T01:28:31.546976Z"
        },
        "id": "a73fdabf",
        "outputId": "2a6543fb-e646-4dda-ef7d-c8faefbf4af7",
        "papermill": {
          "duration": 9.295949,
          "end_time": "2025-03-10T20:59:31.927490",
          "exception": false,
          "start_time": "2025-03-10T20:59:22.631541",
          "status": "completed"
        },
        "tags": [],
        "trusted": true
      },
      "outputs": [
        {
          "name": "stdout",
          "output_type": "stream",
          "text": [
            "[b'airplane', b'automobile', b'bird', b'cat', b'deer', b'dog', b'frog', b'horse', b'ship', b'truck']\n",
            "50000\n",
            "50000\n"
          ]
        }
      ],
      "source": [
        "import pandas as pd\n",
        "import pickle\n",
        "import matplotlib.pyplot as plt\n",
        "from torch.utils.data import DataLoader, random_split\n",
        "from torchvision import transforms\n",
        "\n",
        "def unpickle(file):\n",
        "    with open(file, 'rb') as fo:\n",
        "        dict = pickle.load(fo, encoding='bytes')\n",
        "    return dict\n",
        "\n",
        "classes_dict = unpickle(\"/content/Dataset/cifar-10-python/cifar-10-batches-py/batches.meta\")\n",
        "label_names = classes_dict[b'label_names']\n",
        "print(label_names)\n",
        "\n",
        "# Load training data in batches, then combine\n",
        "training_data = []\n",
        "training_labels = []\n",
        "for i in range(1, 6):\n",
        "    training_fp = \"/content/Dataset/cifar-10-python/cifar-10-batches-py/data_batch_{}\".format(i)\n",
        "    batch = unpickle(training_fp)\n",
        "    batch_data = batch[b'data']\n",
        "    batch_labels = batch[b'labels']\n",
        "    for i in range(len(batch_data)):\n",
        "        training_data.append(batch_data[i])\n",
        "        training_labels.append(batch_labels[i])\n",
        "\n",
        "print(len(training_data))\n",
        "print(len(training_labels))"
      ]
    },
    {
      "cell_type": "markdown",
      "metadata": {
        "id": "_BtfgoOXg1xt"
      },
      "source": [
        "Initially we just had a common transformation applies to both the train and validation set, but halfway through we decided that we don't want to test on transformed data so these functions might appear slighly different in earlier versions."
      ]
    },
    {
      "cell_type": "code",
      "execution_count": null,
      "metadata": {
        "colab": {
          "base_uri": "https://localhost:8080/"
        },
        "execution": {
          "iopub.execute_input": "2025-03-14T01:28:46.668872Z",
          "iopub.status.busy": "2025-03-14T01:28:46.668427Z",
          "iopub.status.idle": "2025-03-14T01:29:43.526617Z",
          "shell.execute_reply": "2025-03-14T01:29:43.525687Z",
          "shell.execute_reply.started": "2025-03-14T01:28:46.668846Z"
        },
        "id": "c6c1ad1c",
        "outputId": "b6b110c5-51e3-4014-bdb0-e37fa24c2f21",
        "papermill": {
          "duration": 52.007716,
          "end_time": "2025-03-10T21:00:23.938276",
          "exception": false,
          "start_time": "2025-03-10T20:59:31.930560",
          "status": "completed"
        },
        "tags": [],
        "trusted": true
      },
      "outputs": [
        {
          "name": "stdout",
          "output_type": "stream",
          "text": [
            "torch.Size([3, 32, 32])\n",
            "torch.Size([3, 32, 32])\n"
          ]
        }
      ],
      "source": [
        "import numpy as np\n",
        "from torchvision import transforms\n",
        "from PIL import Image\n",
        "\n",
        "# Assuming training_labels is a NumPy array\n",
        "training_labels = np.array(training_labels)\n",
        "\n",
        "def transform_image(image):\n",
        "    transform = transforms.Compose([\n",
        "        transforms.ToPILImage(),  # Convert tensor to PIL for augmentation\n",
        "        transforms.RandomHorizontalFlip(),\n",
        "        transforms.RandomRotation(15),\n",
        "        transforms.ColorJitter(brightness=0.2, contrast=0.2, saturation=0.2, hue=0.1),\n",
        "        transforms.RandomResizedCrop(32, scale=(0.8, 1.0)),\n",
        "        transforms.ToTensor(),\n",
        "        transforms.RandomErasing(p=0.2, scale=(0.02, 0.1), value=1.0, inplace=False),\n",
        "        transforms.Normalize(mean=[0.485, 0.456, 0.406], std=[0.229, 0.224, 0.225]) # Normalization\n",
        "    ])\n",
        "    return transform(image)\n",
        "\n",
        "def transform_validation(image):\n",
        "    valid_transform = transforms.Compose([\n",
        "        transforms.ToPILImage(),\n",
        "        transforms.ToTensor(),\n",
        "        transforms.Normalize(mean=[0.485, 0.456, 0.406], std=[0.229, 0.224, 0.225])\n",
        "    ])\n",
        "    return valid_transform(image)\n",
        "\n",
        "# Convert and reshape training data\n",
        "training_data = np.array(training_data).reshape(-1, 3, 32, 32).transpose(0, 2, 3, 1)\n",
        "\n",
        "# Split data into training and validation sets\n",
        "training_count = int(0.8 * len(training_data))\n",
        "validation_count = len(training_data) - training_count  # To make sure the total count adds up\n",
        "\n",
        "# Apply random_split on training data and corresponding labels\n",
        "train_data, val_data = random_split(list(zip(training_data, training_labels)), [training_count, validation_count])\n",
        "\n",
        "# Apply transformations to training and validation data\n",
        "training_data = [(transform_image(image), label) for image, label in train_data]\n",
        "validation_data = [(transform_validation(image), label) for image, label in val_data]\n",
        "\n",
        "print(training_data[0][0].shape)  # Training data\n",
        "print(validation_data[0][0].shape)  # Validation data\n"
      ]
    },
    {
      "cell_type": "markdown",
      "metadata": {
        "id": "Ki_H3CQUhVLz"
      },
      "source": [
        "Defining the NN here.\n",
        "I went with 2 sorts of residual blocks eventually, even though most of our work employes a single type.\n",
        "The idea is derived from the fact that while training I could either let my model overfit and that was the only case where the architecture would completely learn the data (100% on train), if I took any measures to prevent the overfitting, be it L1 or L2 regularisation or playing aaround with learning rates or scheduling learning rates or even batch size, the model would struggle to learn and would bottleneck at about 80% train and 70-75% validation accuracy.\n",
        "\n",
        "This made me think there are some sort of features that I am missing out on and hence I tried creating two sorts of blocks, Global and Local"
      ]
    },
    {
      "cell_type": "code",
      "execution_count": null,
      "metadata": {
        "colab": {
          "base_uri": "https://localhost:8080/"
        },
        "execution": {
          "iopub.execute_input": "2025-03-14T01:29:53.007294Z",
          "iopub.status.busy": "2025-03-14T01:29:53.006953Z",
          "iopub.status.idle": "2025-03-14T01:29:53.391516Z",
          "shell.execute_reply": "2025-03-14T01:29:53.390692Z",
          "shell.execute_reply.started": "2025-03-14T01:29:53.007269Z"
        },
        "id": "ea2d80d1",
        "outputId": "b20a5d8d-c860-44cf-a29a-1601d9d38598",
        "papermill": {
          "duration": 0.021765,
          "end_time": "2025-03-10T21:00:23.977707",
          "exception": false,
          "start_time": "2025-03-10T21:00:23.955942",
          "status": "completed"
        },
        "tags": [],
        "trusted": true
      },
      "outputs": [
        {
          "name": "stdout",
          "output_type": "stream",
          "text": [
            "SimpleResNet(\n",
            "  (conv1): Conv2d(3, 64, kernel_size=(3, 3), stride=(1, 1), padding=(1, 1), bias=False)\n",
            "  (bn1): BatchNorm2d(64, eps=1e-05, momentum=0.1, affine=True, track_running_stats=True)\n",
            "  (relu): ReLU(inplace=True)\n",
            "  (layer1): GlobalResidualBlock(\n",
            "    (conv): Conv2d(64, 64, kernel_size=(3, 3), stride=(1, 1), padding=(2, 2), dilation=(2, 2), bias=False)\n",
            "    (bn): BatchNorm2d(64, eps=1e-05, momentum=0.1, affine=True, track_running_stats=True)\n",
            "    (shortcut): Sequential()\n",
            "    (relu): ReLU(inplace=True)\n",
            "    (dropout): Dropout(p=0.1, inplace=False)\n",
            "  )\n",
            "  (layer2): LocalResidualBlock(\n",
            "    (depthwise_conv): Conv2d(64, 64, kernel_size=(3, 3), stride=(2, 2), padding=(1, 1), groups=64, bias=False)\n",
            "    (pointwise_conv): Conv2d(64, 64, kernel_size=(1, 1), stride=(1, 1), bias=False)\n",
            "    (bn): BatchNorm2d(64, eps=1e-05, momentum=0.1, affine=True, track_running_stats=True)\n",
            "    (shortcut): Sequential(\n",
            "      (0): Conv2d(64, 64, kernel_size=(1, 1), stride=(2, 2), bias=False)\n",
            "      (1): BatchNorm2d(64, eps=1e-05, momentum=0.1, affine=True, track_running_stats=True)\n",
            "    )\n",
            "    (relu): ReLU(inplace=True)\n",
            "    (dropout): Dropout(p=0.1, inplace=False)\n",
            "  )\n",
            "  (layer3): GlobalResidualBlock(\n",
            "    (conv): Conv2d(64, 128, kernel_size=(3, 3), stride=(2, 2), padding=(2, 2), dilation=(2, 2), bias=False)\n",
            "    (bn): BatchNorm2d(128, eps=1e-05, momentum=0.1, affine=True, track_running_stats=True)\n",
            "    (shortcut): Sequential(\n",
            "      (0): Conv2d(64, 128, kernel_size=(1, 1), stride=(2, 2), bias=False)\n",
            "      (1): BatchNorm2d(128, eps=1e-05, momentum=0.1, affine=True, track_running_stats=True)\n",
            "    )\n",
            "    (relu): ReLU(inplace=True)\n",
            "    (dropout): Dropout(p=0.1, inplace=False)\n",
            "  )\n",
            "  (layer4): LocalResidualBlock(\n",
            "    (depthwise_conv): Conv2d(128, 128, kernel_size=(3, 3), stride=(2, 2), padding=(1, 1), groups=128, bias=False)\n",
            "    (pointwise_conv): Conv2d(128, 128, kernel_size=(1, 1), stride=(1, 1), bias=False)\n",
            "    (bn): BatchNorm2d(128, eps=1e-05, momentum=0.1, affine=True, track_running_stats=True)\n",
            "    (shortcut): Sequential(\n",
            "      (0): Conv2d(128, 128, kernel_size=(1, 1), stride=(2, 2), bias=False)\n",
            "      (1): BatchNorm2d(128, eps=1e-05, momentum=0.1, affine=True, track_running_stats=True)\n",
            "    )\n",
            "    (relu): ReLU(inplace=True)\n",
            "    (dropout): Dropout(p=0.1, inplace=False)\n",
            "  )\n",
            "  (layer5): GlobalResidualBlock(\n",
            "    (conv): Conv2d(128, 128, kernel_size=(3, 3), stride=(2, 2), padding=(2, 2), dilation=(2, 2), bias=False)\n",
            "    (bn): BatchNorm2d(128, eps=1e-05, momentum=0.1, affine=True, track_running_stats=True)\n",
            "    (shortcut): Sequential(\n",
            "      (0): Conv2d(128, 128, kernel_size=(1, 1), stride=(2, 2), bias=False)\n",
            "      (1): BatchNorm2d(128, eps=1e-05, momentum=0.1, affine=True, track_running_stats=True)\n",
            "    )\n",
            "    (relu): ReLU(inplace=True)\n",
            "    (dropout): Dropout(p=0.1, inplace=False)\n",
            "  )\n",
            "  (layer6): LocalResidualBlock(\n",
            "    (depthwise_conv): Conv2d(128, 128, kernel_size=(3, 3), stride=(2, 2), padding=(1, 1), groups=128, bias=False)\n",
            "    (pointwise_conv): Conv2d(128, 256, kernel_size=(1, 1), stride=(1, 1), bias=False)\n",
            "    (bn): BatchNorm2d(256, eps=1e-05, momentum=0.1, affine=True, track_running_stats=True)\n",
            "    (shortcut): Sequential(\n",
            "      (0): Conv2d(128, 256, kernel_size=(1, 1), stride=(2, 2), bias=False)\n",
            "      (1): BatchNorm2d(256, eps=1e-05, momentum=0.1, affine=True, track_running_stats=True)\n",
            "    )\n",
            "    (relu): ReLU(inplace=True)\n",
            "    (dropout): Dropout(p=0.1, inplace=False)\n",
            "  )\n",
            "  (layer8): LocalResidualBlock(\n",
            "    (depthwise_conv): Conv2d(256, 256, kernel_size=(3, 3), stride=(2, 2), padding=(1, 1), groups=256, bias=False)\n",
            "    (pointwise_conv): Conv2d(256, 256, kernel_size=(1, 1), stride=(1, 1), bias=False)\n",
            "    (bn): BatchNorm2d(256, eps=1e-05, momentum=0.1, affine=True, track_running_stats=True)\n",
            "    (shortcut): Sequential(\n",
            "      (0): Conv2d(256, 256, kernel_size=(1, 1), stride=(2, 2), bias=False)\n",
            "      (1): BatchNorm2d(256, eps=1e-05, momentum=0.1, affine=True, track_running_stats=True)\n",
            "    )\n",
            "    (relu): ReLU(inplace=True)\n",
            "    (dropout): Dropout(p=0.1, inplace=False)\n",
            "  )\n",
            "  (layer9): LocalResidualBlock(\n",
            "    (depthwise_conv): Conv2d(256, 256, kernel_size=(3, 3), stride=(2, 2), padding=(1, 1), groups=256, bias=False)\n",
            "    (pointwise_conv): Conv2d(256, 512, kernel_size=(1, 1), stride=(1, 1), bias=False)\n",
            "    (bn): BatchNorm2d(512, eps=1e-05, momentum=0.1, affine=True, track_running_stats=True)\n",
            "    (shortcut): Sequential(\n",
            "      (0): Conv2d(256, 512, kernel_size=(1, 1), stride=(2, 2), bias=False)\n",
            "      (1): BatchNorm2d(512, eps=1e-05, momentum=0.1, affine=True, track_running_stats=True)\n",
            "    )\n",
            "    (relu): ReLU(inplace=True)\n",
            "    (dropout): Dropout(p=0.1, inplace=False)\n",
            "  )\n",
            "  (layer10): LocalResidualBlock(\n",
            "    (depthwise_conv): Conv2d(512, 512, kernel_size=(3, 3), stride=(2, 2), padding=(1, 1), groups=512, bias=False)\n",
            "    (pointwise_conv): Conv2d(512, 512, kernel_size=(1, 1), stride=(1, 1), bias=False)\n",
            "    (bn): BatchNorm2d(512, eps=1e-05, momentum=0.1, affine=True, track_running_stats=True)\n",
            "    (shortcut): Sequential(\n",
            "      (0): Conv2d(512, 512, kernel_size=(1, 1), stride=(2, 2), bias=False)\n",
            "      (1): BatchNorm2d(512, eps=1e-05, momentum=0.1, affine=True, track_running_stats=True)\n",
            "    )\n",
            "    (relu): ReLU(inplace=True)\n",
            "    (dropout): Dropout(p=0.1, inplace=False)\n",
            "  )\n",
            "  (layer11): GlobalResidualBlock(\n",
            "    (conv): Conv2d(512, 512, kernel_size=(3, 3), stride=(2, 2), padding=(2, 2), dilation=(2, 2), bias=False)\n",
            "    (bn): BatchNorm2d(512, eps=1e-05, momentum=0.1, affine=True, track_running_stats=True)\n",
            "    (shortcut): Sequential(\n",
            "      (0): Conv2d(512, 512, kernel_size=(1, 1), stride=(2, 2), bias=False)\n",
            "      (1): BatchNorm2d(512, eps=1e-05, momentum=0.1, affine=True, track_running_stats=True)\n",
            "    )\n",
            "    (relu): ReLU(inplace=True)\n",
            "    (dropout): Dropout(p=0.1, inplace=False)\n",
            "  )\n",
            "  (layer12): LocalResidualBlock(\n",
            "    (depthwise_conv): Conv2d(512, 512, kernel_size=(3, 3), stride=(2, 2), padding=(1, 1), groups=512, bias=False)\n",
            "    (pointwise_conv): Conv2d(512, 512, kernel_size=(1, 1), stride=(1, 1), bias=False)\n",
            "    (bn): BatchNorm2d(512, eps=1e-05, momentum=0.1, affine=True, track_running_stats=True)\n",
            "    (shortcut): Sequential(\n",
            "      (0): Conv2d(512, 512, kernel_size=(1, 1), stride=(2, 2), bias=False)\n",
            "      (1): BatchNorm2d(512, eps=1e-05, momentum=0.1, affine=True, track_running_stats=True)\n",
            "    )\n",
            "    (relu): ReLU(inplace=True)\n",
            "    (dropout): Dropout(p=0.1, inplace=False)\n",
            "  )\n",
            "  (avg_pool): AdaptiveAvgPool2d(output_size=(1, 1))\n",
            "  (dropout): Dropout(p=0.1, inplace=False)\n",
            "  (fc): Linear(in_features=512, out_features=10, bias=True)\n",
            ")\n"
          ]
        }
      ],
      "source": [
        "import torch\n",
        "import torch.nn as nn\n",
        "import torch.nn.functional as F\n",
        "\n",
        "# Global Feature Residual Block (Dilated Convolutions)\n",
        "class GlobalResidualBlock(nn.Module):\n",
        "    def __init__(self, in_channels, out_channels, stride=1, dilation=2):\n",
        "        super(GlobalResidualBlock, self).__init__()\n",
        "        self.conv = nn.Conv2d(in_channels, out_channels, kernel_size=3, stride=stride, padding=dilation, dilation=dilation, bias=False)\n",
        "        self.bn = nn.BatchNorm2d(out_channels)\n",
        "        self.shortcut = nn.Sequential()\n",
        "        if stride != 1 or in_channels != out_channels:\n",
        "            self.shortcut = nn.Sequential(\n",
        "                nn.Conv2d(in_channels, out_channels, kernel_size=1, stride=stride, bias=False),\n",
        "                nn.BatchNorm2d(out_channels)\n",
        "            )\n",
        "        self.relu = nn.ReLU(inplace=True)\n",
        "        self.dropout = nn.Dropout(0.1)\n",
        "\n",
        "    def forward(self, x):\n",
        "        out = self.conv(x)\n",
        "        out = self.bn(out)\n",
        "        out += self.shortcut(x)  # skip connection\n",
        "        out = self.relu(out)\n",
        "        return self.dropout(out)\n",
        "\n",
        "# Local Feature Residual Block (Depthwise Separable Convolutions)\n",
        "class LocalResidualBlock(nn.Module):\n",
        "    def __init__(self, in_channels, out_channels, stride=1):\n",
        "        super(LocalResidualBlock, self).__init__()\n",
        "        self.depthwise_conv = nn.Conv2d(in_channels, in_channels, kernel_size=3, stride=stride, padding=1, groups=in_channels, bias=False)\n",
        "        self.pointwise_conv = nn.Conv2d(in_channels, out_channels, kernel_size=1, stride=1, bias=False)\n",
        "        self.bn = nn.BatchNorm2d(out_channels)\n",
        "        self.shortcut = nn.Sequential()\n",
        "        if stride != 1 or in_channels != out_channels:\n",
        "            self.shortcut = nn.Sequential(\n",
        "                nn.Conv2d(in_channels, out_channels, kernel_size=1, stride=stride, bias=False),\n",
        "                nn.BatchNorm2d(out_channels)\n",
        "            )\n",
        "        self.relu = nn.ReLU(inplace=True)\n",
        "        self.dropout = nn.Dropout(0.1)\n",
        "\n",
        "    def forward(self, x):\n",
        "        out = self.depthwise_conv(x)\n",
        "        out = self.pointwise_conv(out)\n",
        "        out = self.bn(out)\n",
        "        out += self.shortcut(x)  # skip connection\n",
        "        out = self.relu(out)\n",
        "        return self.dropout(out)\n",
        "\n",
        "# Simple ResNet with Global & Local Blocks\n",
        "class SimpleResNet(nn.Module):\n",
        "    def __init__(self, num_classes=10):\n",
        "        super(SimpleResNet, self).__init__()\n",
        "        self.conv1 = nn.Conv2d(3, 64, kernel_size=3, stride=1, padding=1, bias=False)\n",
        "        self.bn1 = nn.BatchNorm2d(64)\n",
        "        self.relu = nn.ReLU(inplace=True)\n",
        "\n",
        "        # Using Global and Local Residual Blocks\n",
        "        self.layer1 = GlobalResidualBlock(64, 64, stride=1)  # Global Features\n",
        "        self.layer2 = LocalResidualBlock(64, 64, stride=2)  # Local Features\n",
        "        self.layer3 = GlobalResidualBlock(64, 128, stride=2)  # Global Features\n",
        "        self.layer4 = LocalResidualBlock(128, 128, stride=2)  # local Features\n",
        "        self.layer5 = GlobalResidualBlock(128, 128, stride=2)  # Global Features\n",
        "        self.layer6 = LocalResidualBlock(128, 256, stride=2)  # Local Features\n",
        "        self.layer8 = LocalResidualBlock(256, 256, stride=2)  # local Features\n",
        "        self.layer9 = LocalResidualBlock(256, 512, stride=2)  # local Features\n",
        "        self.layer10 = LocalResidualBlock(512, 512, stride=2)  # local Features\n",
        "        self.layer11 = GlobalResidualBlock(512, 512, stride=2)  # Global Features\n",
        "        self.layer12 = LocalResidualBlock(512, 512, stride=2)  # local Features\n",
        "\n",
        "        self.avg_pool = nn.AdaptiveAvgPool2d((1, 1))\n",
        "        self.dropout = nn.Dropout(0.1)\n",
        "        self.fc = nn.Linear(512, num_classes)\n",
        "\n",
        "    def forward(self, x):\n",
        "        out = self.conv1(x)\n",
        "        out = self.bn1(out)\n",
        "        out = self.relu(out)\n",
        "        out = self.layer1(out)\n",
        "        out = self.layer2(out)\n",
        "        out = self.layer3(out)\n",
        "        out = self.layer4(out)\n",
        "        out = self.layer5(out)\n",
        "        out = self.layer6(out)\n",
        "        out = self.layer8(out)\n",
        "        out = self.layer9(out)\n",
        "        out = self.layer10(out)\n",
        "        out = self.layer11(out)\n",
        "        out = self.layer12(out)\n",
        "        out = self.avg_pool(out)\n",
        "        out = self.dropout(out)\n",
        "        out = torch.flatten(out, 1)\n",
        "        return self.fc(out)\n",
        "\n",
        "# Model Summary\n",
        "device = torch.device(\"cuda\" if torch.cuda.is_available() else \"cpu\")\n",
        "model = SimpleResNet(num_classes=10).to(device)\n",
        "print(model)\n"
      ]
    },
    {
      "cell_type": "markdown",
      "metadata": {
        "id": "5-prYzYLiv8k"
      },
      "source": [
        "Made sure the parameters are below 5M, tested several architectures ranging from 75K params to 4.9M params (All available on github repo)"
      ]
    },
    {
      "cell_type": "code",
      "execution_count": null,
      "metadata": {
        "colab": {
          "base_uri": "https://localhost:8080/"
        },
        "execution": {
          "iopub.execute_input": "2025-03-14T01:30:01.504049Z",
          "iopub.status.busy": "2025-03-14T01:30:01.503775Z",
          "iopub.status.idle": "2025-03-14T01:30:01.546646Z",
          "shell.execute_reply": "2025-03-14T01:30:01.545696Z",
          "shell.execute_reply.started": "2025-03-14T01:30:01.504027Z"
        },
        "id": "VO0OuIgXSJMF",
        "outputId": "2f3eeed4-b48a-4321-a9d0-fef5e4a93998",
        "trusted": true
      },
      "outputs": [
        {
          "name": "stdout",
          "output_type": "stream",
          "text": [
            "Total parameters: 4488202\n"
          ]
        }
      ],
      "source": [
        "import torch.optim as optim\n",
        "# Create an instance of the model\n",
        "model = SimpleResNet()\n",
        "\n",
        "# Print total parameters\n",
        "total_params = sum(p.numel() for p in model.parameters())\n",
        "print(f\"Total parameters: {total_params}\")"
      ]
    },
    {
      "cell_type": "code",
      "execution_count": null,
      "metadata": {
        "colab": {
          "base_uri": "https://localhost:8080/"
        },
        "execution": {
          "iopub.execute_input": "2025-03-14T01:30:05.439370Z",
          "iopub.status.busy": "2025-03-14T01:30:05.439034Z",
          "iopub.status.idle": "2025-03-14T01:30:06.347708Z",
          "shell.execute_reply": "2025-03-14T01:30:06.347002Z",
          "shell.execute_reply.started": "2025-03-14T01:30:05.439343Z"
        },
        "id": "a7dc8410",
        "outputId": "e280811a-29cf-491b-aea5-879f8c8a504a",
        "papermill": {
          "duration": 1.000121,
          "end_time": "2025-03-10T21:00:24.980507",
          "exception": false,
          "start_time": "2025-03-10T21:00:23.980386",
          "status": "completed"
        },
        "tags": [],
        "trusted": true
      },
      "outputs": [
        {
          "name": "stdout",
          "output_type": "stream",
          "text": [
            "----------------------------------------------------------------\n",
            "        Layer (type)               Output Shape         Param #\n",
            "================================================================\n",
            "            Conv2d-1           [-1, 64, 32, 32]           1,728\n",
            "       BatchNorm2d-2           [-1, 64, 32, 32]             128\n",
            "              ReLU-3           [-1, 64, 32, 32]               0\n",
            "            Conv2d-4           [-1, 64, 32, 32]          36,864\n",
            "       BatchNorm2d-5           [-1, 64, 32, 32]             128\n",
            "              ReLU-6           [-1, 64, 32, 32]               0\n",
            "           Dropout-7           [-1, 64, 32, 32]               0\n",
            "GlobalResidualBlock-8           [-1, 64, 32, 32]               0\n",
            "            Conv2d-9           [-1, 64, 16, 16]             576\n",
            "           Conv2d-10           [-1, 64, 16, 16]           4,096\n",
            "      BatchNorm2d-11           [-1, 64, 16, 16]             128\n",
            "           Conv2d-12           [-1, 64, 16, 16]           4,096\n",
            "      BatchNorm2d-13           [-1, 64, 16, 16]             128\n",
            "             ReLU-14           [-1, 64, 16, 16]               0\n",
            "          Dropout-15           [-1, 64, 16, 16]               0\n",
            "LocalResidualBlock-16           [-1, 64, 16, 16]               0\n",
            "           Conv2d-17            [-1, 128, 8, 8]          73,728\n",
            "      BatchNorm2d-18            [-1, 128, 8, 8]             256\n",
            "           Conv2d-19            [-1, 128, 8, 8]           8,192\n",
            "      BatchNorm2d-20            [-1, 128, 8, 8]             256\n",
            "             ReLU-21            [-1, 128, 8, 8]               0\n",
            "          Dropout-22            [-1, 128, 8, 8]               0\n",
            "GlobalResidualBlock-23            [-1, 128, 8, 8]               0\n",
            "           Conv2d-24            [-1, 128, 4, 4]           1,152\n",
            "           Conv2d-25            [-1, 128, 4, 4]          16,384\n",
            "      BatchNorm2d-26            [-1, 128, 4, 4]             256\n",
            "           Conv2d-27            [-1, 128, 4, 4]          16,384\n",
            "      BatchNorm2d-28            [-1, 128, 4, 4]             256\n",
            "             ReLU-29            [-1, 128, 4, 4]               0\n",
            "          Dropout-30            [-1, 128, 4, 4]               0\n",
            "LocalResidualBlock-31            [-1, 128, 4, 4]               0\n",
            "           Conv2d-32            [-1, 128, 2, 2]         147,456\n",
            "      BatchNorm2d-33            [-1, 128, 2, 2]             256\n",
            "           Conv2d-34            [-1, 128, 2, 2]          16,384\n",
            "      BatchNorm2d-35            [-1, 128, 2, 2]             256\n",
            "             ReLU-36            [-1, 128, 2, 2]               0\n",
            "          Dropout-37            [-1, 128, 2, 2]               0\n",
            "GlobalResidualBlock-38            [-1, 128, 2, 2]               0\n",
            "           Conv2d-39            [-1, 128, 1, 1]           1,152\n",
            "           Conv2d-40            [-1, 256, 1, 1]          32,768\n",
            "      BatchNorm2d-41            [-1, 256, 1, 1]             512\n",
            "           Conv2d-42            [-1, 256, 1, 1]          32,768\n",
            "      BatchNorm2d-43            [-1, 256, 1, 1]             512\n",
            "             ReLU-44            [-1, 256, 1, 1]               0\n",
            "          Dropout-45            [-1, 256, 1, 1]               0\n",
            "LocalResidualBlock-46            [-1, 256, 1, 1]               0\n",
            "           Conv2d-47            [-1, 256, 1, 1]           2,304\n",
            "           Conv2d-48            [-1, 256, 1, 1]          65,536\n",
            "      BatchNorm2d-49            [-1, 256, 1, 1]             512\n",
            "           Conv2d-50            [-1, 256, 1, 1]          65,536\n",
            "      BatchNorm2d-51            [-1, 256, 1, 1]             512\n",
            "             ReLU-52            [-1, 256, 1, 1]               0\n",
            "          Dropout-53            [-1, 256, 1, 1]               0\n",
            "LocalResidualBlock-54            [-1, 256, 1, 1]               0\n",
            "           Conv2d-55            [-1, 256, 1, 1]           2,304\n",
            "           Conv2d-56            [-1, 512, 1, 1]         131,072\n",
            "      BatchNorm2d-57            [-1, 512, 1, 1]           1,024\n",
            "           Conv2d-58            [-1, 512, 1, 1]         131,072\n",
            "      BatchNorm2d-59            [-1, 512, 1, 1]           1,024\n",
            "             ReLU-60            [-1, 512, 1, 1]               0\n",
            "          Dropout-61            [-1, 512, 1, 1]               0\n",
            "LocalResidualBlock-62            [-1, 512, 1, 1]               0\n",
            "           Conv2d-63            [-1, 512, 1, 1]           4,608\n",
            "           Conv2d-64            [-1, 512, 1, 1]         262,144\n",
            "      BatchNorm2d-65            [-1, 512, 1, 1]           1,024\n",
            "           Conv2d-66            [-1, 512, 1, 1]         262,144\n",
            "      BatchNorm2d-67            [-1, 512, 1, 1]           1,024\n",
            "             ReLU-68            [-1, 512, 1, 1]               0\n",
            "          Dropout-69            [-1, 512, 1, 1]               0\n",
            "LocalResidualBlock-70            [-1, 512, 1, 1]               0\n",
            "           Conv2d-71            [-1, 512, 1, 1]       2,359,296\n",
            "      BatchNorm2d-72            [-1, 512, 1, 1]           1,024\n",
            "           Conv2d-73            [-1, 512, 1, 1]         262,144\n",
            "      BatchNorm2d-74            [-1, 512, 1, 1]           1,024\n",
            "             ReLU-75            [-1, 512, 1, 1]               0\n",
            "          Dropout-76            [-1, 512, 1, 1]               0\n",
            "GlobalResidualBlock-77            [-1, 512, 1, 1]               0\n",
            "           Conv2d-78            [-1, 512, 1, 1]           4,608\n",
            "           Conv2d-79            [-1, 512, 1, 1]         262,144\n",
            "      BatchNorm2d-80            [-1, 512, 1, 1]           1,024\n",
            "           Conv2d-81            [-1, 512, 1, 1]         262,144\n",
            "      BatchNorm2d-82            [-1, 512, 1, 1]           1,024\n",
            "             ReLU-83            [-1, 512, 1, 1]               0\n",
            "          Dropout-84            [-1, 512, 1, 1]               0\n",
            "LocalResidualBlock-85            [-1, 512, 1, 1]               0\n",
            "AdaptiveAvgPool2d-86            [-1, 512, 1, 1]               0\n",
            "          Dropout-87            [-1, 512, 1, 1]               0\n",
            "           Linear-88                   [-1, 10]           5,130\n",
            "================================================================\n",
            "Total params: 4,488,202\n",
            "Trainable params: 4,488,202\n",
            "Non-trainable params: 0\n",
            "----------------------------------------------------------------\n",
            "Input size (MB): 0.01\n",
            "Forward/backward pass size (MB): 5.75\n",
            "Params size (MB): 17.12\n",
            "Estimated Total Size (MB): 22.88\n",
            "----------------------------------------------------------------\n"
          ]
        }
      ],
      "source": [
        "import torch.optim as optim\n",
        "from torchsummary import summary\n",
        "\n",
        "device = torch.device(\"cuda\" if torch.cuda.is_available() else \"cpu\")\n",
        "model = SimpleResNet().to(device)\n",
        "summary(model, (3, 32, 32))"
      ]
    },
    {
      "cell_type": "markdown",
      "metadata": {
        "id": "gDJr-HFJjDqi"
      },
      "source": [
        "It is hard to tell a story using just this block alone, but if you go through the notebooks on github, we tried a bunch of stuff in our training loops and ill list them here\n",
        "1. optimisers (Adam and SGD)\n",
        "2. Learning rate scheduling (Cyclic, plateau, cosine annealing, Multistep)\n",
        "3. Regularisation (Dropout L1 and decay L2)"
      ]
    },
    {
      "cell_type": "code",
      "execution_count": null,
      "metadata": {
        "colab": {
          "base_uri": "https://localhost:8080/",
          "height": 1000
        },
        "execution": {
          "iopub.execute_input": "2025-03-14T01:31:56.048451Z",
          "iopub.status.busy": "2025-03-14T01:31:56.048170Z"
        },
        "id": "3JW7Cee5e6WH",
        "outputId": "d04e8b38-232b-410d-a7b7-65150be30acf",
        "trusted": true
      },
      "outputs": [
        {
          "name": "stdout",
          "output_type": "stream",
          "text": [
            "Epoch 1: Training Loss: 1.9764, Training Accuracy: 27.21%, Validation Accuracy: 42.44%\n",
            "Epoch 2: Training Loss: 1.7012, Training Accuracy: 38.01%, Validation Accuracy: 47.99%\n",
            "Epoch 3: Training Loss: 1.5991, Training Accuracy: 41.74%, Validation Accuracy: 51.75%\n",
            "Epoch 4: Training Loss: 1.5234, Training Accuracy: 44.98%, Validation Accuracy: 54.32%\n",
            "Epoch 5: Training Loss: 1.4506, Training Accuracy: 48.16%, Validation Accuracy: 57.24%\n",
            "Epoch 6: Training Loss: 1.3887, Training Accuracy: 50.57%, Validation Accuracy: 59.78%\n",
            "Epoch 7: Training Loss: 1.3404, Training Accuracy: 52.90%, Validation Accuracy: 59.95%\n",
            "Epoch 8: Training Loss: 1.2903, Training Accuracy: 54.77%, Validation Accuracy: 62.22%\n",
            "Epoch 9: Training Loss: 1.2533, Training Accuracy: 55.91%, Validation Accuracy: 63.62%\n",
            "Epoch 10: Training Loss: 1.2135, Training Accuracy: 57.63%, Validation Accuracy: 63.82%\n",
            "Epoch 11: Training Loss: 1.1711, Training Accuracy: 59.19%, Validation Accuracy: 64.59%\n",
            "Epoch 12: Training Loss: 1.1498, Training Accuracy: 60.09%, Validation Accuracy: 65.62%\n",
            "Epoch 13: Training Loss: 1.1129, Training Accuracy: 61.60%, Validation Accuracy: 65.86%\n",
            "Epoch 14: Training Loss: 1.0894, Training Accuracy: 62.43%, Validation Accuracy: 66.81%\n",
            "Epoch 15: Training Loss: 1.0593, Training Accuracy: 63.31%, Validation Accuracy: 67.11%\n",
            "Epoch 16: Training Loss: 1.0311, Training Accuracy: 64.47%, Validation Accuracy: 67.24%\n",
            "Epoch 17: Training Loss: 1.0013, Training Accuracy: 65.27%, Validation Accuracy: 68.05%\n",
            "Epoch 18: Training Loss: 0.9823, Training Accuracy: 66.46%, Validation Accuracy: 68.09%\n",
            "Epoch 19: Training Loss: 0.9687, Training Accuracy: 66.95%, Validation Accuracy: 68.41%\n",
            "Epoch 20: Training Loss: 0.9471, Training Accuracy: 67.76%, Validation Accuracy: 69.50%\n",
            "Epoch 21: Training Loss: 0.9197, Training Accuracy: 68.63%, Validation Accuracy: 69.55%\n",
            "Epoch 22: Training Loss: 0.8960, Training Accuracy: 69.15%, Validation Accuracy: 69.56%\n",
            "Epoch 23: Training Loss: 0.8737, Training Accuracy: 70.19%, Validation Accuracy: 70.12%\n",
            "Epoch 24: Training Loss: 0.8536, Training Accuracy: 70.86%, Validation Accuracy: 69.79%\n",
            "Epoch 25: Training Loss: 0.8353, Training Accuracy: 71.59%, Validation Accuracy: 70.54%\n",
            "Epoch 26: Training Loss: 0.8256, Training Accuracy: 71.83%, Validation Accuracy: 70.32%\n",
            "Epoch 27: Training Loss: 0.7942, Training Accuracy: 72.97%, Validation Accuracy: 70.51%\n",
            "Epoch 28: Training Loss: 0.7806, Training Accuracy: 73.56%, Validation Accuracy: 70.52%\n",
            "Epoch 29: Training Loss: 0.7596, Training Accuracy: 73.94%, Validation Accuracy: 70.08%\n",
            "Epoch 30: Training Loss: 0.7502, Training Accuracy: 74.58%, Validation Accuracy: 70.22%\n",
            "Epoch 31: Training Loss: 0.7340, Training Accuracy: 75.01%, Validation Accuracy: 71.26%\n",
            "Epoch 32: Training Loss: 0.7249, Training Accuracy: 75.03%, Validation Accuracy: 70.92%\n",
            "Epoch 33: Training Loss: 0.6956, Training Accuracy: 76.17%, Validation Accuracy: 71.49%\n",
            "Epoch 34: Training Loss: 0.6934, Training Accuracy: 76.25%, Validation Accuracy: 71.65%\n",
            "Epoch 35: Training Loss: 0.6829, Training Accuracy: 76.67%, Validation Accuracy: 71.72%\n",
            "Epoch 36: Training Loss: 0.6666, Training Accuracy: 77.53%, Validation Accuracy: 71.71%\n",
            "Epoch 37: Training Loss: 0.6532, Training Accuracy: 77.89%, Validation Accuracy: 71.91%\n",
            "Epoch 38: Training Loss: 0.6344, Training Accuracy: 78.50%, Validation Accuracy: 71.67%\n",
            "Epoch 39: Training Loss: 0.6217, Training Accuracy: 78.88%, Validation Accuracy: 72.50%\n",
            "Epoch 40: Training Loss: 0.6132, Training Accuracy: 79.11%, Validation Accuracy: 71.53%\n",
            "Epoch 41: Training Loss: 0.6071, Training Accuracy: 79.45%, Validation Accuracy: 71.71%\n",
            "Epoch 42: Training Loss: 0.6075, Training Accuracy: 79.38%, Validation Accuracy: 71.88%\n",
            "Epoch 43: Training Loss: 0.5847, Training Accuracy: 79.96%, Validation Accuracy: 71.74%\n",
            "Epoch 44: Training Loss: 0.5652, Training Accuracy: 80.74%, Validation Accuracy: 70.96%\n",
            "Epoch 45: Training Loss: 0.5720, Training Accuracy: 80.48%, Validation Accuracy: 71.57%\n",
            "Epoch 46: Training Loss: 0.5589, Training Accuracy: 81.02%, Validation Accuracy: 71.82%\n",
            "Epoch 47: Training Loss: 0.5505, Training Accuracy: 81.16%, Validation Accuracy: 71.77%\n",
            "Epoch 48: Training Loss: 0.5389, Training Accuracy: 81.68%, Validation Accuracy: 71.57%\n",
            "Epoch 49: Training Loss: 0.5358, Training Accuracy: 81.85%, Validation Accuracy: 71.90%\n",
            "Epoch 50: Training Loss: 0.5312, Training Accuracy: 82.05%, Validation Accuracy: 72.23%\n",
            "Training complete!\n"
          ]
        },
        {
          "data": {
            "image/png": "[encoded data removed]",
            "text/plain": [
              "<Figure size 800x500 with 1 Axes>"
            ]
          },
          "metadata": {},
          "output_type": "display_data"
        }
      ],
      "source": [
        "import torch\n",
        "import torch.nn as nn\n",
        "import torch.optim as optim\n",
        "from torch.utils.data import DataLoader\n",
        "import matplotlib.pyplot as plt\n",
        "\n",
        "# Define Loss and Optimizer\n",
        "criterion = nn.CrossEntropyLoss()\n",
        "# optimizer = optim.Adam(model.parameters(), lr=0.01, weight_decay=1e-6)\n",
        "optimizer = optim.Adam(model.parameters(), lr=0.01) #not using L2 anymore although it works better with sgd\n",
        "\n",
        "\n",
        "# DataLoaders\n",
        "training_loader = DataLoader(training_data, batch_size=128, shuffle=True, num_workers=4)\n",
        "validation_loader = DataLoader(validation_data, batch_size=128, shuffle=False, num_workers=4)\n",
        "\n",
        "\n",
        "scheduler = optim.lr_scheduler.CyclicLR(\n",
        "    optimizer,\n",
        "    base_lr=0.0001,  # Lower bound of LR\n",
        "    max_lr=0.01,     # Upper bound of LR\n",
        "    step_size_up=len(training_loader) // 2,  # Half an epoch\n",
        "    mode='triangular',  # More stable than triangular2\n",
        "    cycle_momentum=False  # Turn off momentum updates if using Adam\n",
        ")\n",
        "\n",
        "# Store learning rates\n",
        "lr_history = []\n",
        "\n",
        "# Training loop\n",
        "num_epochs = 50\n",
        "for epoch in range(num_epochs):\n",
        "\n",
        "    model.train()\n",
        "    running_loss = 0.0\n",
        "    total_train_predictions = 0\n",
        "    total_train_correct = 0\n",
        "\n",
        "    for images, labels in training_loader:\n",
        "        images, labels = images.to(device), labels.to(device)\n",
        "\n",
        "        optimizer.zero_grad()\n",
        "        outputs = model(images)\n",
        "        loss = criterion(outputs, labels)\n",
        "\n",
        "        loss.backward()\n",
        "        optimizer.step()\n",
        "        scheduler.step()  # Update learning rate after each batch\n",
        "\n",
        "        running_loss += loss.item()\n",
        "        _, predictions = torch.max(outputs, dim=1)\n",
        "        total_train_correct += (predictions == labels).sum().item()\n",
        "        total_train_predictions += labels.size(dim=0)\n",
        "\n",
        "        # Store current learning rate\n",
        "        lr_history.append(scheduler.get_last_lr()[0])\n",
        "\n",
        "    # Validation phase\n",
        "    model.eval()\n",
        "    total_val_predictions = 0\n",
        "    total_val_correct = 0\n",
        "\n",
        "    with torch.no_grad():\n",
        "        for images, labels in validation_loader:\n",
        "            images, labels = images.to(device), labels.to(device)\n",
        "            outputs = model(images)\n",
        "\n",
        "            _, predictions = torch.max(outputs, dim=1)\n",
        "            total_val_correct += (predictions == labels).sum().item()\n",
        "            total_val_predictions += labels.size(dim=0)\n",
        "\n",
        "    val_acc = total_val_correct * 100 / total_val_predictions\n",
        "    train_acc = total_train_correct * 100 / total_train_predictions\n",
        "    train_loss = running_loss / len(training_loader)\n",
        "\n",
        "    print(f'Epoch {epoch+1}: Training Loss: {train_loss:.4f}, Training Accuracy: {train_acc:.2f}%, Validation Accuracy: {val_acc:.2f}%')\n",
        "\n",
        "print(\"Training complete!\")\n",
        "\n",
        "# Plot learning rate changes\n",
        "plt.figure(figsize=(8, 5))\n",
        "plt.plot(lr_history, marker='o', linestyle='-')\n",
        "plt.xlabel('Iterations')\n",
        "plt.ylabel('Learning Rate')\n",
        "plt.title('Cyclic Learning Rate Schedule')\n",
        "plt.grid(True)\n",
        "plt.show()\n"
      ]
    },
    {
      "cell_type": "markdown",
      "metadata": {
        "id": "Velgf_b4jxU1"
      },
      "source": [
        "Since you can see it just gets stuck around the 80% mark due to the overfitting measures I took (this is at a point I have tried everything I can think of and it's some hours before final submission)\n",
        "The idea here is to freeze the weight of local blocks, this is because the local features don't get affected using the transformations such as cropping or rotating, but the global features do, so apply transformations on all the data and try training only the global features.\n",
        "This is a very naive start to the idea and could be explored further and experimented upon\n",
        "\n",
        "So, starting with loading the data over again"
      ]
    },
    {
      "cell_type": "code",
      "execution_count": null,
      "metadata": {
        "colab": {
          "base_uri": "https://localhost:8080/"
        },
        "id": "t45uTwOlPbbn",
        "outputId": "c8bd6ac6-870f-4675-a39b-69ef0edf9e98"
      },
      "outputs": [
        {
          "name": "stdout",
          "output_type": "stream",
          "text": [
            "[b'airplane', b'automobile', b'bird', b'cat', b'deer', b'dog', b'frog', b'horse', b'ship', b'truck']\n",
            "50000\n",
            "50000\n"
          ]
        }
      ],
      "source": [
        "import pandas as pd\n",
        "import pickle\n",
        "import matplotlib.pyplot as plt\n",
        "from torch.utils.data import DataLoader, random_split\n",
        "from torchvision import transforms\n",
        "\n",
        "def unpickle(file):\n",
        "    with open(file, 'rb') as fo:\n",
        "        dict = pickle.load(fo, encoding='bytes')\n",
        "    return dict\n",
        "\n",
        "classes_dict = unpickle(\"/content/Dataset/cifar-10-python/cifar-10-batches-py/batches.meta\")\n",
        "label_names = classes_dict[b'label_names']\n",
        "print(label_names)\n",
        "\n",
        "# Load training data in batches, then combine\n",
        "training_data = []\n",
        "training_labels = []\n",
        "for i in range(1, 6):\n",
        "    training_fp = \"/content/Dataset/cifar-10-python/cifar-10-batches-py/data_batch_{}\".format(i)\n",
        "    batch = unpickle(training_fp)\n",
        "    batch_data = batch[b'data']\n",
        "    batch_labels = batch[b'labels']\n",
        "    for i in range(len(batch_data)):\n",
        "        training_data.append(batch_data[i])\n",
        "        training_labels.append(batch_labels[i])\n",
        "\n",
        "print(len(training_data))\n",
        "print(len(training_labels))"
      ]
    },
    {
      "cell_type": "markdown",
      "metadata": {
        "id": "lXOBf-tFmR0L"
      },
      "source": [
        "Apply transformations on all the data this time"
      ]
    },
    {
      "cell_type": "code",
      "execution_count": null,
      "metadata": {
        "colab": {
          "base_uri": "https://localhost:8080/"
        },
        "id": "8941b1eb",
        "outputId": "eb6075ad-93f4-491a-c715-f020bcf1565d"
      },
      "outputs": [
        {
          "name": "stdout",
          "output_type": "stream",
          "text": [
            "(3072,)\n",
            "(32, 32, 3)\n",
            "torch.Size([3, 32, 32])\n"
          ]
        }
      ],
      "source": [
        "training_labels = np.array(training_labels)\n",
        "\n",
        "def transform_image(image):\n",
        "    image = transforms.ToPILImage()(image) # Required for plt display\n",
        "    image = transforms.RandomHorizontalFlip()(image)\n",
        "    image = transforms.RandomRotation(15)(image)\n",
        "    image = transforms.ColorJitter(brightness=0.2, contrast=0.2, saturation=0.2, hue=0.1)(image)\n",
        "    image = transforms.RandomResizedCrop(32, scale=(0.8, 1.0))(image)\n",
        "    image = transforms.ToTensor()(image)\n",
        "    image = transforms.Normalize(mean=[0.485, 0.456, 0.406], std=[0.229, 0.224, 0.225])(image) # common mean / std. dev numbers cited in Pytorch docs\n",
        "    return image\n",
        "\n",
        "print(training_data[0].shape)\n",
        "# Reshape the array to (N, 3, 32, 32), then rearrange to (N, 32, 32, 3) for transformations\n",
        "training_data = np.array(training_data).reshape(-1, 3, 32, 32).transpose(0, 2, 3, 1)\n",
        "print(training_data[0].shape)\n",
        "\n",
        "training_data = [(transform_image(image), label) for image, label in zip(training_data, training_labels)]\n",
        "print(training_data[0][0].shape)"
      ]
    },
    {
      "cell_type": "code",
      "execution_count": null,
      "metadata": {
        "id": "Vr9Oo_doawF3"
      },
      "outputs": [],
      "source": [
        "training_count = int(0.8 * len(training_data))\n",
        "validation_count = int(0.2 * len(training_data))\n",
        "\n",
        "training_data, validation_data = random_split(training_data, [training_count, validation_count])"
      ]
    },
    {
      "cell_type": "markdown",
      "metadata": {
        "id": "ZaPHdeQtmXDA"
      },
      "source": [
        "Save the model"
      ]
    },
    {
      "cell_type": "code",
      "execution_count": null,
      "metadata": {
        "id": "4c9e80aa"
      },
      "outputs": [],
      "source": [
        "torch.save(model.state_dict(), \"model_weights.pth\")"
      ]
    },
    {
      "cell_type": "markdown",
      "metadata": {
        "id": "388bVw-7mZri"
      },
      "source": [
        "Load the model"
      ]
    },
    {
      "cell_type": "code",
      "execution_count": null,
      "metadata": {
        "colab": {
          "base_uri": "https://localhost:8080/"
        },
        "id": "GQKH2wYqfn-e",
        "outputId": "ddbbff04-952a-4818-c4cd-a912442b0b6e"
      },
      "outputs": [
        {
          "name": "stderr",
          "output_type": "stream",
          "text": [
            "<ipython-input-27-3b73b9aa1e6b>:1: FutureWarning: You are using `torch.load` with `weights_only=False` (the current default value), which uses the default pickle module implicitly. It is possible to construct malicious pickle data which will execute arbitrary code during unpickling (See https://github.com/pytorch/pytorch/blob/main/SECURITY.md#untrusted-models for more details). In a future release, the default value for `weights_only` will be flipped to `True`. This limits the functions that could be executed during unpickling. Arbitrary objects will no longer be allowed to be loaded via this mode unless they are explicitly allowlisted by the user via `torch.serialization.add_safe_globals`. We recommend you start setting `weights_only=True` for any use case where you don't have full control of the loaded file. Please open an issue on GitHub for any issues related to this experimental feature.\n",
            "  model.load_state_dict(torch.load(\"model_weights.pth\"))\n"
          ]
        },
        {
          "data": {
            "text/plain": [
              "SimpleResNet(\n",
              "  (conv1): Conv2d(3, 64, kernel_size=(3, 3), stride=(1, 1), padding=(1, 1), bias=False)\n",
              "  (bn1): BatchNorm2d(64, eps=1e-05, momentum=0.1, affine=True, track_running_stats=True)\n",
              "  (relu): ReLU(inplace=True)\n",
              "  (layer1): GlobalResidualBlock(\n",
              "    (conv): Conv2d(64, 64, kernel_size=(3, 3), stride=(1, 1), padding=(2, 2), dilation=(2, 2), bias=False)\n",
              "    (bn): BatchNorm2d(64, eps=1e-05, momentum=0.1, affine=True, track_running_stats=True)\n",
              "    (shortcut): Sequential()\n",
              "    (relu): ReLU(inplace=True)\n",
              "    (dropout): Dropout(p=0.1, inplace=False)\n",
              "  )\n",
              "  (layer2): LocalResidualBlock(\n",
              "    (depthwise_conv): Conv2d(64, 64, kernel_size=(3, 3), stride=(2, 2), padding=(1, 1), groups=64, bias=False)\n",
              "    (pointwise_conv): Conv2d(64, 64, kernel_size=(1, 1), stride=(1, 1), bias=False)\n",
              "    (bn): BatchNorm2d(64, eps=1e-05, momentum=0.1, affine=True, track_running_stats=True)\n",
              "    (shortcut): Sequential(\n",
              "      (0): Conv2d(64, 64, kernel_size=(1, 1), stride=(2, 2), bias=False)\n",
              "      (1): BatchNorm2d(64, eps=1e-05, momentum=0.1, affine=True, track_running_stats=True)\n",
              "    )\n",
              "    (relu): ReLU(inplace=True)\n",
              "    (dropout): Dropout(p=0.1, inplace=False)\n",
              "  )\n",
              "  (layer3): GlobalResidualBlock(\n",
              "    (conv): Conv2d(64, 128, kernel_size=(3, 3), stride=(2, 2), padding=(2, 2), dilation=(2, 2), bias=False)\n",
              "    (bn): BatchNorm2d(128, eps=1e-05, momentum=0.1, affine=True, track_running_stats=True)\n",
              "    (shortcut): Sequential(\n",
              "      (0): Conv2d(64, 128, kernel_size=(1, 1), stride=(2, 2), bias=False)\n",
              "      (1): BatchNorm2d(128, eps=1e-05, momentum=0.1, affine=True, track_running_stats=True)\n",
              "    )\n",
              "    (relu): ReLU(inplace=True)\n",
              "    (dropout): Dropout(p=0.1, inplace=False)\n",
              "  )\n",
              "  (layer4): LocalResidualBlock(\n",
              "    (depthwise_conv): Conv2d(128, 128, kernel_size=(3, 3), stride=(2, 2), padding=(1, 1), groups=128, bias=False)\n",
              "    (pointwise_conv): Conv2d(128, 128, kernel_size=(1, 1), stride=(1, 1), bias=False)\n",
              "    (bn): BatchNorm2d(128, eps=1e-05, momentum=0.1, affine=True, track_running_stats=True)\n",
              "    (shortcut): Sequential(\n",
              "      (0): Conv2d(128, 128, kernel_size=(1, 1), stride=(2, 2), bias=False)\n",
              "      (1): BatchNorm2d(128, eps=1e-05, momentum=0.1, affine=True, track_running_stats=True)\n",
              "    )\n",
              "    (relu): ReLU(inplace=True)\n",
              "    (dropout): Dropout(p=0.1, inplace=False)\n",
              "  )\n",
              "  (layer5): GlobalResidualBlock(\n",
              "    (conv): Conv2d(128, 128, kernel_size=(3, 3), stride=(2, 2), padding=(2, 2), dilation=(2, 2), bias=False)\n",
              "    (bn): BatchNorm2d(128, eps=1e-05, momentum=0.1, affine=True, track_running_stats=True)\n",
              "    (shortcut): Sequential(\n",
              "      (0): Conv2d(128, 128, kernel_size=(1, 1), stride=(2, 2), bias=False)\n",
              "      (1): BatchNorm2d(128, eps=1e-05, momentum=0.1, affine=True, track_running_stats=True)\n",
              "    )\n",
              "    (relu): ReLU(inplace=True)\n",
              "    (dropout): Dropout(p=0.1, inplace=False)\n",
              "  )\n",
              "  (layer6): LocalResidualBlock(\n",
              "    (depthwise_conv): Conv2d(128, 128, kernel_size=(3, 3), stride=(2, 2), padding=(1, 1), groups=128, bias=False)\n",
              "    (pointwise_conv): Conv2d(128, 256, kernel_size=(1, 1), stride=(1, 1), bias=False)\n",
              "    (bn): BatchNorm2d(256, eps=1e-05, momentum=0.1, affine=True, track_running_stats=True)\n",
              "    (shortcut): Sequential(\n",
              "      (0): Conv2d(128, 256, kernel_size=(1, 1), stride=(2, 2), bias=False)\n",
              "      (1): BatchNorm2d(256, eps=1e-05, momentum=0.1, affine=True, track_running_stats=True)\n",
              "    )\n",
              "    (relu): ReLU(inplace=True)\n",
              "    (dropout): Dropout(p=0.1, inplace=False)\n",
              "  )\n",
              "  (layer8): LocalResidualBlock(\n",
              "    (depthwise_conv): Conv2d(256, 256, kernel_size=(3, 3), stride=(2, 2), padding=(1, 1), groups=256, bias=False)\n",
              "    (pointwise_conv): Conv2d(256, 256, kernel_size=(1, 1), stride=(1, 1), bias=False)\n",
              "    (bn): BatchNorm2d(256, eps=1e-05, momentum=0.1, affine=True, track_running_stats=True)\n",
              "    (shortcut): Sequential(\n",
              "      (0): Conv2d(256, 256, kernel_size=(1, 1), stride=(2, 2), bias=False)\n",
              "      (1): BatchNorm2d(256, eps=1e-05, momentum=0.1, affine=True, track_running_stats=True)\n",
              "    )\n",
              "    (relu): ReLU(inplace=True)\n",
              "    (dropout): Dropout(p=0.1, inplace=False)\n",
              "  )\n",
              "  (layer9): LocalResidualBlock(\n",
              "    (depthwise_conv): Conv2d(256, 256, kernel_size=(3, 3), stride=(2, 2), padding=(1, 1), groups=256, bias=False)\n",
              "    (pointwise_conv): Conv2d(256, 512, kernel_size=(1, 1), stride=(1, 1), bias=False)\n",
              "    (bn): BatchNorm2d(512, eps=1e-05, momentum=0.1, affine=True, track_running_stats=True)\n",
              "    (shortcut): Sequential(\n",
              "      (0): Conv2d(256, 512, kernel_size=(1, 1), stride=(2, 2), bias=False)\n",
              "      (1): BatchNorm2d(512, eps=1e-05, momentum=0.1, affine=True, track_running_stats=True)\n",
              "    )\n",
              "    (relu): ReLU(inplace=True)\n",
              "    (dropout): Dropout(p=0.1, inplace=False)\n",
              "  )\n",
              "  (layer10): LocalResidualBlock(\n",
              "    (depthwise_conv): Conv2d(512, 512, kernel_size=(3, 3), stride=(2, 2), padding=(1, 1), groups=512, bias=False)\n",
              "    (pointwise_conv): Conv2d(512, 512, kernel_size=(1, 1), stride=(1, 1), bias=False)\n",
              "    (bn): BatchNorm2d(512, eps=1e-05, momentum=0.1, affine=True, track_running_stats=True)\n",
              "    (shortcut): Sequential(\n",
              "      (0): Conv2d(512, 512, kernel_size=(1, 1), stride=(2, 2), bias=False)\n",
              "      (1): BatchNorm2d(512, eps=1e-05, momentum=0.1, affine=True, track_running_stats=True)\n",
              "    )\n",
              "    (relu): ReLU(inplace=True)\n",
              "    (dropout): Dropout(p=0.1, inplace=False)\n",
              "  )\n",
              "  (layer11): GlobalResidualBlock(\n",
              "    (conv): Conv2d(512, 512, kernel_size=(3, 3), stride=(2, 2), padding=(2, 2), dilation=(2, 2), bias=False)\n",
              "    (bn): BatchNorm2d(512, eps=1e-05, momentum=0.1, affine=True, track_running_stats=True)\n",
              "    (shortcut): Sequential(\n",
              "      (0): Conv2d(512, 512, kernel_size=(1, 1), stride=(2, 2), bias=False)\n",
              "      (1): BatchNorm2d(512, eps=1e-05, momentum=0.1, affine=True, track_running_stats=True)\n",
              "    )\n",
              "    (relu): ReLU(inplace=True)\n",
              "    (dropout): Dropout(p=0.1, inplace=False)\n",
              "  )\n",
              "  (layer12): LocalResidualBlock(\n",
              "    (depthwise_conv): Conv2d(512, 512, kernel_size=(3, 3), stride=(2, 2), padding=(1, 1), groups=512, bias=False)\n",
              "    (pointwise_conv): Conv2d(512, 512, kernel_size=(1, 1), stride=(1, 1), bias=False)\n",
              "    (bn): BatchNorm2d(512, eps=1e-05, momentum=0.1, affine=True, track_running_stats=True)\n",
              "    (shortcut): Sequential(\n",
              "      (0): Conv2d(512, 512, kernel_size=(1, 1), stride=(2, 2), bias=False)\n",
              "      (1): BatchNorm2d(512, eps=1e-05, momentum=0.1, affine=True, track_running_stats=True)\n",
              "    )\n",
              "    (relu): ReLU(inplace=True)\n",
              "    (dropout): Dropout(p=0.1, inplace=False)\n",
              "  )\n",
              "  (avg_pool): AdaptiveAvgPool2d(output_size=(1, 1))\n",
              "  (dropout): Dropout(p=0.1, inplace=False)\n",
              "  (fc): Linear(in_features=512, out_features=10, bias=True)\n",
              ")"
            ]
          },
          "execution_count": 27,
          "metadata": {},
          "output_type": "execute_result"
        }
      ],
      "source": [
        "model.load_state_dict(torch.load(\"model_weights.pth\"))\n",
        "model.to(device)"
      ]
    },
    {
      "cell_type": "markdown",
      "metadata": {
        "id": "_lHmvBBBmcJH"
      },
      "source": [
        "Freeze the local blocks"
      ]
    },
    {
      "cell_type": "code",
      "execution_count": null,
      "metadata": {
        "id": "BC8yV_5tftRb"
      },
      "outputs": [],
      "source": [
        "for layer in [model.layer2, model.layer4, model.layer6, model.layer8, model.layer9, model.layer10, model.layer12]:  # 2 4 6 8 9 10 12 local blocks\n",
        "    for param in layer.parameters():\n",
        "        param.requires_grad = False\n"
      ]
    },
    {
      "cell_type": "markdown",
      "metadata": {
        "id": "rYf-vSDGmen8"
      },
      "source": [
        "Verify"
      ]
    },
    {
      "cell_type": "code",
      "execution_count": null,
      "metadata": {
        "colab": {
          "base_uri": "https://localhost:8080/"
        },
        "id": "t3m7MwqAiIL5",
        "outputId": "ffaa9ed6-5e40-43d6-c6e5-e2a903cfcaaa"
      },
      "outputs": [
        {
          "name": "stdout",
          "output_type": "stream",
          "text": [
            "conv1.weight: Trainable\n",
            "bn1.weight: Trainable\n",
            "bn1.bias: Trainable\n",
            "layer1.conv.weight: Trainable\n",
            "layer1.bn.weight: Trainable\n",
            "layer1.bn.bias: Trainable\n",
            "layer2.depthwise_conv.weight: Frozen\n",
            "layer2.pointwise_conv.weight: Frozen\n",
            "layer2.bn.weight: Frozen\n",
            "layer2.bn.bias: Frozen\n",
            "layer2.shortcut.0.weight: Frozen\n",
            "layer2.shortcut.1.weight: Frozen\n",
            "layer2.shortcut.1.bias: Frozen\n",
            "layer3.conv.weight: Trainable\n",
            "layer3.bn.weight: Trainable\n",
            "layer3.bn.bias: Trainable\n",
            "layer3.shortcut.0.weight: Trainable\n",
            "layer3.shortcut.1.weight: Trainable\n",
            "layer3.shortcut.1.bias: Trainable\n",
            "layer4.depthwise_conv.weight: Frozen\n",
            "layer4.pointwise_conv.weight: Frozen\n",
            "layer4.bn.weight: Frozen\n",
            "layer4.bn.bias: Frozen\n",
            "layer4.shortcut.0.weight: Frozen\n",
            "layer4.shortcut.1.weight: Frozen\n",
            "layer4.shortcut.1.bias: Frozen\n",
            "layer5.conv.weight: Trainable\n",
            "layer5.bn.weight: Trainable\n",
            "layer5.bn.bias: Trainable\n",
            "layer5.shortcut.0.weight: Trainable\n",
            "layer5.shortcut.1.weight: Trainable\n",
            "layer5.shortcut.1.bias: Trainable\n",
            "layer6.depthwise_conv.weight: Frozen\n",
            "layer6.pointwise_conv.weight: Frozen\n",
            "layer6.bn.weight: Frozen\n",
            "layer6.bn.bias: Frozen\n",
            "layer6.shortcut.0.weight: Frozen\n",
            "layer6.shortcut.1.weight: Frozen\n",
            "layer6.shortcut.1.bias: Frozen\n",
            "layer8.depthwise_conv.weight: Frozen\n",
            "layer8.pointwise_conv.weight: Frozen\n",
            "layer8.bn.weight: Frozen\n",
            "layer8.bn.bias: Frozen\n",
            "layer8.shortcut.0.weight: Frozen\n",
            "layer8.shortcut.1.weight: Frozen\n",
            "layer8.shortcut.1.bias: Frozen\n",
            "layer9.depthwise_conv.weight: Frozen\n",
            "layer9.pointwise_conv.weight: Frozen\n",
            "layer9.bn.weight: Frozen\n",
            "layer9.bn.bias: Frozen\n",
            "layer9.shortcut.0.weight: Frozen\n",
            "layer9.shortcut.1.weight: Frozen\n",
            "layer9.shortcut.1.bias: Frozen\n",
            "layer10.depthwise_conv.weight: Frozen\n",
            "layer10.pointwise_conv.weight: Frozen\n",
            "layer10.bn.weight: Frozen\n",
            "layer10.bn.bias: Frozen\n",
            "layer10.shortcut.0.weight: Frozen\n",
            "layer10.shortcut.1.weight: Frozen\n",
            "layer10.shortcut.1.bias: Frozen\n",
            "layer11.conv.weight: Trainable\n",
            "layer11.bn.weight: Trainable\n",
            "layer11.bn.bias: Trainable\n",
            "layer11.shortcut.0.weight: Trainable\n",
            "layer11.shortcut.1.weight: Trainable\n",
            "layer11.shortcut.1.bias: Trainable\n",
            "layer12.depthwise_conv.weight: Frozen\n",
            "layer12.pointwise_conv.weight: Frozen\n",
            "layer12.bn.weight: Frozen\n",
            "layer12.bn.bias: Frozen\n",
            "layer12.shortcut.0.weight: Frozen\n",
            "layer12.shortcut.1.weight: Frozen\n",
            "layer12.shortcut.1.bias: Frozen\n",
            "fc.weight: Trainable\n",
            "fc.bias: Trainable\n"
          ]
        }
      ],
      "source": [
        "for name, param in model.named_parameters():\n",
        "    print(f\"{name}: {'Trainable' if param.requires_grad else 'Frozen'}\")\n"
      ]
    },
    {
      "cell_type": "markdown",
      "metadata": {
        "id": "kaF5bNpDmg4g"
      },
      "source": [
        "Now train on the new model with local blocks frozen"
      ]
    },
    {
      "cell_type": "code",
      "execution_count": null,
      "metadata": {
        "colab": {
          "base_uri": "https://localhost:8080/",
          "height": 1000
        },
        "id": "9pA5O1dNf2Ci",
        "outputId": "39977408-6257-4d6c-e57c-55e54f6b4d38"
      },
      "outputs": [
        {
          "name": "stdout",
          "output_type": "stream",
          "text": [
            "Epoch 1: Training Loss: 1.0269, Training Accuracy: 66.39%, Validation Accuracy: 70.63%\n",
            "Epoch 2: Training Loss: 0.9356, Training Accuracy: 68.18%, Validation Accuracy: 71.48%\n",
            "Epoch 3: Training Loss: 0.8936, Training Accuracy: 69.67%, Validation Accuracy: 71.51%\n",
            "Epoch 4: Training Loss: 0.8589, Training Accuracy: 70.79%, Validation Accuracy: 71.80%\n",
            "Epoch 5: Training Loss: 0.8302, Training Accuracy: 71.68%, Validation Accuracy: 71.62%\n",
            "Epoch 6: Training Loss: 0.8012, Training Accuracy: 72.89%, Validation Accuracy: 71.50%\n",
            "Epoch 7: Training Loss: 0.7806, Training Accuracy: 73.59%, Validation Accuracy: 72.09%\n",
            "Epoch 8: Training Loss: 0.7576, Training Accuracy: 74.18%, Validation Accuracy: 71.72%\n",
            "Epoch 9: Training Loss: 0.7389, Training Accuracy: 74.97%, Validation Accuracy: 72.16%\n",
            "Epoch 10: Training Loss: 0.7210, Training Accuracy: 75.52%, Validation Accuracy: 71.96%\n",
            "Epoch 11: Training Loss: 0.7006, Training Accuracy: 76.11%, Validation Accuracy: 71.63%\n",
            "Epoch 12: Training Loss: 0.6835, Training Accuracy: 76.63%, Validation Accuracy: 71.71%\n",
            "Epoch 13: Training Loss: 0.6726, Training Accuracy: 77.11%, Validation Accuracy: 71.89%\n",
            "Epoch 14: Training Loss: 0.6548, Training Accuracy: 77.70%, Validation Accuracy: 71.55%\n",
            "Epoch 15: Training Loss: 0.6369, Training Accuracy: 78.17%, Validation Accuracy: 71.55%\n",
            "Epoch 16: Training Loss: 0.6288, Training Accuracy: 78.63%, Validation Accuracy: 71.79%\n",
            "Epoch 17: Training Loss: 0.6211, Training Accuracy: 78.89%, Validation Accuracy: 72.00%\n",
            "Epoch 18: Training Loss: 0.6057, Training Accuracy: 79.37%, Validation Accuracy: 71.33%\n",
            "Epoch 19: Training Loss: 0.5904, Training Accuracy: 79.67%, Validation Accuracy: 71.73%\n",
            "Epoch 20: Training Loss: 0.5906, Training Accuracy: 79.75%, Validation Accuracy: 71.10%\n",
            "Epoch 21: Training Loss: 0.5793, Training Accuracy: 80.09%, Validation Accuracy: 71.28%\n",
            "Epoch 22: Training Loss: 0.5723, Training Accuracy: 80.41%, Validation Accuracy: 71.34%\n",
            "Epoch 23: Training Loss: 0.5655, Training Accuracy: 80.50%, Validation Accuracy: 71.54%\n",
            "Epoch 24: Training Loss: 0.5472, Training Accuracy: 81.09%, Validation Accuracy: 71.15%\n",
            "Epoch 25: Training Loss: 0.5438, Training Accuracy: 81.34%, Validation Accuracy: 71.19%\n",
            "Epoch 26: Training Loss: 0.5354, Training Accuracy: 81.82%, Validation Accuracy: 70.86%\n",
            "Epoch 27: Training Loss: 0.5308, Training Accuracy: 81.82%, Validation Accuracy: 71.14%\n",
            "Epoch 28: Training Loss: 0.5191, Training Accuracy: 82.33%, Validation Accuracy: 71.14%\n",
            "Epoch 29: Training Loss: 0.5109, Training Accuracy: 82.22%, Validation Accuracy: 71.27%\n",
            "Epoch 30: Training Loss: 0.5103, Training Accuracy: 82.42%, Validation Accuracy: 71.46%\n",
            "Epoch 31: Training Loss: 0.5018, Training Accuracy: 82.69%, Validation Accuracy: 71.16%\n",
            "Epoch 32: Training Loss: 0.4862, Training Accuracy: 83.19%, Validation Accuracy: 71.37%\n",
            "Epoch 33: Training Loss: 0.4944, Training Accuracy: 83.16%, Validation Accuracy: 71.08%\n",
            "Epoch 34: Training Loss: 0.4866, Training Accuracy: 83.05%, Validation Accuracy: 70.55%\n",
            "Epoch 35: Training Loss: 0.4789, Training Accuracy: 83.37%, Validation Accuracy: 70.94%\n",
            "Epoch 36: Training Loss: 0.4724, Training Accuracy: 83.83%, Validation Accuracy: 71.05%\n",
            "Epoch 37: Training Loss: 0.4634, Training Accuracy: 84.16%, Validation Accuracy: 71.13%\n",
            "Epoch 38: Training Loss: 0.4569, Training Accuracy: 84.23%, Validation Accuracy: 70.76%\n",
            "Epoch 39: Training Loss: 0.4602, Training Accuracy: 84.17%, Validation Accuracy: 71.14%\n",
            "Epoch 40: Training Loss: 0.4529, Training Accuracy: 84.36%, Validation Accuracy: 70.91%\n",
            "Epoch 41: Training Loss: 0.4589, Training Accuracy: 84.19%, Validation Accuracy: 70.68%\n",
            "Epoch 42: Training Loss: 0.4429, Training Accuracy: 84.94%, Validation Accuracy: 70.67%\n",
            "Epoch 43: Training Loss: 0.4443, Training Accuracy: 84.58%, Validation Accuracy: 70.96%\n",
            "Epoch 44: Training Loss: 0.4311, Training Accuracy: 85.12%, Validation Accuracy: 70.72%\n",
            "Epoch 45: Training Loss: 0.4331, Training Accuracy: 84.97%, Validation Accuracy: 70.87%\n",
            "Epoch 46: Training Loss: 0.4248, Training Accuracy: 85.32%, Validation Accuracy: 70.94%\n",
            "Epoch 47: Training Loss: 0.4251, Training Accuracy: 85.34%, Validation Accuracy: 71.12%\n",
            "Epoch 48: Training Loss: 0.4180, Training Accuracy: 85.85%, Validation Accuracy: 70.98%\n",
            "Epoch 49: Training Loss: 0.4194, Training Accuracy: 85.44%, Validation Accuracy: 70.96%\n",
            "Epoch 50: Training Loss: 0.4128, Training Accuracy: 85.89%, Validation Accuracy: 70.42%\n",
            "Epoch 51: Training Loss: 0.4118, Training Accuracy: 85.59%, Validation Accuracy: 71.09%\n",
            "Epoch 52: Training Loss: 0.4090, Training Accuracy: 85.73%, Validation Accuracy: 70.35%\n",
            "Epoch 53: Training Loss: 0.4041, Training Accuracy: 85.78%, Validation Accuracy: 70.13%\n",
            "Epoch 54: Training Loss: 0.4004, Training Accuracy: 86.04%, Validation Accuracy: 70.88%\n",
            "Epoch 55: Training Loss: 0.3938, Training Accuracy: 86.41%, Validation Accuracy: 70.03%\n",
            "Epoch 56: Training Loss: 0.3946, Training Accuracy: 86.33%, Validation Accuracy: 71.14%\n",
            "Epoch 57: Training Loss: 0.3878, Training Accuracy: 86.61%, Validation Accuracy: 69.92%\n",
            "Epoch 58: Training Loss: 0.3924, Training Accuracy: 86.52%, Validation Accuracy: 70.91%\n",
            "Epoch 59: Training Loss: 0.3939, Training Accuracy: 86.22%, Validation Accuracy: 70.70%\n",
            "Epoch 60: Training Loss: 0.3891, Training Accuracy: 86.67%, Validation Accuracy: 70.61%\n",
            "Epoch 61: Training Loss: 0.3821, Training Accuracy: 86.70%, Validation Accuracy: 70.54%\n",
            "Epoch 62: Training Loss: 0.3722, Training Accuracy: 87.08%, Validation Accuracy: 70.26%\n",
            "Epoch 63: Training Loss: 0.3741, Training Accuracy: 87.23%, Validation Accuracy: 70.62%\n",
            "Epoch 64: Training Loss: 0.3808, Training Accuracy: 86.96%, Validation Accuracy: 70.73%\n",
            "Epoch 65: Training Loss: 0.3829, Training Accuracy: 86.88%, Validation Accuracy: 70.54%\n",
            "Epoch 66: Training Loss: 0.3749, Training Accuracy: 87.18%, Validation Accuracy: 70.39%\n",
            "Epoch 67: Training Loss: 0.3629, Training Accuracy: 87.49%, Validation Accuracy: 70.49%\n",
            "Epoch 68: Training Loss: 0.3632, Training Accuracy: 87.36%, Validation Accuracy: 70.57%\n",
            "Epoch 69: Training Loss: 0.3662, Training Accuracy: 87.35%, Validation Accuracy: 70.41%\n",
            "Epoch 70: Training Loss: 0.3543, Training Accuracy: 87.69%, Validation Accuracy: 70.15%\n",
            "Epoch 71: Training Loss: 0.3618, Training Accuracy: 87.53%, Validation Accuracy: 70.11%\n",
            "Epoch 72: Training Loss: 0.3607, Training Accuracy: 87.58%, Validation Accuracy: 70.51%\n",
            "Epoch 73: Training Loss: 0.3533, Training Accuracy: 87.81%, Validation Accuracy: 70.55%\n",
            "Epoch 74: Training Loss: 0.3461, Training Accuracy: 88.07%, Validation Accuracy: 70.07%\n",
            "Epoch 75: Training Loss: 0.3558, Training Accuracy: 87.68%, Validation Accuracy: 70.63%\n",
            "Epoch 76: Training Loss: 0.3500, Training Accuracy: 88.06%, Validation Accuracy: 70.95%\n",
            "Epoch 77: Training Loss: 0.3398, Training Accuracy: 88.24%, Validation Accuracy: 70.43%\n",
            "Epoch 78: Training Loss: 0.3413, Training Accuracy: 88.14%, Validation Accuracy: 70.17%\n",
            "Epoch 79: Training Loss: 0.3497, Training Accuracy: 87.91%, Validation Accuracy: 70.22%\n",
            "Epoch 80: Training Loss: 0.3401, Training Accuracy: 88.30%, Validation Accuracy: 70.41%\n",
            "Training complete!\n"
          ]
        },
        {
          "data": {
            "image/png": "[encoded data removed]",
            "text/plain": [
              "<Figure size 800x500 with 1 Axes>"
            ]
          },
          "metadata": {},
          "output_type": "display_data"
        }
      ],
      "source": [
        "# Define Loss and Optimizer Only for Unfrozen Layers\n",
        "criterion = nn.CrossEntropyLoss()\n",
        "optimizer = optim.Adam(filter(lambda p: p.requires_grad, model.parameters()), lr=0.01)\n",
        "\n",
        "training_loader = DataLoader(training_data, batch_size=128, shuffle=True, num_workers=4)\n",
        "validation_loader = DataLoader(validation_data, batch_size=128, shuffle=False, num_workers=4)\n",
        "\n",
        "# Cyclic Learning Rate Scheduler\n",
        "scheduler = optim.lr_scheduler.CyclicLR(\n",
        "    optimizer,\n",
        "    base_lr=0.0001,\n",
        "    max_lr=0.01,\n",
        "    step_size_up=len(training_loader) // 2,\n",
        "    mode='triangular',\n",
        "    cycle_momentum=False\n",
        ")\n",
        "\n",
        "# Store learning rates\n",
        "lr_history = []\n",
        "\n",
        "# Training loop\n",
        "num_epochs = 80\n",
        "for epoch in range(num_epochs):\n",
        "    model.train()\n",
        "    running_loss = 0.0\n",
        "    total_train_predictions = 0\n",
        "    total_train_correct = 0\n",
        "\n",
        "    for images, labels in training_loader:\n",
        "        images, labels = images.to(device), labels.to(device)\n",
        "\n",
        "        optimizer.zero_grad()\n",
        "        outputs = model(images)\n",
        "        loss = criterion(outputs, labels)\n",
        "\n",
        "        loss.backward()\n",
        "        optimizer.step()  # Updates only unfrozen layers now\n",
        "        scheduler.step()  # Update learning rate after each batch\n",
        "\n",
        "        running_loss += loss.item()\n",
        "        _, predictions = torch.max(outputs, dim=1)\n",
        "        total_train_correct += (predictions == labels).sum().item()\n",
        "        total_train_predictions += labels.size(dim=0)\n",
        "\n",
        "        # Store current learning rate\n",
        "        lr_history.append(scheduler.get_last_lr()[0])\n",
        "\n",
        "    # Validation phase\n",
        "    model.eval()\n",
        "    total_val_predictions = 0\n",
        "    total_val_correct = 0\n",
        "\n",
        "    with torch.no_grad():\n",
        "        for images, labels in validation_loader:\n",
        "            images, labels = images.to(device), labels.to(device)\n",
        "            outputs = model(images)\n",
        "\n",
        "            _, predictions = torch.max(outputs, dim=1)\n",
        "            total_val_correct += (predictions == labels).sum().item()\n",
        "            total_val_predictions += labels.size(dim=0)\n",
        "\n",
        "    val_acc = total_val_correct * 100 / total_val_predictions\n",
        "    train_acc = total_train_correct * 100 / total_train_predictions\n",
        "    train_loss = running_loss / len(training_loader)\n",
        "\n",
        "    print(f'Epoch {epoch+1}: Training Loss: {train_loss:.4f}, Training Accuracy: {train_acc:.2f}%, Validation Accuracy: {val_acc:.2f}%')\n",
        "\n",
        "print(\"Training complete!\")\n",
        "\n",
        "# Plot learning rate changes\n",
        "plt.figure(figsize=(8, 5))\n",
        "plt.plot(lr_history, marker='o', linestyle='-')\n",
        "plt.xlabel('Iterations')\n",
        "plt.ylabel('Learning Rate')\n",
        "plt.title('Cyclic Learning Rate Schedule')\n",
        "plt.grid(True)\n",
        "plt.show()\n"
      ]
    },
    {
      "cell_type": "markdown",
      "metadata": {
        "id": "xvZZt9JqmtAu"
      },
      "source": [
        "getting the unlabelled test set ready"
      ]
    },
    {
      "cell_type": "code",
      "execution_count": null,
      "metadata": {
        "colab": {
          "base_uri": "https://localhost:8080/"
        },
        "execution": {
          "iopub.execute_input": "2025-03-10T21:27:51.919428Z",
          "iopub.status.busy": "2025-03-10T21:27:51.919132Z",
          "iopub.status.idle": "2025-03-10T21:27:52.297639Z",
          "shell.execute_reply": "2025-03-10T21:27:52.296657Z"
        },
        "id": "b297fb44",
        "outputId": "d489a8eb-06df-4808-c186-ba52ca365912",
        "papermill": {
          "duration": 0.386287,
          "end_time": "2025-03-10T21:27:52.298930",
          "exception": false,
          "start_time": "2025-03-10T21:27:51.912643",
          "status": "completed"
        },
        "tags": []
      },
      "outputs": [
        {
          "name": "stdout",
          "output_type": "stream",
          "text": [
            "(32, 32, 3)\n"
          ]
        }
      ],
      "source": [
        "# Load test dataset\n",
        "testing_fp = '/content/Dataset/cifar_test_nolabel.pkl'\n",
        "testing_batch = unpickle(testing_fp)\n",
        "testing_data = testing_batch[b'data']\n",
        "\n",
        "print(testing_data[0].shape)"
      ]
    },
    {
      "cell_type": "code",
      "execution_count": null,
      "metadata": {
        "colab": {
          "base_uri": "https://localhost:8080/",
          "height": 124
        },
        "execution": {
          "iopub.execute_input": "2025-03-10T21:27:52.312448Z",
          "iopub.status.busy": "2025-03-10T21:27:52.312160Z",
          "iopub.status.idle": "2025-03-10T21:27:52.616393Z",
          "shell.execute_reply": "2025-03-10T21:27:52.615551Z"
        },
        "id": "c943b96c",
        "outputId": "014a4346-93aa-4190-a19e-08d95a347b70",
        "papermill": {
          "duration": 0.31247,
          "end_time": "2025-03-10T21:27:52.617769",
          "exception": false,
          "start_time": "2025-03-10T21:27:52.305299",
          "status": "completed"
        },
        "tags": []
      },
      "outputs": [
        {
          "data": {
            "image/png": "[encoded data removed]",
            "text/plain": [
              "<Figure size 2000x400 with 10 Axes>"
            ]
          },
          "metadata": {},
          "output_type": "display_data"
        }
      ],
      "source": [
        "# Displaying the first 10 images, since we can't see the labels\n",
        "plt.figure(figsize=(20, 4))\n",
        "for i in range(10):\n",
        "    plt.subplot(1, 10, i+1)\n",
        "    plt.imshow(testing_data[i])\n",
        "    plt.axis('off')\n",
        "plt.show()\n",
        "\n",
        "# [0: airplane, 1: automobile, 2: bird, 3: cat, 4: deer, 5: dog, 6: frog, 7: horse, 8: ship, 9: truck]\n",
        "# So we should expect [6, 1, 8, 6, 9, 7, 8, 2, 9, 5] as the first 10 entries of our final CSV."
      ]
    },
    {
      "cell_type": "code",
      "execution_count": null,
      "metadata": {
        "colab": {
          "base_uri": "https://localhost:8080/"
        },
        "execution": {
          "iopub.execute_input": "2025-03-10T21:27:52.631223Z",
          "iopub.status.busy": "2025-03-10T21:27:52.630954Z",
          "iopub.status.idle": "2025-03-10T21:28:02.905095Z",
          "shell.execute_reply": "2025-03-10T21:28:02.904114Z"
        },
        "id": "c108f8f0",
        "outputId": "acbefbf7-7fdf-4a91-e551-8be818dba2d0",
        "papermill": {
          "duration": 10.2824,
          "end_time": "2025-03-10T21:28:02.906557",
          "exception": false,
          "start_time": "2025-03-10T21:27:52.624157",
          "status": "completed"
        },
        "tags": []
      },
      "outputs": [
        {
          "name": "stdout",
          "output_type": "stream",
          "text": [
            "torch.Size([3, 32, 32])\n"
          ]
        }
      ],
      "source": [
        "# Changing to Tensor and adjusting shape before test\n",
        "testing_data = [(transform_validation(image),) for image in testing_data]\n",
        "print(testing_data[0][0].shape)\n",
        "\n",
        "# DataLoader\n",
        "testing_loader = DataLoader(testing_data, batch_size=128, shuffle=False)"
      ]
    },
    {
      "cell_type": "markdown",
      "metadata": {
        "id": "tcSfJnWKmyln"
      },
      "source": [
        "extract a csv"
      ]
    },
    {
      "cell_type": "code",
      "execution_count": null,
      "metadata": {
        "colab": {
          "base_uri": "https://localhost:8080/"
        },
        "execution": {
          "iopub.execute_input": "2025-03-10T21:28:02.920311Z",
          "iopub.status.busy": "2025-03-10T21:28:02.920056Z",
          "iopub.status.idle": "2025-03-10T21:28:04.850337Z",
          "shell.execute_reply": "2025-03-10T21:28:04.849336Z"
        },
        "id": "0259cc38",
        "outputId": "b05676d6-03e5-4a5c-80e4-e6b11808f201",
        "papermill": {
          "duration": 1.938505,
          "end_time": "2025-03-10T21:28:04.851704",
          "exception": false,
          "start_time": "2025-03-10T21:28:02.913199",
          "status": "completed"
        },
        "tags": []
      },
      "outputs": [
        {
          "name": "stdout",
          "output_type": "stream",
          "text": [
            "Submitted! Check output for submission.csv\n"
          ]
        }
      ],
      "source": [
        "## Final output is file called submission.csv with columns ID, Labels\n",
        "\n",
        "model.eval()\n",
        "test_predictions = []\n",
        "\n",
        "with torch.no_grad():\n",
        "    for batch in testing_loader:\n",
        "        images = batch[0].to(device)\n",
        "        outputs = model(images)\n",
        "        _, predictions = torch.max(outputs, dim=1)\n",
        "        test_predictions.extend(predictions.cpu().numpy())\n",
        "\n",
        "test_predictions_dict = {'ID': np.arange(len(test_predictions)), 'Labels': test_predictions}\n",
        "test_predictions_df = pd.DataFrame(test_predictions_dict)\n",
        "test_predictions_df.to_csv('submission1.csv', index=False)\n",
        "print(\"Submitted! Check output for submission.csv\")"
      ]
    }
  ],
  "metadata": {
    "accelerator": "GPU",
    "colab": {
      "gpuType": "T4",
      "provenance": []
    },
    "kaggle": {
      "accelerator": "nvidiaTeslaT4",
      "dataSources": [
        {
          "databundleVersionId": 11145869,
          "sourceId": 93057,
          "sourceType": "competition"
        },
        {
          "datasetId": 6858149,
          "sourceId": 11014928,
          "sourceType": "datasetVersion"
        }
      ],
      "dockerImageVersionId": 30918,
      "isGpuEnabled": true,
      "isInternetEnabled": false,
      "language": "python",
      "sourceType": "notebook"
    },
    "kernelspec": {
      "display_name": "Python 3",
      "language": "python",
      "name": "python3"
    },
    "language_info": {
      "codemirror_mode": {
        "name": "ipython",
        "version": 3
      },
      "file_extension": ".py",
      "mimetype": "text/x-python",
      "name": "python",
      "nbconvert_exporter": "python",
      "pygments_lexer": "ipython3",
      "version": "3.10.12"
    },
    "papermill": {
      "default_parameters": {},
      "duration": 1728.455653,
      "end_time": "2025-03-10T21:28:07.807104",
      "environment_variables": {},
      "exception": null,
      "input_path": "__notebook__.ipynb",
      "output_path": "__notebook__.ipynb",
      "parameters": {},
      "start_time": "2025-03-10T20:59:19.351451",
      "version": "2.6.0"
    }
  },
  "nbformat": 4,
  "nbformat_minor": 0
}
